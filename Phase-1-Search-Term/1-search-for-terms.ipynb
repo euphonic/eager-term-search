{
 "cells": [
  {
   "cell_type": "code",
   "execution_count": 3,
   "metadata": {
    "ExecuteTime": {
     "end_time": "2017-08-27T18:15:51.501600Z",
     "start_time": "2017-08-27T18:15:50.421600Z"
    }
   },
   "outputs": [],
   "source": [
    "import json\n",
    "import re\n",
    "import pandas as pd"
   ]
  },
  {
   "cell_type": "code",
   "execution_count": 4,
   "metadata": {
    "ExecuteTime": {
     "end_time": "2017-08-27T18:15:51.684600Z",
     "start_time": "2017-08-27T18:15:51.503600Z"
    }
   },
   "outputs": [],
   "source": [
    "patent_data=pd.read_csv(r\"../titles_abstracts_20170307.tsv\", sep=\"\\t\", nrows=10000)"
   ]
  },
  {
   "cell_type": "code",
   "execution_count": 3,
   "metadata": {
    "ExecuteTime": {
     "end_time": "2017-08-27T17:34:36.650000Z",
     "start_time": "2017-08-27T17:34:36.595000Z"
    }
   },
   "outputs": [
    {
     "data": {
      "text/html": [
       "<div>\n",
       "<style>\n",
       "    .dataframe thead tr:only-child th {\n",
       "        text-align: right;\n",
       "    }\n",
       "\n",
       "    .dataframe thead th {\n",
       "        text-align: left;\n",
       "    }\n",
       "\n",
       "    .dataframe tbody tr th {\n",
       "        vertical-align: top;\n",
       "    }\n",
       "</style>\n",
       "<table border=\"1\" class=\"dataframe\">\n",
       "  <thead>\n",
       "    <tr style=\"text-align: right;\">\n",
       "      <th></th>\n",
       "      <th>id</th>\n",
       "      <th>title</th>\n",
       "      <th>abstract</th>\n",
       "    </tr>\n",
       "  </thead>\n",
       "  <tbody>\n",
       "    <tr>\n",
       "      <th>0</th>\n",
       "      <td>3930271</td>\n",
       "      <td>Golf glove</td>\n",
       "      <td>A golf glove is disclosed having an extra fin...</td>\n",
       "    </tr>\n",
       "    <tr>\n",
       "      <th>1</th>\n",
       "      <td>3930272</td>\n",
       "      <td>Crib leg lock</td>\n",
       "      <td>A lock for a height-adjustable crib or plaype...</td>\n",
       "    </tr>\n",
       "    <tr>\n",
       "      <th>2</th>\n",
       "      <td>3930273</td>\n",
       "      <td>Bed safety side rail arrangement</td>\n",
       "      <td>A bed safety side rail arrangement which incl...</td>\n",
       "    </tr>\n",
       "    <tr>\n",
       "      <th>3</th>\n",
       "      <td>3930274</td>\n",
       "      <td>Assembly for use in recreational activities</td>\n",
       "      <td>The assembly includes a longitudinal axis and...</td>\n",
       "    </tr>\n",
       "    <tr>\n",
       "      <th>4</th>\n",
       "      <td>3930275</td>\n",
       "      <td>Method of fabricating a slipper</td>\n",
       "      <td>A novel slipper and its method of fabrication...</td>\n",
       "    </tr>\n",
       "  </tbody>\n",
       "</table>\n",
       "</div>"
      ],
      "text/plain": [
       "        id                                        title  \\\n",
       "0  3930271                                   Golf glove   \n",
       "1  3930272                                Crib leg lock   \n",
       "2  3930273             Bed safety side rail arrangement   \n",
       "3  3930274  Assembly for use in recreational activities   \n",
       "4  3930275              Method of fabricating a slipper   \n",
       "\n",
       "                                            abstract  \n",
       "0   A golf glove is disclosed having an extra fin...  \n",
       "1   A lock for a height-adjustable crib or plaype...  \n",
       "2   A bed safety side rail arrangement which incl...  \n",
       "3   The assembly includes a longitudinal axis and...  \n",
       "4   A novel slipper and its method of fabrication...  "
      ]
     },
     "execution_count": 3,
     "metadata": {},
     "output_type": "execute_result"
    }
   ],
   "source": [
    "patent_data.head()"
   ]
  },
  {
   "cell_type": "code",
   "execution_count": 7,
   "metadata": {},
   "outputs": [],
   "source": [
    "terms={'clauses': ['substan*', 'bound* edg*',{'clauses': ['random*', 'edg*'], 'joinwith': 'AND'}], 'joinwith': 'AND'}"
   ]
  },
  {
   "cell_type": "code",
   "execution_count": 5,
   "metadata": {
    "ExecuteTime": {
     "end_time": "2017-08-27T18:15:54.265600Z",
     "start_time": "2017-08-27T18:15:54.254600Z"
    }
   },
   "outputs": [],
   "source": [
    "with open('./green-technology/dummy.json') as data_file:    \n",
    "    patterns = json.load(data_file)"
   ]
  },
  {
   "cell_type": "code",
   "execution_count": 6,
   "metadata": {
    "ExecuteTime": {
     "end_time": "2017-08-27T17:39:10.740000Z",
     "start_time": "2017-08-27T17:39:10.721000Z"
    }
   },
   "outputs": [
    {
     "data": {
      "text/plain": [
       "[{'id': 1,\n",
       "  'sector': 'General',\n",
       "  'subsector': '',\n",
       "  'terms': {'clauses': ['sustainab*',\n",
       "    'green good*',\n",
       "    'green technolog*',\n",
       "    'green innov*',\n",
       "    'eco*innov*',\n",
       "    'green manufac*',\n",
       "    'green prod*',\n",
       "    'pollut*',\n",
       "    'ecolabel',\n",
       "    'environ* product declarat*',\n",
       "    {'clauses': ['EPD', 'environ*'], 'joinwith': 'AND'},\n",
       "    'environ* prefer* product*',\n",
       "    'environ* label*'],\n",
       "   'joinwith': 'OR'}}]"
      ]
     },
     "execution_count": 6,
     "metadata": {},
     "output_type": "execute_result"
    }
   ],
   "source": [
    "patterns"
   ]
  },
  {
   "cell_type": "code",
   "execution_count": 6,
   "metadata": {
    "ExecuteTime": {
     "end_time": "2017-08-27T18:16:00.558600Z",
     "start_time": "2017-08-27T18:16:00.530600Z"
    }
   },
   "outputs": [],
   "source": [
    "def build_re(terms, regexps):\n",
    "    regexps[\"joinwith\"]=terms[\"joinwith\"]\n",
    "    regexps[\"clauses\"]=[]\n",
    "    for clause in terms[\"clauses\"]:\n",
    "        found_flag=False\n",
    "        if isinstance(clause, dict):\n",
    "            current_reg=build_re(clause,{})\n",
    "        else:\n",
    "            current_expression=clause.replace('*',\"[\\w]*\")\n",
    "            current_expression=current_expression.replace(r\" \",\"[\\s]*?\")\n",
    "            #current_expression=r\".*[ ]*\"+current_expression+\"[ ]*.*\"\n",
    "            if sum(1 for c in clause if c.isupper()) == len(clause):\n",
    "                current_reg= re.compile(current_expression) \n",
    "            else:\n",
    "                current_reg= re.compile(current_expression, re.IGNORECASE) \n",
    "        regexps[\"clauses\"].append(current_reg)\n",
    "    return regexps"
   ]
  },
  {
   "cell_type": "code",
   "execution_count": 7,
   "metadata": {
    "ExecuteTime": {
     "end_time": "2017-08-27T18:16:02.871600Z",
     "start_time": "2017-08-27T18:16:02.845600Z"
    }
   },
   "outputs": [],
   "source": [
    "pattern_with_regexps=[]\n",
    "for pattern in patterns:\n",
    "    pattern_with_regexps.append({\"id\":pattern[\"id\"],\"sector\":pattern[\"sector\"],\"subsector\":pattern[\"subsector\"],\"terms\":build_re(pattern[\"terms\"],{})})"
   ]
  },
  {
   "cell_type": "code",
   "execution_count": 45,
   "metadata": {
    "ExecuteTime": {
     "end_time": "2017-08-27T17:57:09.731000Z",
     "start_time": "2017-08-27T17:57:09.716000Z"
    }
   },
   "outputs": [
    {
     "data": {
      "text/plain": [
       "[{'id': 1,\n",
       "  'sector': 'General',\n",
       "  'subsector': '',\n",
       "  'terms': {'clauses': [re.compile(r'sustainab[\\w]*',\n",
       "    re.IGNORECASE|re.UNICODE),\n",
       "    re.compile(r'green[\\s]*?good[\\w]*', re.IGNORECASE|re.UNICODE),\n",
       "    re.compile(r'green[\\s]*?technolog[\\w]*', re.IGNORECASE|re.UNICODE),\n",
       "    re.compile(r'green[\\s]*?innov[\\w]*', re.IGNORECASE|re.UNICODE),\n",
       "    re.compile(r'eco[\\w]*innov[\\w]*', re.IGNORECASE|re.UNICODE),\n",
       "    re.compile(r'green[\\s]*?manufac[\\w]*', re.IGNORECASE|re.UNICODE),\n",
       "    re.compile(r'green[\\s]*?prod[\\w]*', re.IGNORECASE|re.UNICODE),\n",
       "    re.compile(r'pollut[\\w]*', re.IGNORECASE|re.UNICODE),\n",
       "    re.compile(r'ecolabel', re.IGNORECASE|re.UNICODE),\n",
       "    re.compile(r'environ[\\w]*[\\s]*?product[\\s]*?declarat[\\w]*',\n",
       "    re.IGNORECASE|re.UNICODE),\n",
       "    {'clauses': [re.compile(r'EPD', re.UNICODE),\n",
       "      re.compile(r'environ[\\w]*', re.IGNORECASE|re.UNICODE)],\n",
       "     'joinwith': 'AND'},\n",
       "    re.compile(r'environ[\\w]*[\\s]*?prefer[\\w]*[\\s]*?product[\\w]*',\n",
       "    re.IGNORECASE|re.UNICODE),\n",
       "    re.compile(r'environ[\\w]*[\\s]*?label[\\w]*', re.IGNORECASE|re.UNICODE)],\n",
       "   'joinwith': 'OR'}}]"
      ]
     },
     "execution_count": 45,
     "metadata": {},
     "output_type": "execute_result"
    }
   ],
   "source": [
    "pattern_with_regexps"
   ]
  },
  {
   "cell_type": "code",
   "execution_count": 8,
   "metadata": {
    "ExecuteTime": {
     "end_time": "2017-08-27T18:16:07.042600Z",
     "start_time": "2017-08-27T18:16:06.996600Z"
    }
   },
   "outputs": [
    {
     "name": "stdout",
     "output_type": "stream",
     "text": [
      "<_sre.SRE_Match object; span=(3, 6), match='EPD'>\n"
     ]
    }
   ],
   "source": [
    "test_string=\"no EPDs masters\"\n",
    "print(pattern_with_regexps[0][\"terms\"][\"clauses\"][10][\"clauses\"][0].search(test_string))"
   ]
  },
  {
   "cell_type": "code",
   "execution_count": 51,
   "metadata": {},
   "outputs": [],
   "source": [
    "def search_pattern(string,terms):\n",
    "    for clause in terms[\"clauses\"]:\n",
    "        found_flag=False\n",
    "        # If current element is a dictionary, indicates there is a nested condition\n",
    "        if isinstance(clause, dict):\n",
    "            found_flag=search_pattern(string,clause)\n",
    "        # If not simple pattern checking\n",
    "        else:\n",
    "            try:\n",
    "                if clause.match(string) is not None:\n",
    "                    found_flag=True\n",
    "                else:\n",
    "                    found_flag=False\n",
    "            except:\n",
    "                print(current_expression)\n",
    "        # For OR condition, its sufficient that only one pattern has to match\n",
    "        if terms[\"joinwith\"] == \"OR\" and found_flag ==True:\n",
    "            break\n",
    "        # For AND condition, even one match failure leads to not matching the set of clauses\n",
    "        if terms[\"joinwith\"] == \"AND\" and found_flag ==False:\n",
    "            break\n",
    "    return found_flag"
   ]
  },
  {
   "cell_type": "code",
   "execution_count": 42,
   "metadata": {},
   "outputs": [],
   "source": [
    "# Given a dataframe row and set of patterns returns a series of boolean values indicating if the patterns were found\n",
    "## Called on dataframe using apply function\n",
    "def search_current_row(row, patterns):\n",
    "    match_results={}\n",
    "    for pattern in pattern_with_regexps:\n",
    "        key=pattern[\"sector\"] + \"-\"+pattern[\"subsector\"]\n",
    "        match_results[key ]=search_pattern(row.title, pattern[\"terms\"]) and search_pattern(row.abstract,pattern[\"terms\"])\n",
    "    return pd.Series(match_results)"
   ]
  },
  {
   "cell_type": "code",
   "execution_count": 56,
   "metadata": {},
   "outputs": [],
   "source": [
    "## \"Loop\" through each row and look for patterns\n",
    "match_results=patent_data.apply(search_current_row,1, args=(patterns,) )\n",
    "\n",
    "result_frame = patent_data.join(match_results) \n",
    "\n",
    "## Write all fields leaving out title and abstract\n",
    "result_frame[result_frame.columns.difference(['title','abstract'])].to_csv(\"patent_ids_with_pattern_matches.csv\", index=False)"
   ]
  },
  {
   "cell_type": "code",
   "execution_count": 3,
   "metadata": {},
   "outputs": [
    {
     "data": {
      "text/plain": [
       "10000"
      ]
     },
     "execution_count": 3,
     "metadata": {},
     "output_type": "execute_result"
    }
   ],
   "source": [
    "patent_data.shape[0]"
   ]
  },
  {
   "cell_type": "code",
   "execution_count": 9,
   "metadata": {},
   "outputs": [
    {
     "name": "stdout",
     "output_type": "stream",
     "text": [
      "Start: 1, End: 100000\n",
      "Start: 100001, End: 200000\n",
      "Start: 200001, End: 300000\n",
      "Start: 300001, End: 400000\n",
      "Start: 400001, End: 500000\n",
      "Start: 500001, End: 600000\n",
      "Start: 600001, End: 700000\n",
      "Start: 700001, End: 800000\n",
      "Start: 800001, End: 900000\n",
      "Start: 900001, End: 1000000\n",
      "Start: 1000001, End: 1100000\n",
      "Start: 1100001, End: 1200000\n",
      "Start: 1200001, End: 1300000\n",
      "Start: 1300001, End: 1400000\n",
      "Start: 1400001, End: 1500000\n",
      "Start: 1500001, End: 1600000\n",
      "Start: 1600001, End: 1700000\n",
      "Start: 1700001, End: 1800000\n",
      "Start: 1800001, End: 1900000\n",
      "Start: 1900001, End: 2000000\n",
      "Start: 2000001, End: 2100000\n",
      "Start: 2100001, End: 2200000\n",
      "Start: 2200001, End: 2300000\n",
      "Start: 2300001, End: 2400000\n",
      "Start: 2400001, End: 2500000\n",
      "Start: 2500001, End: 2600000\n",
      "Start: 2600001, End: 2700000\n",
      "Start: 2700001, End: 2800000\n",
      "Start: 2800001, End: 2900000\n",
      "Start: 2900001, End: 3000000\n",
      "Start: 3000001, End: 3100000\n",
      "Start: 3100001, End: 3200000\n",
      "Start: 3200001, End: 3300000\n",
      "Start: 3300001, End: 3400000\n",
      "Start: 3400001, End: 3500000\n",
      "Start: 3500001, End: 3600000\n",
      "Start: 3600001, End: 3700000\n",
      "Start: 3700001, End: 3800000\n",
      "Start: 3800001, End: 3900000\n",
      "Start: 3900001, End: 4000000\n",
      "Start: 4000001, End: 4100000\n",
      "Start: 4100001, End: 4200000\n",
      "Start: 4200001, End: 4300000\n",
      "Start: 4300001, End: 4400000\n",
      "Start: 4400001, End: 4500000\n",
      "Start: 4500001, End: 4600000\n",
      "Start: 4600001, End: 4700000\n",
      "Start: 4700001, End: 4800000\n",
      "Start: 4800001, End: 4900000\n",
      "Start: 4900001, End: 5000000\n",
      "Start: 5000001, End: 5100000\n",
      "Start: 5100001, End: 5200000\n",
      "Start: 5200001, End: 5300000\n"
     ]
    }
   ],
   "source": [
    "start=1\n",
    "for i in range(100000, patent_data.shape[0], 100000):\n",
    "    print(\"Start: \"+str(start)+\", End: \"+str(i))\n",
    "    patent_data.iloc[start:i,:]\n",
    "    start=i+1\n",
    "    "
   ]
  },
  {
   "cell_type": "code",
   "execution_count": 7,
   "metadata": {},
   "outputs": [
    {
     "data": {
      "text/plain": [
       "5380911"
      ]
     },
     "execution_count": 7,
     "metadata": {},
     "output_type": "execute_result"
    }
   ],
   "source": [
    " patent_data.shape[0]"
   ]
  },
  {
   "cell_type": "code",
   "execution_count": 7,
   "metadata": {},
   "outputs": [],
   "source": [
    "green_search_results=pd.read_csv(\"./green csvs/all_patent_green_terms_searches.csv\", low_memory=False)"
   ]
  },
  {
   "cell_type": "code",
   "execution_count": 16,
   "metadata": {},
   "outputs": [],
   "source": [
    "counts=green_search_results.loc[:,green_search_results.columns.difference([\"id\"])].apply(pd.value_counts)"
   ]
  },
  {
   "cell_type": "code",
   "execution_count": 18,
   "metadata": {},
   "outputs": [],
   "source": [
    "counts.to_csv(\"green_terms_search_counts.csv\")"
   ]
  }
 ],
 "metadata": {
  "kernelspec": {
   "display_name": "Python 3",
   "language": "python",
   "name": "python3"
  },
  "language_info": {
   "codemirror_mode": {
    "name": "ipython",
    "version": 3
   },
   "file_extension": ".py",
   "mimetype": "text/x-python",
   "name": "python",
   "nbconvert_exporter": "python",
   "pygments_lexer": "ipython3",
   "version": "3.6.5"
  },
  "toc": {
   "base_numbering": 1,
   "nav_menu": {},
   "number_sections": true,
   "sideBar": true,
   "skip_h1_title": false,
   "title_cell": "Table of Contents",
   "title_sidebar": "Contents",
   "toc_cell": false,
   "toc_position": {},
   "toc_section_display": true,
   "toc_window_display": false
  },
  "varInspector": {
   "cols": {
    "lenName": 16,
    "lenType": 16,
    "lenVar": 40
   },
   "kernels_config": {
    "python": {
     "delete_cmd_postfix": "",
     "delete_cmd_prefix": "del ",
     "library": "var_list.py",
     "varRefreshCmd": "print(var_dic_list())"
    },
    "r": {
     "delete_cmd_postfix": ") ",
     "delete_cmd_prefix": "rm(",
     "library": "var_list.r",
     "varRefreshCmd": "cat(var_dic_list()) "
    }
   },
   "types_to_exclude": [
    "module",
    "function",
    "builtin_function_or_method",
    "instance",
    "_Feature"
   ],
   "window_display": false
  }
 },
 "nbformat": 4,
 "nbformat_minor": 2
}
