{
 "cells": [
  {
   "cell_type": "code",
   "execution_count": 2,
   "metadata": {
    "ExecuteTime": {
     "end_time": "2018-12-19T15:14:39.445388Z",
     "start_time": "2018-12-19T15:14:39.434400Z"
    }
   },
   "outputs": [],
   "source": [
    "import pandas as pd"
   ]
  },
  {
   "cell_type": "code",
   "execution_count": 3,
   "metadata": {
    "ExecuteTime": {
     "end_time": "2018-12-19T15:14:58.820115Z",
     "start_time": "2018-12-19T15:14:40.071263Z"
    }
   },
   "outputs": [],
   "source": [
    "green_patent_results = pd.read_csv(\n",
    "    \"./green-technology/renewable_patent_results.csv\",\n",
    "    dtype={\n",
    "        'Renewable energy-All-purpose': bool,\n",
    "        'Renewable energy-Biomass': bool,\n",
    "        'Renewable energy-Geothermal': bool,\n",
    "        'Renewable energy-Photovoltaic & solar': bool,\n",
    "        'Renewable energy-Wave & Tidal': bool,\n",
    "        'Renewable energy-Wind': bool,\n",
    "        'id': str\n",
    "    })\n",
    "green_selected_patents = green_patent_results[green_patent_results.iloc[:, 0:5]\n",
    "                                              .any(axis=1)]"
   ]
  },
  {
   "cell_type": "code",
   "execution_count": 4,
   "metadata": {
    "ExecuteTime": {
     "end_time": "2018-12-19T15:15:00.873144Z",
     "start_time": "2018-12-19T15:15:00.845306Z"
    }
   },
   "outputs": [
    {
     "data": {
      "text/html": [
       "<div>\n",
       "<style scoped>\n",
       "    .dataframe tbody tr th:only-of-type {\n",
       "        vertical-align: middle;\n",
       "    }\n",
       "\n",
       "    .dataframe tbody tr th {\n",
       "        vertical-align: top;\n",
       "    }\n",
       "\n",
       "    .dataframe thead th {\n",
       "        text-align: right;\n",
       "    }\n",
       "</style>\n",
       "<table border=\"1\" class=\"dataframe\">\n",
       "  <thead>\n",
       "    <tr style=\"text-align: right;\">\n",
       "      <th></th>\n",
       "      <th>Renewable energy-All-purpose</th>\n",
       "      <th>Renewable energy-Biomass</th>\n",
       "      <th>Renewable energy-Geothermal</th>\n",
       "      <th>Renewable energy-Photovoltaic &amp; solar</th>\n",
       "      <th>Renewable energy-Wave &amp; Tidal</th>\n",
       "      <th>Renewable energy-Wind</th>\n",
       "      <th>id</th>\n",
       "    </tr>\n",
       "  </thead>\n",
       "  <tbody>\n",
       "    <tr>\n",
       "      <th>0</th>\n",
       "      <td>False</td>\n",
       "      <td>False</td>\n",
       "      <td>False</td>\n",
       "      <td>False</td>\n",
       "      <td>False</td>\n",
       "      <td>False</td>\n",
       "      <td>3930271</td>\n",
       "    </tr>\n",
       "    <tr>\n",
       "      <th>1</th>\n",
       "      <td>False</td>\n",
       "      <td>False</td>\n",
       "      <td>False</td>\n",
       "      <td>False</td>\n",
       "      <td>False</td>\n",
       "      <td>False</td>\n",
       "      <td>3930272</td>\n",
       "    </tr>\n",
       "    <tr>\n",
       "      <th>2</th>\n",
       "      <td>False</td>\n",
       "      <td>False</td>\n",
       "      <td>False</td>\n",
       "      <td>False</td>\n",
       "      <td>False</td>\n",
       "      <td>False</td>\n",
       "      <td>3930273</td>\n",
       "    </tr>\n",
       "    <tr>\n",
       "      <th>3</th>\n",
       "      <td>False</td>\n",
       "      <td>False</td>\n",
       "      <td>False</td>\n",
       "      <td>False</td>\n",
       "      <td>False</td>\n",
       "      <td>False</td>\n",
       "      <td>3930274</td>\n",
       "    </tr>\n",
       "    <tr>\n",
       "      <th>4</th>\n",
       "      <td>False</td>\n",
       "      <td>False</td>\n",
       "      <td>False</td>\n",
       "      <td>False</td>\n",
       "      <td>False</td>\n",
       "      <td>False</td>\n",
       "      <td>3930275</td>\n",
       "    </tr>\n",
       "  </tbody>\n",
       "</table>\n",
       "</div>"
      ],
      "text/plain": [
       "   Renewable energy-All-purpose  Renewable energy-Biomass  \\\n",
       "0                         False                     False   \n",
       "1                         False                     False   \n",
       "2                         False                     False   \n",
       "3                         False                     False   \n",
       "4                         False                     False   \n",
       "\n",
       "   Renewable energy-Geothermal  Renewable energy-Photovoltaic & solar  \\\n",
       "0                        False                                  False   \n",
       "1                        False                                  False   \n",
       "2                        False                                  False   \n",
       "3                        False                                  False   \n",
       "4                        False                                  False   \n",
       "\n",
       "   Renewable energy-Wave & Tidal  Renewable energy-Wind       id  \n",
       "0                          False                  False  3930271  \n",
       "1                          False                  False  3930272  \n",
       "2                          False                  False  3930273  \n",
       "3                          False                  False  3930274  \n",
       "4                          False                  False  3930275  "
      ]
     },
     "execution_count": 4,
     "metadata": {},
     "output_type": "execute_result"
    }
   ],
   "source": [
    "green_patent_results.head()"
   ]
  },
  {
   "cell_type": "code",
   "execution_count": 5,
   "metadata": {
    "ExecuteTime": {
     "end_time": "2018-12-19T15:15:14.881250Z",
     "start_time": "2018-12-19T15:15:03.500889Z"
    }
   },
   "outputs": [],
   "source": [
    "nano_patent_results = pd.read_csv(\n",
    "    \"nano-technology/nano_patents.csv\",\n",
    "    dtype={\n",
    "        'Biosensor 2 Term': bool,\n",
    "        'Biosensor Term': bool,\n",
    "        'Micro Term': bool,\n",
    "        'Molecular Motor Term': bool,\n",
    "        'Nano Term': bool,\n",
    "        'Quantum Term': bool,\n",
    "        'Quasi Term': bool,\n",
    "        'Self Term': bool,\n",
    "        'exclusion': bool,\n",
    "        'id': str,\n",
    "        'measure_exclusion': bool,\n",
    "        'selection': bool\n",
    "    })\n",
    "nano_selected_patents = nano_patent_results[nano_patent_results.selection]"
   ]
  },
  {
   "cell_type": "code",
   "execution_count": 6,
   "metadata": {
    "ExecuteTime": {
     "end_time": "2018-12-19T15:16:31.042851Z",
     "start_time": "2018-12-19T15:15:15.374226Z"
    }
   },
   "outputs": [],
   "source": [
    "synbio_patent_results = pd.read_csv(\n",
    "    \"green_patent_results_latest.csv\",\n",
    "    dtype={\n",
    "        'Emerging low carbon-Additional energy sources':\n",
    "        bool,\n",
    "        'Emerging low carbon-All-purpose':\n",
    "        bool,\n",
    "        'Emerging low carbon-Alternative fuel':\n",
    "        bool,\n",
    "        'Emerging low carbon-Alternative fuel vehicle':\n",
    "        bool,\n",
    "        'Emerging low carbon-Battery':\n",
    "        bool,\n",
    "        'Emerging low carbon-Building technologies':\n",
    "        bool,\n",
    "        'Emerging low carbon-Carbon capture & storage':\n",
    "        bool,\n",
    "        'Emerging low carbon-Electrochemical processes':\n",
    "        bool,\n",
    "        'Emerging low carbon-Energy management':\n",
    "        bool,\n",
    "        'Environmental-Air pollution':\n",
    "        bool,\n",
    "        'Environmental-All-purpose':\n",
    "        bool,\n",
    "        'Environmental-Biological treatment':\n",
    "        bool,\n",
    "        'Environmental-Contaminated land reclamation & remediation':\n",
    "        bool,\n",
    "        'Environmental-Environmental monitoring, instrumentation and analysis':\n",
    "        bool,\n",
    "        'Environmental-Marine pollution control':\n",
    "        bool,\n",
    "        'Environmental-Noise & vibration control':\n",
    "        bool,\n",
    "        'Environmental-Recovery and recycling':\n",
    "        bool,\n",
    "        'Environmental-Waste management':\n",
    "        bool,\n",
    "        'Environmental-Water supply & waste water treatment':\n",
    "        bool,\n",
    "        'General-':\n",
    "        bool,\n",
    "        'Renewable energy-All-purpose':\n",
    "        bool,\n",
    "        'Renewable energy-Biomass':\n",
    "        bool,\n",
    "        'Renewable energy-Geothermal':\n",
    "        bool,\n",
    "        'Renewable energy-Photovoltaic & solar':\n",
    "        bool,\n",
    "        'Renewable energy-Wave & Tidal':\n",
    "        bool,\n",
    "        'Renewable energy-Wind':\n",
    "        bool,\n",
    "        'id':\n",
    "        str,\n",
    "        'synbio-Bio Tech/Engg':\n",
    "        bool,\n",
    "        'synbio-Cell biology':\n",
    "        bool,\n",
    "        'synbio-Chemical':\n",
    "        bool,\n",
    "        'synbio-General':\n",
    "        bool,\n",
    "        'synbio-Genetics':\n",
    "        bool,\n",
    "        'synbio-Nano technology':\n",
    "        bool\n",
    "    })\n",
    "\n",
    "synbio_selected_patents = synbio_patent_results[\n",
    "    synbio_patent_results.iloc[:, 27:33].any(axis=1)]\n"
   ]
  },
  {
   "cell_type": "code",
   "execution_count": 8,
   "metadata": {
    "ExecuteTime": {
     "end_time": "2018-12-19T15:16:56.868884Z",
     "start_time": "2018-12-19T15:16:54.384933Z"
    }
   },
   "outputs": [
    {
     "name": "stderr",
     "output_type": "stream",
     "text": [
      "/opt/conda/lib/python3.6/site-packages/IPython/core/interactiveshell.py:2785: DtypeWarning: Columns (0) have mixed types. Specify dtype option on import or set low_memory=False.\n",
      "  interactivity=interactivity, compiler=compiler, result=result)\n"
     ]
    }
   ],
   "source": [
    "utility_patent_frame = pd.read_csv(\"./utility_patents.csv\")\n",
    "utility_patent_ids = utility_patent_frame.patent_id.tolist()"
   ]
  },
  {
   "cell_type": "code",
   "execution_count": 9,
   "metadata": {
    "ExecuteTime": {
     "end_time": "2018-12-19T15:21:48.944071Z",
     "start_time": "2018-12-19T15:17:06.375210Z"
    }
   },
   "outputs": [
    {
     "data": {
      "text/plain": [
       "4    998575\n",
       "6    996675\n",
       "7    995738\n",
       "8    994978\n",
       "5    989813\n",
       "9    588005\n",
       "3     69669\n",
       "R        29\n",
       "H         1\n",
       "dtype: int64"
      ]
     },
     "execution_count": 9,
     "metadata": {},
     "output_type": "execute_result"
    }
   ],
   "source": [
    "utility_patent_frame.apply(lambda x: str(x.patent_id)[0],1).value_counts()"
   ]
  },
  {
   "cell_type": "code",
   "execution_count": 10,
   "metadata": {
    "ExecuteTime": {
     "end_time": "2018-12-19T15:23:53.690527Z",
     "start_time": "2018-12-19T15:23:51.742394Z"
    }
   },
   "outputs": [],
   "source": [
    "utility_patent_ids=utility_patent_frame.patent_id.astype(str).tolist()"
   ]
  },
  {
   "cell_type": "code",
   "execution_count": 18,
   "metadata": {
    "ExecuteTime": {
     "end_time": "2018-12-19T15:35:57.131777Z",
     "start_time": "2018-12-19T15:35:57.114307Z"
    }
   },
   "outputs": [
    {
     "data": {
      "text/plain": [
       "5633483"
      ]
     },
     "execution_count": 18,
     "metadata": {},
     "output_type": "execute_result"
    }
   ],
   "source": [
    "len(utility_patent_ids)"
   ]
  },
  {
   "cell_type": "code",
   "execution_count": 21,
   "metadata": {
    "ExecuteTime": {
     "end_time": "2018-12-19T15:36:26.890995Z",
     "start_time": "2018-12-19T15:36:19.945551Z"
    }
   },
   "outputs": [],
   "source": [
    "green_selected_utility_patents = green_selected_patents[\n",
    "    green_selected_patents.id.isin(utility_patent_ids)]\n",
    "synbio_selected_patents = synbio_selected_patents[\n",
    "    synbio_selected_patents.id.isin(utility_patent_ids)]\n",
    "nano_selected_patents = nano_selected_patents[nano_selected_patents.id.isin(\n",
    "    utility_patent_ids)]"
   ]
  },
  {
   "cell_type": "code",
   "execution_count": 20,
   "metadata": {
    "ExecuteTime": {
     "end_time": "2018-12-19T15:36:12.499024Z",
     "start_time": "2018-12-19T15:36:12.488778Z"
    }
   },
   "outputs": [
    {
     "data": {
      "text/plain": [
       "(22077, 7)"
      ]
     },
     "execution_count": 20,
     "metadata": {},
     "output_type": "execute_result"
    }
   ],
   "source": [
    "green_selected_utility_patents.shape"
   ]
  },
  {
   "cell_type": "code",
   "execution_count": 17,
   "metadata": {
    "ExecuteTime": {
     "end_time": "2018-12-19T15:35:49.631684Z",
     "start_time": "2018-12-19T15:35:48.859952Z"
    }
   },
   "outputs": [
    {
     "data": {
      "text/plain": [
       "4    5795\n",
       "8    5577\n",
       "9    3664\n",
       "7    2314\n",
       "5    2292\n",
       "6    2181\n",
       "3     254\n",
       "dtype: int64"
      ]
     },
     "execution_count": 17,
     "metadata": {},
     "output_type": "execute_result"
    }
   ],
   "source": [
    "green_selected_utility_patents.apply(lambda x: str(x.id)[0],1).value_counts()"
   ]
  },
  {
   "cell_type": "code",
   "execution_count": 22,
   "metadata": {
    "ExecuteTime": {
     "end_time": "2018-12-19T15:36:33.773985Z",
     "start_time": "2018-12-19T15:36:33.757293Z"
    }
   },
   "outputs": [
    {
     "data": {
      "text/plain": [
       "(30059, 33)"
      ]
     },
     "execution_count": 22,
     "metadata": {},
     "output_type": "execute_result"
    }
   ],
   "source": [
    "synbio_selected_patents.shape"
   ]
  },
  {
   "cell_type": "code",
   "execution_count": 26,
   "metadata": {
    "ExecuteTime": {
     "end_time": "2018-12-19T15:57:01.005897Z",
     "start_time": "2018-12-19T15:56:59.604409Z"
    },
    "scrolled": true
   },
   "outputs": [
    {
     "data": {
      "text/plain": [
       "6    7317\n",
       "5    6370\n",
       "7    5862\n",
       "8    4595\n",
       "4    3155\n",
       "9    2579\n",
       "3     181\n",
       "dtype: int64"
      ]
     },
     "execution_count": 26,
     "metadata": {},
     "output_type": "execute_result"
    }
   ],
   "source": [
    "synbio_selected_patents.apply(lambda x: str(x.id)[0],1).value_counts()"
   ]
  },
  {
   "cell_type": "code",
   "execution_count": 23,
   "metadata": {
    "ExecuteTime": {
     "end_time": "2018-12-19T15:36:40.802528Z",
     "start_time": "2018-12-19T15:36:40.794289Z"
    }
   },
   "outputs": [
    {
     "data": {
      "text/plain": [
       "(111109, 12)"
      ]
     },
     "execution_count": 23,
     "metadata": {},
     "output_type": "execute_result"
    }
   ],
   "source": [
    "nano_selected_patents.shape"
   ]
  },
  {
   "cell_type": "code",
   "execution_count": 27,
   "metadata": {
    "ExecuteTime": {
     "end_time": "2018-12-19T15:57:14.795467Z",
     "start_time": "2018-12-19T15:57:10.673710Z"
    }
   },
   "outputs": [
    {
     "data": {
      "text/plain": [
       "6    24005\n",
       "7    23684\n",
       "8    21816\n",
       "5    18342\n",
       "9    12879\n",
       "4     9827\n",
       "3      556\n",
       "dtype: int64"
      ]
     },
     "execution_count": 27,
     "metadata": {},
     "output_type": "execute_result"
    }
   ],
   "source": [
    "nano_selected_patents.apply(lambda x: str(x.id)[0],1).value_counts()"
   ]
  },
  {
   "cell_type": "code",
   "execution_count": 25,
   "metadata": {
    "ExecuteTime": {
     "end_time": "2018-12-19T15:38:25.248933Z",
     "start_time": "2018-12-19T15:38:23.644174Z"
    }
   },
   "outputs": [],
   "source": [
    "green_selected_utility_patents.to_csv(\n",
    "    \"green-technology/green_utility_patents_v2.csv\", index=False)\n",
    "synbio_selected_patents.to_csv(\n",
    "    \"synthetic-biology/synbio_utility_patents_v2.csv\", index=False)\n",
    "nano_selected_patents.to_csv(\n",
    "    \"nano-technology/nano_utility_patents_v2.csv\", index=False)"
   ]
  },
  {
   "cell_type": "code",
   "execution_count": null,
   "metadata": {},
   "outputs": [],
   "source": []
  }
 ],
 "metadata": {
  "kernelspec": {
   "display_name": "Python 3",
   "language": "python",
   "name": "python3"
  },
  "toc": {
   "base_numbering": 1,
   "nav_menu": {},
   "number_sections": true,
   "sideBar": true,
   "skip_h1_title": false,
   "title_cell": "Table of Contents",
   "title_sidebar": "Contents",
   "toc_cell": false,
   "toc_position": {},
   "toc_section_display": true,
   "toc_window_display": false
  },
  "varInspector": {
   "cols": {
    "lenName": 16,
    "lenType": 16,
    "lenVar": 40
   },
   "kernels_config": {
    "python": {
     "delete_cmd_postfix": "",
     "delete_cmd_prefix": "del ",
     "library": "var_list.py",
     "varRefreshCmd": "print(var_dic_list())"
    },
    "r": {
     "delete_cmd_postfix": ") ",
     "delete_cmd_prefix": "rm(",
     "library": "var_list.r",
     "varRefreshCmd": "cat(var_dic_list()) "
    }
   },
   "types_to_exclude": [
    "module",
    "function",
    "builtin_function_or_method",
    "instance",
    "_Feature"
   ],
   "window_display": false
  }
 },
 "nbformat": 4,
 "nbformat_minor": 2
}
