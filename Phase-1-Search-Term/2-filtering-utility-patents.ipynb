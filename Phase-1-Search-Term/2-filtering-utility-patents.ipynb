{
 "cells": [
  {
   "cell_type": "code",
   "execution_count": 2,
   "metadata": {
    "ExecuteTime": {
     "end_time": "2017-09-13T20:14:21.639922Z",
     "start_time": "2017-09-13T20:14:20.610302Z"
    }
   },
   "outputs": [],
   "source": [
    "import pandas as pd"
   ]
  },
  {
   "cell_type": "code",
   "execution_count": 3,
   "metadata": {
    "ExecuteTime": {
     "end_time": "2017-09-13T20:14:28.238849Z",
     "start_time": "2017-09-13T20:14:21.639922Z"
    }
   },
   "outputs": [],
   "source": [
    "green_patent_results = pd.read_csv(\n",
    "    \"./green-technology/renewable_patent_results.csv\",\n",
    "    dtype={\n",
    "        'Renewable energy-All-purpose': bool,\n",
    "        'Renewable energy-Biomass': bool,\n",
    "        'Renewable energy-Geothermal': bool,\n",
    "        'Renewable energy-Photovoltaic & solar': bool,\n",
    "        'Renewable energy-Wave & Tidal': bool,\n",
    "        'Renewable energy-Wind': bool,\n",
    "        'id': str\n",
    "    })\n",
    "green_selected_patents = green_patent_results[green_patent_results.iloc[:, 0:5]\n",
    "                                              .any(axis=1)]"
   ]
  },
  {
   "cell_type": "code",
   "execution_count": 4,
   "metadata": {
    "ExecuteTime": {
     "end_time": "2017-09-13T20:14:37.730635Z",
     "start_time": "2017-09-13T20:14:28.238849Z"
    }
   },
   "outputs": [],
   "source": [
    "nano_patent_results = pd.read_csv(\n",
    "    \"nano-technology/nano_patents.csv\",\n",
    "    dtype={\n",
    "        'Biosensor 2 Term': bool,\n",
    "        'Biosensor Term': bool,\n",
    "        'Micro Term': bool,\n",
    "        'Molecular Motor Term': bool,\n",
    "        'Nano Term': bool,\n",
    "        'Quantum Term': bool,\n",
    "        'Quasi Term': bool,\n",
    "        'Self Term': bool,\n",
    "        'exclusion': bool,\n",
    "        'id': str,\n",
    "        'measure_exclusion': bool,\n",
    "        'selection': bool\n",
    "    })\n",
    "nano_selected_patents = nano_patent_results[nano_patent_results.selection]"
   ]
  },
  {
   "cell_type": "code",
   "execution_count": 1,
   "metadata": {
    "ExecuteTime": {
     "end_time": "2018-09-19T20:45:41.004571Z",
     "start_time": "2018-09-19T20:45:40.804689Z"
    }
   },
   "outputs": [
    {
     "ename": "NameError",
     "evalue": "name 'pd' is not defined",
     "output_type": "error",
     "traceback": [
      "\u001b[0;31m---------------------------------------------------------------------------\u001b[0m",
      "\u001b[0;31mNameError\u001b[0m                                 Traceback (most recent call last)",
      "\u001b[0;32m<ipython-input-1-b37b5eb8bfa4>\u001b[0m in \u001b[0;36m<module>\u001b[0;34m()\u001b[0m\n\u001b[0;32m----> 1\u001b[0;31m synbio_patent_results = pd.read_csv(\n\u001b[0m\u001b[1;32m      2\u001b[0m     \u001b[0;34m\"green_patent_results_latest.csv\"\u001b[0m\u001b[0;34m,\u001b[0m\u001b[0;34m\u001b[0m\u001b[0m\n\u001b[1;32m      3\u001b[0m     dtype={\n\u001b[1;32m      4\u001b[0m         \u001b[0;34m'Emerging low carbon-Additional energy sources'\u001b[0m\u001b[0;34m:\u001b[0m\u001b[0;34m\u001b[0m\u001b[0m\n\u001b[1;32m      5\u001b[0m         \u001b[0mbool\u001b[0m\u001b[0;34m,\u001b[0m\u001b[0;34m\u001b[0m\u001b[0m\n",
      "\u001b[0;31mNameError\u001b[0m: name 'pd' is not defined"
     ]
    }
   ],
   "source": [
    "synbio_patent_results = pd.read_csv(\n",
    "    \"green_patent_results_latest.csv\",\n",
    "    dtype={\n",
    "        'Emerging low carbon-Additional energy sources':\n",
    "        bool,\n",
    "        'Emerging low carbon-All-purpose':\n",
    "        bool,\n",
    "        'Emerging low carbon-Alternative fuel':\n",
    "        bool,\n",
    "        'Emerging low carbon-Alternative fuel vehicle':\n",
    "        bool,\n",
    "        'Emerging low carbon-Battery':\n",
    "        bool,\n",
    "        'Emerging low carbon-Building technologies':\n",
    "        bool,\n",
    "        'Emerging low carbon-Carbon capture & storage':\n",
    "        bool,\n",
    "        'Emerging low carbon-Electrochemical processes':\n",
    "        bool,\n",
    "        'Emerging low carbon-Energy management':\n",
    "        bool,\n",
    "        'Environmental-Air pollution':\n",
    "        bool,\n",
    "        'Environmental-All-purpose':\n",
    "        bool,\n",
    "        'Environmental-Biological treatment':\n",
    "        bool,\n",
    "        'Environmental-Contaminated land reclamation & remediation':\n",
    "        bool,\n",
    "        'Environmental-Environmental monitoring, instrumentation and analysis':\n",
    "        bool,\n",
    "        'Environmental-Marine pollution control':\n",
    "        bool,\n",
    "        'Environmental-Noise & vibration control':\n",
    "        bool,\n",
    "        'Environmental-Recovery and recycling':\n",
    "        bool,\n",
    "        'Environmental-Waste management':\n",
    "        bool,\n",
    "        'Environmental-Water supply & waste water treatment':\n",
    "        bool,\n",
    "        'General-':\n",
    "        bool,\n",
    "        'Renewable energy-All-purpose':\n",
    "        bool,\n",
    "        'Renewable energy-Biomass':\n",
    "        bool,\n",
    "        'Renewable energy-Geothermal':\n",
    "        bool,\n",
    "        'Renewable energy-Photovoltaic & solar':\n",
    "        bool,\n",
    "        'Renewable energy-Wave & Tidal':\n",
    "        bool,\n",
    "        'Renewable energy-Wind':\n",
    "        bool,\n",
    "        'id':\n",
    "        str,\n",
    "        'synbio-Bio Tech/Engg':\n",
    "        bool,\n",
    "        'synbio-Cell biology':\n",
    "        bool,\n",
    "        'synbio-Chemical':\n",
    "        bool,\n",
    "        'synbio-General':\n",
    "        bool,\n",
    "        'synbio-Genetics':\n",
    "        bool,\n",
    "        'synbio-Nano technology':\n",
    "        bool\n",
    "    })\n",
    "\n",
    "synbio_selected_patents = synbio_patent_results[\n",
    "    synbio_patent_results.iloc[:, 27:33].any(axis=1)]\n"
   ]
  },
  {
   "cell_type": "code",
   "execution_count": 7,
   "metadata": {
    "ExecuteTime": {
     "end_time": "2017-09-13T20:15:11.476090Z",
     "start_time": "2017-09-13T20:15:09.853659Z"
    }
   },
   "outputs": [
    {
     "name": "stderr",
     "output_type": "stream",
     "text": [
      "C:\\Users\\smadhavan\\AppData\\Local\\Continuum\\Anaconda3\\lib\\site-packages\\IPython\\core\\interactiveshell.py:2717: DtypeWarning: Columns (0) have mixed types. Specify dtype option on import or set low_memory=False.\n",
      "  interactivity=interactivity, compiler=compiler, result=result)\n"
     ]
    }
   ],
   "source": [
    "utility_patent_frame = pd.read_csv(\"./utility_patents.csv\")\n",
    "utility_patent_ids = utility_patent_frame.patent_id.tolist()"
   ]
  },
  {
   "cell_type": "code",
   "execution_count": 8,
   "metadata": {
    "ExecuteTime": {
     "end_time": "2017-09-13T20:15:13.644532Z",
     "start_time": "2017-09-13T20:15:11.476090Z"
    }
   },
   "outputs": [],
   "source": [
    "green_selected_utility_patents = green_selected_patents[\n",
    "    green_selected_patents.id.isin(utility_patent_ids)]\n",
    "synbio_selected_patents = synbio_selected_patents[\n",
    "    synbio_selected_patents.id.isin(utility_patent_ids)]\n",
    "nano_selected_patents = nano_selected_patents[nano_selected_patents.id.isin(\n",
    "    utility_patent_ids)]"
   ]
  },
  {
   "cell_type": "code",
   "execution_count": 9,
   "metadata": {
    "ExecuteTime": {
     "end_time": "2017-09-13T20:17:03.945691Z",
     "start_time": "2017-09-13T20:17:03.914491Z"
    }
   },
   "outputs": [
    {
     "data": {
      "text/plain": [
       "(2436, 7)"
      ]
     },
     "execution_count": 9,
     "metadata": {},
     "output_type": "execute_result"
    }
   ],
   "source": [
    "green_selected_utility_patents.shape"
   ]
  },
  {
   "cell_type": "code",
   "execution_count": 20,
   "metadata": {
    "ExecuteTime": {
     "end_time": "2017-09-08T20:14:46.493797Z",
     "start_time": "2017-09-08T20:14:46.319797Z"
    }
   },
   "outputs": [],
   "source": [
    "green_selected_utility_patents.to_csv(\n",
    "    \"green-technology/green_utility_patents.csv\", index=False)\n",
    "synbio_selected_patents.to_csv(\n",
    "    \"synthetic-biology/synbio_utility_patents.csv\", index=False)\n",
    "nano_selected_patents.to_csv(\n",
    "    \"nano-technology/nano_utility_patents.csv\", index=False)"
   ]
  }
 ],
 "metadata": {
  "kernelspec": {
   "display_name": "Python 3",
   "language": "python",
   "name": "python3"
  },
  "language_info": {
   "codemirror_mode": {
    "name": "ipython",
    "version": 3
   },
   "file_extension": ".py",
   "mimetype": "text/x-python",
   "name": "python",
   "nbconvert_exporter": "python",
   "pygments_lexer": "ipython3",
   "version": "3.6.5"
  },
  "toc": {
   "base_numbering": 1,
   "nav_menu": {},
   "number_sections": true,
   "sideBar": true,
   "skip_h1_title": false,
   "title_cell": "Table of Contents",
   "title_sidebar": "Contents",
   "toc_cell": false,
   "toc_position": {},
   "toc_section_display": true,
   "toc_window_display": false
  },
  "varInspector": {
   "cols": {
    "lenName": 16,
    "lenType": 16,
    "lenVar": 40
   },
   "kernels_config": {
    "python": {
     "delete_cmd_postfix": "",
     "delete_cmd_prefix": "del ",
     "library": "var_list.py",
     "varRefreshCmd": "print(var_dic_list())"
    },
    "r": {
     "delete_cmd_postfix": ") ",
     "delete_cmd_prefix": "rm(",
     "library": "var_list.r",
     "varRefreshCmd": "cat(var_dic_list()) "
    }
   },
   "types_to_exclude": [
    "module",
    "function",
    "builtin_function_or_method",
    "instance",
    "_Feature"
   ],
   "window_display": false
  }
 },
 "nbformat": 4,
 "nbformat_minor": 2
}
