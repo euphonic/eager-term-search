{
 "cells": [
  {
   "cell_type": "code",
   "execution_count": 2,
   "metadata": {
    "ExecuteTime": {
     "end_time": "2017-09-13T21:33:29.203028Z",
     "start_time": "2017-09-13T21:33:28.142140Z"
    }
   },
   "outputs": [],
   "source": [
    "import pandas as pd"
   ]
  },
  {
   "cell_type": "code",
   "execution_count": 5,
   "metadata": {
    "ExecuteTime": {
     "end_time": "2017-09-13T21:34:03.629499Z",
     "start_time": "2017-09-13T21:34:03.567094Z"
    }
   },
   "outputs": [],
   "source": [
    "patent_results = pd.read_csv(\n",
    "    \"../Phase-1-Search-Term/green-technology/green_utility_patents.csv\",\n",
    "    dtype={\n",
    "        'Emerging low carbon-Additional energy sources': bool,\n",
    "        'Emerging low carbon-All-purpose': bool,\n",
    "        'Emerging low carbon-Alternative fuel': bool,\n",
    "        'Emerging low carbon-Alternative fuel vehicle': bool,\n",
    "        'Emerging low carbon-Battery': bool,\n",
    "        'Emerging low carbon-Building technologies': bool,\n",
    "        'Emerging low carbon-Carbon capture & storage': bool,\n",
    "        'Emerging low carbon-Electrochemical processes': bool,\n",
    "        'Emerging low carbon-Energy management': bool,\n",
    "        'Environmental-Air pollution': bool,\n",
    "        'Environmental-All-purpose': bool,\n",
    "        'Environmental-Biological treatment': bool,\n",
    "        'Environmental-Contaminated land reclamation & remediation': bool,\n",
    "        'Environmental-Environmental monitoring, instrumentation and analysis': bool,\n",
    "        'Environmental-Marine pollution control': bool,\n",
    "        'Environmental-Noise & vibration control': bool,\n",
    "        'Environmental-Recovery and recycling': bool,\n",
    "        'Environmental-Waste management': bool,\n",
    "        'Environmental-Water supply & waste water treatment': bool,\n",
    "        'General-': bool,\n",
    "        'Renewable energy-All-purpose': bool,\n",
    "        'Renewable energy-Biomass': bool,\n",
    "        'Renewable energy-Geothermal': bool,\n",
    "        'Renewable energy-Photovoltaic & solar': bool,\n",
    "        'Renewable energy-Wave & Tidal': bool,\n",
    "        'Renewable energy-Wind': bool,\n",
    "        'id': str,\n",
    "        'synbio-Bio Tech/Engg': bool,\n",
    "        'synbio-Cell biology': bool,\n",
    "        'synbio-Chemical': bool,\n",
    "        'synbio-General': bool,\n",
    "        'synbio-Genetics': bool,\n",
    "        'synbio-Nano technology': bool\n",
    "    })\n",
    "\n",
    "patent_results.id = patent_results.id.astype(str)\n",
    "patent_results = patent_results[patent_results.id != \"nan\"]\n",
    "\n",
    "green_selected_patents = patent_results[patent_results.iloc[:, :26].any(axis=1)]\n"
   ]
  },
  {
   "cell_type": "code",
   "execution_count": 4,
   "metadata": {
    "ExecuteTime": {
     "end_time": "2017-09-06T16:47:13.762112Z",
     "start_time": "2017-09-06T16:47:11.500069Z"
    }
   },
   "outputs": [],
   "source": [
    "   \n",
    "green_selected_patents = patent_results[patent_results.iloc[:, :26].any(axis=1)]\n",
    "\n",
    "\n",
    "synbio_selected_patents = patent_results[patent_results.iloc[:, 27:33].any(axis=1)]\n"
   ]
  },
  {
   "cell_type": "code",
   "execution_count": 6,
   "metadata": {
    "ExecuteTime": {
     "end_time": "2017-09-13T21:34:23.825783Z",
     "start_time": "2017-09-13T21:34:23.778979Z"
    }
   },
   "outputs": [
    {
     "data": {
      "text/plain": [
       "[('Renewable energy-All-purpose', 28),\n",
       " ('Renewable energy-Biomass', 24),\n",
       " ('Renewable energy-Geothermal', 27),\n",
       " ('Renewable energy-Photovoltaic & solar', 37),\n",
       " ('Renewable energy-Wave & Tidal', 29),\n",
       " ('Renewable energy-Wind', 21),\n",
       " ('id', 2)]"
      ]
     },
     "execution_count": 6,
     "metadata": {},
     "output_type": "execute_result"
    }
   ],
   "source": [
    "green_selected_patents.drop_duplicates(inplace=True)\n",
    "\n",
    "green_selected_patents.head()\n",
    "\n",
    "[(x, len(x)) for x in green_selected_patents.columns]\n",
    "\n"
   ]
  },
  {
   "cell_type": "code",
   "execution_count": 8,
   "metadata": {
    "ExecuteTime": {
     "end_time": "2017-09-13T22:21:45.360466Z",
     "start_time": "2017-09-13T22:21:45.282464Z"
    }
   },
   "outputs": [],
   "source": [
    "green_selected_patents.iloc[:, :\n",
    "                            6] = green_selected_patents.iloc[:, :6].apply(\n",
    "                                lambda x: (x.astype(int)))\n",
    "\n",
    "\n",
    "green_selected_patents.to_csv(\n",
    "    \"green_selected_patents_column_length_limited.csv\", index=False)"
   ]
  },
  {
   "cell_type": "code",
   "execution_count": null,
   "metadata": {},
   "outputs": [],
   "source": [
    "patent_results = pd.read_csv(\n",
    "    \"../Phase-1-Search-Term/synthetic-biology/green_utility_patents.csv\",\n",
    "    dtype={\n",
    "        'Emerging low carbon-Additional energy sources': bool,\n",
    "        'Emerging low carbon-All-purpose': bool,\n",
    "        'Emerging low carbon-Alternative fuel': bool,\n",
    "        'Emerging low carbon-Alternative fuel vehicle': bool,\n",
    "        'Emerging low carbon-Battery': bool,\n",
    "        'Emerging low carbon-Building technologies': bool,\n",
    "        'Emerging low carbon-Carbon capture & storage': bool,\n",
    "        'Emerging low carbon-Electrochemical processes': bool,\n",
    "        'Emerging low carbon-Energy management': bool,\n",
    "        'Environmental-Air pollution': bool,\n",
    "        'Environmental-All-purpose': bool,\n",
    "        'Environmental-Biological treatment': bool,\n",
    "        'Environmental-Contaminated land reclamation & remediation': bool,\n",
    "        'Environmental-Environmental monitoring, instrumentation and analysis': bool,\n",
    "        'Environmental-Marine pollution control': bool,\n",
    "        'Environmental-Noise & vibration control': bool,\n",
    "        'Environmental-Recovery and recycling': bool,\n",
    "        'Environmental-Waste management': bool,\n",
    "        'Environmental-Water supply & waste water treatment': bool,\n",
    "        'General-': bool,\n",
    "        'Renewable energy-All-purpose': bool,\n",
    "        'Renewable energy-Biomass': bool,\n",
    "        'Renewable energy-Geothermal': bool,\n",
    "        'Renewable energy-Photovoltaic & solar': bool,\n",
    "        'Renewable energy-Wave & Tidal': bool,\n",
    "        'Renewable energy-Wind': bool,\n",
    "        'id': str,\n",
    "        'synbio-Bio Tech/Engg': bool,\n",
    "        'synbio-Cell biology': bool,\n",
    "        'synbio-Chemical': bool,\n",
    "        'synbio-General': bool,\n",
    "        'synbio-Genetics': bool,\n",
    "        'synbio-Nano technology': bool\n",
    "    })\n",
    "\n",
    "patent_results.id = patent_results.id.astype(str)\n",
    "patent_results = patent_results[patent_results.id != \"nan\"]\n",
    "\n",
    "green_selected_patents = patent_results[patent_results.iloc[:, :26].any(axis=1)]\n"
   ]
  },
  {
   "cell_type": "code",
   "execution_count": 46,
   "metadata": {
    "ExecuteTime": {
     "end_time": "2017-09-06T20:03:06.907191Z",
     "start_time": "2017-09-06T20:03:05.313938Z"
    }
   },
   "outputs": [
    {
     "name": "stderr",
     "output_type": "stream",
     "text": [
      "C:\\Users\\smadhavan\\AppData\\Local\\Continuum\\Anaconda3\\lib\\site-packages\\ipykernel_launcher.py:1: SettingWithCopyWarning: \n",
      "A value is trying to be set on a copy of a slice from a DataFrame\n",
      "\n",
      "See the caveats in the documentation: http://pandas.pydata.org/pandas-docs/stable/indexing.html#indexing-view-versus-copy\n",
      "  \"\"\"Entry point for launching an IPython kernel.\n",
      "C:\\Users\\smadhavan\\AppData\\Local\\Continuum\\Anaconda3\\lib\\site-packages\\pandas\\core\\indexing.py:517: SettingWithCopyWarning: \n",
      "A value is trying to be set on a copy of a slice from a DataFrame.\n",
      "Try using .loc[row_indexer,col_indexer] = value instead\n",
      "\n",
      "See the caveats in the documentation: http://pandas.pydata.org/pandas-docs/stable/indexing.html#indexing-view-versus-copy\n",
      "  self.obj[item] = s\n"
     ]
    }
   ],
   "source": [
    "synbio_selected_patents.drop_duplicates(inplace=True)\n",
    "\n",
    "synbio_selected_patents.columns=list(synbio_selected_patents.columns[:13]) + [\"Environmental monitoring, instrument and analysis\"] + list(synbio_selected_patents.columns[14:])\n",
    "\n",
    "synbio_selected_patents.iloc[:,:26]=synbio_selected_patents.iloc[:,:26].apply(lambda x : (x.astype(int)))\n",
    "\n",
    "synbio_selected_patents.iloc[:,27:]=synbio_selected_patents.iloc[:,27:].apply(lambda x : (x.astype(int)))\n",
    "\n",
    "synbio_selected_patents.to_csv(\"synbio_selected_patents_column_length_limited.csv\", index=False)"
   ]
  },
  {
   "cell_type": "code",
   "execution_count": 48,
   "metadata": {
    "ExecuteTime": {
     "end_time": "2017-09-06T20:54:54.684976Z",
     "start_time": "2017-09-06T20:54:42.938101Z"
    }
   },
   "outputs": [],
   "source": [
    "nano_patent_results = pd.read_csv(\n",
    "    \"../Phase-1-Search-Term/nano-technology/nano_patents.csv\",\n",
    "    dtype={\n",
    "        'Biosensor 2 Term': bool,\n",
    "        'Biosensor Term': bool,\n",
    "        'Micro Term': bool,\n",
    "        'Molecular Motor Term': bool,\n",
    "        'Nano Term': bool,\n",
    "        'Quantum Term': bool,\n",
    "        'Quasi Term': bool,\n",
    "        'Self Term': bool,\n",
    "        'exclusion': bool,\n",
    "        'id': str,\n",
    "        'measure_exclusion': bool,\n",
    "        'selection': bool\n",
    "    })\n",
    "\n",
    "nano_patent_results.id = patent_results.id.astype(str)\n",
    "nano_patent_results = patent_results[patent_results.id != \"nan\"]\n"
   ]
  },
  {
   "cell_type": "code",
   "execution_count": 127,
   "metadata": {
    "ExecuteTime": {
     "end_time": "2017-09-06T21:18:16.112657Z",
     "start_time": "2017-09-06T21:18:15.909853Z"
    }
   },
   "outputs": [
    {
     "name": "stderr",
     "output_type": "stream",
     "text": [
      "C:\\Users\\smadhavan\\AppData\\Local\\Continuum\\Anaconda3\\lib\\site-packages\\ipykernel_launcher.py:2: SettingWithCopyWarning: \n",
      "A value is trying to be set on a copy of a slice from a DataFrame\n",
      "\n",
      "See the caveats in the documentation: http://pandas.pydata.org/pandas-docs/stable/indexing.html#indexing-view-versus-copy\n",
      "  \n"
     ]
    }
   ],
   "source": [
    "nano_selected_patents=nano_patent_results[nano_patent_results.selection]\n",
    "nano_selected_patents.drop_duplicates(inplace=True)"
   ]
  },
  {
   "cell_type": "code",
   "execution_count": 128,
   "metadata": {
    "ExecuteTime": {
     "end_time": "2017-09-06T21:18:19.029913Z",
     "start_time": "2017-09-06T21:18:18.639906Z"
    }
   },
   "outputs": [
    {
     "name": "stderr",
     "output_type": "stream",
     "text": [
      "C:\\Users\\smadhavan\\AppData\\Local\\Continuum\\Anaconda3\\lib\\site-packages\\pandas\\core\\indexing.py:517: SettingWithCopyWarning: \n",
      "A value is trying to be set on a copy of a slice from a DataFrame.\n",
      "Try using .loc[row_indexer,col_indexer] = value instead\n",
      "\n",
      "See the caveats in the documentation: http://pandas.pydata.org/pandas-docs/stable/indexing.html#indexing-view-versus-copy\n",
      "  self.obj[item] = s\n"
     ]
    }
   ],
   "source": [
    "nano_selected_patents.iloc[:,:9]=nano_selected_patents.iloc[:,:9].apply(lambda x : (x.astype(int)))\n",
    "nano_selected_patents.iloc[:,10:]=nano_selected_patents.iloc[:,10:].apply(lambda x : (x.astype(float)))"
   ]
  },
  {
   "cell_type": "code",
   "execution_count": 130,
   "metadata": {
    "ExecuteTime": {
     "end_time": "2017-09-06T21:21:21.097315Z",
     "start_time": "2017-09-06T21:21:20.161297Z"
    }
   },
   "outputs": [],
   "source": [
    "nano_selected_patents.to_csv(\"nano_selected_patents_column_length_limited.csv\", index=False)"
   ]
  }
 ],
 "metadata": {
  "kernelspec": {
   "display_name": "Python 3",
   "language": "python",
   "name": "python3"
  },
  "language_info": {
   "codemirror_mode": {
    "name": "ipython",
    "version": 3
   },
   "file_extension": ".py",
   "mimetype": "text/x-python",
   "name": "python",
   "nbconvert_exporter": "python",
   "pygments_lexer": "ipython3",
   "version": "3.6.5"
  },
  "varInspector": {
   "cols": {
    "lenName": 16,
    "lenType": 16,
    "lenVar": 40
   },
   "kernels_config": {
    "python": {
     "delete_cmd_postfix": "",
     "delete_cmd_prefix": "del ",
     "library": "var_list.py",
     "varRefreshCmd": "print(var_dic_list())"
    },
    "r": {
     "delete_cmd_postfix": ") ",
     "delete_cmd_prefix": "rm(",
     "library": "var_list.r",
     "varRefreshCmd": "cat(var_dic_list()) "
    }
   },
   "types_to_exclude": [
    "module",
    "function",
    "builtin_function_or_method",
    "instance",
    "_Feature"
   ],
   "window_display": false
  }
 },
 "nbformat": 4,
 "nbformat_minor": 2
}
