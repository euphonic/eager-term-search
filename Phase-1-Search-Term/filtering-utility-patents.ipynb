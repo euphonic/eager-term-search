{
 "cells": [
  {
   "cell_type": "code",
   "execution_count": 2,
   "metadata": {
    "ExecuteTime": {
     "end_time": "2017-09-13T20:14:21.639922Z",
     "start_time": "2017-09-13T20:14:20.610302Z"
    },
    "collapsed": true
   },
   "outputs": [],
   "source": [
    "import pandas as pd"
   ]
  },
  {
   "cell_type": "code",
   "execution_count": 3,
   "metadata": {
    "ExecuteTime": {
     "end_time": "2017-09-13T20:14:28.238849Z",
     "start_time": "2017-09-13T20:14:21.639922Z"
    },
    "collapsed": true
   },
   "outputs": [],
   "source": [
    "green_patent_results = pd.read_csv(\n",
    "    \"./green-technology/renewable_patent_results.csv\",\n",
    "    dtype={\n",
    "        'Renewable energy-All-purpose': bool,\n",
    "        'Renewable energy-Biomass': bool,\n",
    "        'Renewable energy-Geothermal': bool,\n",
    "        'Renewable energy-Photovoltaic & solar': bool,\n",
    "        'Renewable energy-Wave & Tidal': bool,\n",
    "        'Renewable energy-Wind': bool,\n",
    "        'id': str\n",
    "    })"
   ]
  },
  {
   "cell_type": "code",
   "execution_count": 4,
   "metadata": {
    "ExecuteTime": {
     "end_time": "2017-09-13T20:14:37.730635Z",
     "start_time": "2017-09-13T20:14:28.238849Z"
    },
    "collapsed": true
   },
   "outputs": [],
   "source": [
    "nano_patent_results = pd.read_csv(\n",
    "    \"nano-technology/nano_patents.csv\",\n",
    "    dtype={\n",
    "        'Biosensor 2 Term': bool,\n",
    "        'Biosensor Term': bool,\n",
    "        'Micro Term': bool,\n",
    "        'Molecular Motor Term': bool,\n",
    "        'Nano Term': bool,\n",
    "        'Quantum Term': bool,\n",
    "        'Quasi Term': bool,\n",
    "        'Self Term': bool,\n",
    "        'exclusion': bool,\n",
    "        'id': str,\n",
    "        'measure_exclusion': bool,\n",
    "        'selection': bool\n",
    "    })"
   ]
  },
  {
   "cell_type": "code",
   "execution_count": 5,
   "metadata": {
    "ExecuteTime": {
     "end_time": "2017-09-13T20:15:08.792839Z",
     "start_time": "2017-09-13T20:14:37.730635Z"
    },
    "collapsed": true
   },
   "outputs": [],
   "source": [
    "synbio_patent_results = pd.read_csv(\n",
    "    \"green_patent_results_latest.csv\",\n",
    "    dtype={\n",
    "        'Emerging low carbon-Additional energy sources':\n",
    "        bool,\n",
    "        'Emerging low carbon-All-purpose':\n",
    "        bool,\n",
    "        'Emerging low carbon-Alternative fuel':\n",
    "        bool,\n",
    "        'Emerging low carbon-Alternative fuel vehicle':\n",
    "        bool,\n",
    "        'Emerging low carbon-Battery':\n",
    "        bool,\n",
    "        'Emerging low carbon-Building technologies':\n",
    "        bool,\n",
    "        'Emerging low carbon-Carbon capture & storage':\n",
    "        bool,\n",
    "        'Emerging low carbon-Electrochemical processes':\n",
    "        bool,\n",
    "        'Emerging low carbon-Energy management':\n",
    "        bool,\n",
    "        'Environmental-Air pollution':\n",
    "        bool,\n",
    "        'Environmental-All-purpose':\n",
    "        bool,\n",
    "        'Environmental-Biological treatment':\n",
    "        bool,\n",
    "        'Environmental-Contaminated land reclamation & remediation':\n",
    "        bool,\n",
    "        'Environmental-Environmental monitoring, instrumentation and analysis':\n",
    "        bool,\n",
    "        'Environmental-Marine pollution control':\n",
    "        bool,\n",
    "        'Environmental-Noise & vibration control':\n",
    "        bool,\n",
    "        'Environmental-Recovery and recycling':\n",
    "        bool,\n",
    "        'Environmental-Waste management':\n",
    "        bool,\n",
    "        'Environmental-Water supply & waste water treatment':\n",
    "        bool,\n",
    "        'General-':\n",
    "        bool,\n",
    "        'Renewable energy-All-purpose':\n",
    "        bool,\n",
    "        'Renewable energy-Biomass':\n",
    "        bool,\n",
    "        'Renewable energy-Geothermal':\n",
    "        bool,\n",
    "        'Renewable energy-Photovoltaic & solar':\n",
    "        bool,\n",
    "        'Renewable energy-Wave & Tidal':\n",
    "        bool,\n",
    "        'Renewable energy-Wind':\n",
    "        bool,\n",
    "        'id':\n",
    "        str,\n",
    "        'synbio-Bio Tech/Engg':\n",
    "        bool,\n",
    "        'synbio-Cell biology':\n",
    "        bool,\n",
    "        'synbio-Chemical':\n",
    "        bool,\n",
    "        'synbio-General':\n",
    "        bool,\n",
    "        'synbio-Genetics':\n",
    "        bool,\n",
    "        'synbio-Nano technology':\n",
    "        bool\n",
    "    })"
   ]
  },
  {
   "cell_type": "code",
   "execution_count": 6,
   "metadata": {
    "ExecuteTime": {
     "end_time": "2017-09-13T20:15:09.853659Z",
     "start_time": "2017-09-13T20:15:08.792839Z"
    },
    "collapsed": true
   },
   "outputs": [],
   "source": [
    "green_selected_patents = green_patent_results[green_patent_results.iloc[:, 0:5]\n",
    "                                              .any(axis=1)]\n",
    "synbio_selected_patents = synbio_patent_results[\n",
    "    synbio_patent_results.iloc[:, 27:33].any(axis=1)]\n",
    "nano_selected_patents = nano_patent_results[nano_patent_results.selection]"
   ]
  },
  {
   "cell_type": "code",
   "execution_count": 7,
   "metadata": {
    "ExecuteTime": {
     "end_time": "2017-09-13T20:15:11.476090Z",
     "start_time": "2017-09-13T20:15:09.853659Z"
    }
   },
   "outputs": [
    {
     "name": "stderr",
     "output_type": "stream",
     "text": [
      "C:\\Users\\smadhavan\\AppData\\Local\\Continuum\\Anaconda3\\lib\\site-packages\\IPython\\core\\interactiveshell.py:2717: DtypeWarning: Columns (0) have mixed types. Specify dtype option on import or set low_memory=False.\n",
      "  interactivity=interactivity, compiler=compiler, result=result)\n"
     ]
    }
   ],
   "source": [
    "utility_patent_frame = pd.read_csv(\"./utility_patents.csv\")\n",
    "utility_patent_ids = utility_patent_frame.patent_id.tolist()"
   ]
  },
  {
   "cell_type": "code",
   "execution_count": 8,
   "metadata": {
    "ExecuteTime": {
     "end_time": "2017-09-13T20:15:13.644532Z",
     "start_time": "2017-09-13T20:15:11.476090Z"
    },
    "collapsed": true
   },
   "outputs": [],
   "source": [
    "green_selected_utility_patents = green_selected_patents[\n",
    "    green_selected_patents.id.isin(utility_patent_ids)]\n",
    "synbio_selected_patents = synbio_selected_patents[\n",
    "    synbio_selected_patents.id.isin(utility_patent_ids)]\n",
    "nano_selected_patents = nano_selected_patents[nano_selected_patents.id.isin(\n",
    "    utility_patent_ids)]"
   ]
  },
  {
   "cell_type": "code",
   "execution_count": 9,
   "metadata": {
    "ExecuteTime": {
     "end_time": "2017-09-13T20:17:03.945691Z",
     "start_time": "2017-09-13T20:17:03.914491Z"
    }
   },
   "outputs": [
    {
     "data": {
      "text/plain": [
       "(2436, 7)"
      ]
     },
     "execution_count": 9,
     "metadata": {},
     "output_type": "execute_result"
    }
   ],
   "source": [
    "green_selected_utility_patents.shape"
   ]
  },
  {
   "cell_type": "code",
   "execution_count": 20,
   "metadata": {
    "ExecuteTime": {
     "end_time": "2017-09-08T20:14:46.493797Z",
     "start_time": "2017-09-08T20:14:46.319797Z"
    },
    "collapsed": true
   },
   "outputs": [],
   "source": [
    "green_selected_utility_patents.to_csv(\n",
    "    \"green-technology/green_utility_patents.csv\", index=False)\n",
    "synbio_selected_patents.to_csv(\n",
    "    \"synthetic-biology/synbio_utility_patents.csv\", index=False)\n",
    "nano_selected_patents.to_csv(\n",
    "    \"nano-technology/nano_utility_patents.csv\", index=False)"
   ]
  },
  {
   "cell_type": "code",
   "execution_count": 22,
   "metadata": {
    "ExecuteTime": {
     "end_time": "2017-09-08T20:17:19.647797Z",
     "start_time": "2017-09-08T20:17:16.573797Z"
    },
    "collapsed": true
   },
   "outputs": [],
   "source": [
    "old_green_selected_patents = synbio_patent_results[\n",
    "    synbio_patent_results.iloc[:, :26].any(axis=1)]\n",
    "old_green_selected_utility_patents = old_green_selected_patents[\n",
    "    old_green_selected_patents.id.isin(utility_patent_ids)]"
   ]
  },
  {
   "cell_type": "code",
   "execution_count": 23,
   "metadata": {
    "ExecuteTime": {
     "end_time": "2017-09-08T20:17:21.685797Z",
     "start_time": "2017-09-08T20:17:21.669797Z"
    }
   },
   "outputs": [
    {
     "data": {
      "text/plain": [
       "(31558, 33)"
      ]
     },
     "execution_count": 23,
     "metadata": {},
     "output_type": "execute_result"
    }
   ],
   "source": [
    "old_green_selected_utility_patents.shape"
   ]
  },
  {
   "cell_type": "code",
   "execution_count": 24,
   "metadata": {
    "ExecuteTime": {
     "end_time": "2017-09-08T20:40:48.495453Z",
     "start_time": "2017-09-08T20:40:48.463450Z"
    }
   },
   "outputs": [
    {
     "data": {
      "text/html": [
       "<div>\n",
       "<style>\n",
       "    .dataframe thead tr:only-child th {\n",
       "        text-align: right;\n",
       "    }\n",
       "\n",
       "    .dataframe thead th {\n",
       "        text-align: left;\n",
       "    }\n",
       "\n",
       "    .dataframe tbody tr th {\n",
       "        vertical-align: top;\n",
       "    }\n",
       "</style>\n",
       "<table border=\"1\" class=\"dataframe\">\n",
       "  <thead>\n",
       "    <tr style=\"text-align: right;\">\n",
       "      <th></th>\n",
       "      <th>Renewable energy-All-purpose</th>\n",
       "      <th>Renewable energy-Biomass</th>\n",
       "      <th>Renewable energy-Geothermal</th>\n",
       "      <th>Renewable energy-Photovoltaic &amp; solar</th>\n",
       "      <th>Renewable energy-Wave &amp; Tidal</th>\n",
       "      <th>Renewable energy-Wind</th>\n",
       "      <th>id</th>\n",
       "    </tr>\n",
       "  </thead>\n",
       "  <tbody>\n",
       "    <tr>\n",
       "      <th>0</th>\n",
       "      <td>False</td>\n",
       "      <td>False</td>\n",
       "      <td>False</td>\n",
       "      <td>False</td>\n",
       "      <td>False</td>\n",
       "      <td>False</td>\n",
       "      <td>3930271</td>\n",
       "    </tr>\n",
       "    <tr>\n",
       "      <th>1</th>\n",
       "      <td>False</td>\n",
       "      <td>False</td>\n",
       "      <td>False</td>\n",
       "      <td>False</td>\n",
       "      <td>False</td>\n",
       "      <td>False</td>\n",
       "      <td>3930272</td>\n",
       "    </tr>\n",
       "    <tr>\n",
       "      <th>2</th>\n",
       "      <td>False</td>\n",
       "      <td>False</td>\n",
       "      <td>False</td>\n",
       "      <td>False</td>\n",
       "      <td>False</td>\n",
       "      <td>False</td>\n",
       "      <td>3930273</td>\n",
       "    </tr>\n",
       "    <tr>\n",
       "      <th>3</th>\n",
       "      <td>False</td>\n",
       "      <td>False</td>\n",
       "      <td>False</td>\n",
       "      <td>False</td>\n",
       "      <td>False</td>\n",
       "      <td>False</td>\n",
       "      <td>3930274</td>\n",
       "    </tr>\n",
       "    <tr>\n",
       "      <th>4</th>\n",
       "      <td>False</td>\n",
       "      <td>False</td>\n",
       "      <td>False</td>\n",
       "      <td>False</td>\n",
       "      <td>False</td>\n",
       "      <td>False</td>\n",
       "      <td>3930275</td>\n",
       "    </tr>\n",
       "  </tbody>\n",
       "</table>\n",
       "</div>"
      ],
      "text/plain": [
       "   Renewable energy-All-purpose  Renewable energy-Biomass  \\\n",
       "0                         False                     False   \n",
       "1                         False                     False   \n",
       "2                         False                     False   \n",
       "3                         False                     False   \n",
       "4                         False                     False   \n",
       "\n",
       "   Renewable energy-Geothermal  Renewable energy-Photovoltaic & solar  \\\n",
       "0                        False                                  False   \n",
       "1                        False                                  False   \n",
       "2                        False                                  False   \n",
       "3                        False                                  False   \n",
       "4                        False                                  False   \n",
       "\n",
       "   Renewable energy-Wave & Tidal  Renewable energy-Wind       id  \n",
       "0                          False                  False  3930271  \n",
       "1                          False                  False  3930272  \n",
       "2                          False                  False  3930273  \n",
       "3                          False                  False  3930274  \n",
       "4                          False                  False  3930275  "
      ]
     },
     "execution_count": 24,
     "metadata": {},
     "output_type": "execute_result"
    }
   ],
   "source": [
    "green_patent_results.head()\n"
   ]
  }
 ],
 "metadata": {
  "kernelspec": {
   "display_name": "Python 3",
   "language": "python",
   "name": "python3"
  },
  "language_info": {
   "codemirror_mode": {
    "name": "ipython",
    "version": 3
   },
   "file_extension": ".py",
   "mimetype": "text/x-python",
   "name": "python",
   "nbconvert_exporter": "python",
   "pygments_lexer": "ipython3",
   "version": "3.6.1"
  }
 },
 "nbformat": 4,
 "nbformat_minor": 2
}
