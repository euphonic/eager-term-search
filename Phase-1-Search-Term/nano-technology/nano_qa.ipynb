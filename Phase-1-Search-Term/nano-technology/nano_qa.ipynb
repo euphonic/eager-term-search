{
 "cells": [
  {
   "cell_type": "code",
   "execution_count": 56,
   "metadata": {},
   "outputs": [],
   "source": [
    "import pandas as pd\n",
    "import numpy as np\n",
    "import csv\n",
    "import re\n",
    "import datetime\n",
    "from multiprocessing.dummy import Pool as ThreadPool\n",
    "import pprint\n",
    "from tqdm import tqdm\n",
    "tqdm.pandas(desc=\"progress\")"
   ]
  },
  {
   "cell_type": "code",
   "execution_count": 2,
   "metadata": {},
   "outputs": [],
   "source": [
    "exclusion_terms = pd.read_excel(\"nanotech/exclusion_terms1.xlsx\", header = None)\n",
    "exclusion_terms =[str(i) for i in exclusion_terms[0].tolist()]"
   ]
  },
  {
   "cell_type": "code",
   "execution_count": 3,
   "metadata": {},
   "outputs": [],
   "source": [
    "with open(\"nanotech/nano_organism_to_exclude.txt\", \"r\") as myfile:\n",
    "    nano_organism_to_exclude = []\n",
    "    for line in myfile:\n",
    "        line = line.strip(\"\\n\").split(\";\")\n",
    "        for item in line:\n",
    "            if item != \"\":\n",
    "                nano_organism_to_exclude.append(item.strip())\n",
    "#if any of these terms appear the patent should be excluded\n",
    "exclusion_terms = exclusion_terms + nano_organism_to_exclude"
   ]
  },
  {
   "cell_type": "code",
   "execution_count": 4,
   "metadata": {},
   "outputs": [],
   "source": [
    "measure_terms = pd.read_excel(\"nanotech/measure_terms.xlsx\", header = None)\n",
    "measures =[str(i) for i in measure_terms[0].tolist()]"
   ]
  },
  {
   "cell_type": "code",
   "execution_count": 5,
   "metadata": {},
   "outputs": [],
   "source": [
    "with open(\"nanotech/MolEnv_1_in.txt\", \"r\") as myfile:\n",
    "    for line in myfile:\n",
    "        Mol1 = line.strip(\"\\n\")\n",
    "with open(\"nanotech/MolEnv_R_in.txt\", \"r\") as myfile:\n",
    "    for line in myfile:\n",
    "        MolR = line.strip(\"\\n\")"
   ]
  },
  {
   "cell_type": "code",
   "execution_count": 6,
   "metadata": {},
   "outputs": [],
   "source": [
    "conditions = pd.read_excel(\"nanotech/search_terms.xlsx\")"
   ]
  },
  {
   "cell_type": "code",
   "execution_count": 7,
   "metadata": {},
   "outputs": [],
   "source": [
    "def organize_text(list_of_terms, islist = False):\n",
    "    terms = list_of_terms\n",
    "    if islist:\n",
    "        pass\n",
    "    else:\n",
    "        terms = terms.split(\" OR \")\n",
    "    terms = [str(item).strip('\"') for item in terms]\n",
    "    #there are no middle wild cards so just remove\n",
    "    terms = [str(item).strip('*') for item in terms]\n",
    "    terms = [re.sub('\\*',\"[a-zA-Z]*\", item) for item in terms] #internal wildcards replace with regex to match letters\n",
    "    terms = [r\"\\b\"+item for item in terms]\n",
    "    terms = \"|\".join(terms)\n",
    "    terms = re.compile(terms,re.IGNORECASE)\n",
    "    return terms"
   ]
  },
  {
   "cell_type": "code",
   "execution_count": 38,
   "metadata": {},
   "outputs": [],
   "source": [
    "nano = r\"\\bnano[^\\s]*\"\n",
    "nano_pattern = re.compile(nano)"
   ]
  },
  {
   "cell_type": "code",
   "execution_count": 9,
   "metadata": {},
   "outputs": [],
   "source": [
    "measures = organize_text(measures, islist = True)\n",
    "quantum_terms = organize_text(conditions.iloc[1,0])\n",
    "self_terms = organize_text(conditions.iloc[2,0])\n",
    "MolEnv1 = organize_text(Mol1)\n",
    "MolEnvR = organize_text(MolR)\n",
    "motor = organize_text(conditions.iloc[3,0])\n",
    "micro = organize_text(conditions.iloc[4,0])\n",
    "quasi = organize_text(conditions.iloc[5,0])\n",
    "biosensor = organize_text(conditions.iloc[6,0])\n",
    "exclusion_terms = organize_text(exclusion_terms, islist = True)"
   ]
  },
  {
   "cell_type": "code",
   "execution_count": 109,
   "metadata": {},
   "outputs": [],
   "source": [
    "def search_for_terms(row, nano_pattern, measures, quantum_terms, self_terms, motor, micro,\n",
    "                     quasi, biosensor,MolEnv1,MolEnvR, exclusion_terms):\n",
    "    match_id = {\"Nano Term\":False,\"Quantum Term\":False,\"Self Term\":False,\"Molecular Motor Term\":False,\"Micro Term\":False,\n",
    "                \"Quasi Term\":False,\"Biosensor Term\":False,\"Biosensor 2 Term\":False,\"exclusion\":False, \n",
    "                \"measure_exclusion\":False, \"selection\":False}\n",
    "    \n",
    "    nano_terms = re.findall(nano_pattern, row.text)\n",
    "    are_measures = [bool(re.search(measures, item)) for item in nano_terms]\n",
    "    final_inclusion=False\n",
    "    if bool(re.search(quantum_terms, row.text)):\n",
    "        match_id[\"Quantum Term\"]=True\n",
    "        final_inclusion=True\n",
    "    if (bool(re.search(self_terms, row.text)) and bool(re.search(MolEnv1, row.text))):\n",
    "        match_id[\"Self Term\"]=True\n",
    "        final_inclusion=True\n",
    "    if bool(re.search(motor, row.text)):\n",
    "        match_id[\"Molecular Motor Term\"]=True\n",
    "        final_inclusion=True\n",
    "    if (bool(re.search(micro, row.text)) and bool(re.search(MolEnvR, row.text))) :\n",
    "        match_id[\"Micro Term\"]=True\n",
    "        final_inclusion=True\n",
    "    if (bool(re.search(quasi, row.text)) and bool(re.search(MolEnv1, row.text))) :\n",
    "        match_id[\"Quasi Term\"]=True\n",
    "        final_inclusion=True\n",
    "    if (bool(re.search(biosensor, row.text)) and bool(re.search(MolEnvR, row.text))):\n",
    "        match_id[\"Biosensor Term\"]=True\n",
    "        final_inclusion=True\n",
    "    if (bool(re.search(biosensor, row.text)) and bool(re.search(MolEnvR, row.text))):\n",
    "        match_id[\"Biosensor Term\"]=True\n",
    "        final_inclusion=True\n",
    "    if bool(re.search(exclusion_terms, row.text)):\n",
    "        match_id[\"exclusion\"] = True\n",
    "    if all(are_measures) and len(are_measures)>0:\n",
    "        match_id[\"measure_exclusion\"]=True\n",
    "    elif len(are_measures) >0:\n",
    "        match_id[\"Nano Term\"]=True\n",
    "        final_inclusion=True\n",
    "    match_id[\"selection\"]=final_inclusion and not match_id[\"exclusion\"]\n",
    "    return(pd.Series(match_id))"
   ]
  },
  {
   "cell_type": "code",
   "execution_count": 100,
   "metadata": {},
   "outputs": [],
   "source": [
    "def patent_search(file,nano_pattern, measures, quantum_terms, self_terms, motor, micro,\n",
    "                     quasi, biosensor,MolEnv1,MolEnvR, exclusion_terms):\n",
    "    current_file_data=pd.read_csv(file, sep=\"\\t\")\n",
    "    print(current_file_data.columns)\n",
    "    current_file_results=current_file_data.join(current_file_data.progress_apply(search_for_terms, axis=1,args=(nano_pattern, measures, quantum_terms, self_terms, motor, micro,\n",
    "                     quasi, biosensor,MolEnv1,MolEnvR, exclusion_terms)))\n",
    "    current_file_results.to_csv(\"patents.csv\",index=False, mode=\"a\")"
   ]
  },
  {
   "cell_type": "code",
   "execution_count": null,
   "metadata": {},
   "outputs": [],
   "source": [
    "import os\n",
    "subdirs = os.listdir(\"Z:\\\\Science Policy Portfolio\\\\PatentsView IV\\\\Data\\\\Parsed_2002-2017\")\n",
    "paths = [os.path.join(\"Z:\\\\Science Policy Portfolio\\\\PatentsView IV\\\\Data\\\\Parsed_2002-2017\", item) for item in subdirs]"
   ]
  },
  {
   "cell_type": "code",
   "execution_count": null,
   "metadata": {
    "tags": [
     "test"
    ]
   },
   "outputs": [],
   "source": [
    "fields_to_search = [\"brf_sum_text.csv\", \"detail_desc_text.csv\", \"claim.csv\"]\n",
    "files = []\n",
    "for path in paths:\n",
    "    for j in fields_to_search:\n",
    "        files.append(os.path.join(path, j))\n",
    "pprint.pprint(files)\n",
    "pprint.pprint(datetime.datetime.now().time())"
   ]
  },
  {
   "cell_type": "code",
   "execution_count": null,
   "metadata": {},
   "outputs": [],
   "source": [
    "for i in files:\n",
    "    patent_search(i,nano_pattern, measures, quantum_terms, self_terms, motor, micro,\n",
    "                     quasi, biosensor,MolEnv1,MolEnvR, exclusion_terms)\n",
    "    break"
   ]
  },
  {
   "cell_type": "code",
   "execution_count": 110,
   "metadata": {},
   "outputs": [
    {
     "name": "stdout",
     "output_type": "stream",
     "text": [
      "Index(['uuid', 'patent_id', 'text'], dtype='object')\n"
     ]
    },
    {
     "name": "stderr",
     "output_type": "stream",
     "text": [
      "\n",
      "progress:   0%|                                                                                                                                                         | 0/16 [00:00<?, ?it/s]\n",
      "progress: 17it [00:00, 1062.50it/s]                                                                                                                                                            "
     ]
    }
   ],
   "source": [
    "patent_search(\"./nano_test_data.txt\",nano_pattern, measures, quantum_terms, self_terms, motor, micro,\n",
    "                     quasi, biosensor,MolEnv1,MolEnvR, exclusion_terms)"
   ]
  }
 ],
 "metadata": {
  "celltoolbar": "Tags",
  "kernelspec": {
   "display_name": "Python 3",
   "language": "python",
   "name": "python3"
  },
  "language_info": {
   "codemirror_mode": {
    "name": "ipython",
    "version": 3
   },
   "file_extension": ".py",
   "mimetype": "text/x-python",
   "name": "python",
   "nbconvert_exporter": "python",
   "pygments_lexer": "ipython3",
   "version": "3.6.5"
  },
  "varInspector": {
   "cols": {
    "lenName": 16,
    "lenType": 16,
    "lenVar": 40
   },
   "kernels_config": {
    "python": {
     "delete_cmd_postfix": "",
     "delete_cmd_prefix": "del ",
     "library": "var_list.py",
     "varRefreshCmd": "print(var_dic_list())"
    },
    "r": {
     "delete_cmd_postfix": ") ",
     "delete_cmd_prefix": "rm(",
     "library": "var_list.r",
     "varRefreshCmd": "cat(var_dic_list()) "
    }
   },
   "types_to_exclude": [
    "module",
    "function",
    "builtin_function_or_method",
    "instance",
    "_Feature"
   ],
   "window_display": false
  }
 },
 "nbformat": 4,
 "nbformat_minor": 2
}
