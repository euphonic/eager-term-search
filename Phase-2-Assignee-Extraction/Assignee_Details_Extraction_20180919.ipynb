{
 "cells": [
  {
   "cell_type": "code",
   "execution_count": 29,
   "metadata": {
    "ExecuteTime": {
     "end_time": "2018-09-19T19:19:15.811775Z",
     "start_time": "2018-09-19T19:19:15.802052Z"
    }
   },
   "outputs": [],
   "source": [
    "import pandas as pd\n",
    "import numpy as np\n",
    "import csv\n",
    "import difflib\n",
    "from tqdm import tqdm\n",
    "import nltk\n",
    "from urllib.parse import urlsplit\n",
    "tqdm.pandas(desc=\"Fuzzy Match Progress\")"
   ]
  },
  {
   "cell_type": "code",
   "execution_count": 52,
   "metadata": {
    "ExecuteTime": {
     "end_time": "2018-09-19T20:29:39.061111Z",
     "start_time": "2018-09-19T20:29:25.085800Z"
    }
   },
   "outputs": [],
   "source": [
    "location_assignee_file=\"./location_assignee/location_assignee.tsv\"\n",
    "location_file=\"./location/location.tsv\"\n",
    "assignee_file=\"./assignee/assignee.tsv\"\n",
    "\n",
    "'''\n",
    "Method loads and returns US assignee ID\n",
    "'''\n",
    "def get_us_assignees(location_assignee_file, location_file):\n",
    "    # Load assignee location mapping\n",
    "    assignee_details = pd.read_csv(\n",
    "        location_assignee_file, sep=\"\\t\", encoding=\"latin-1\")\n",
    "    assignee_details.location_id = assignee_details.location_id.astype(str)\n",
    "    assignee_details.assignee_id = assignee_details.assignee_id.astype(str)\n",
    "\n",
    "    assignee_details = assignee_details[assignee_details.location_id != \"nan\"]\n",
    "    assignee_details = assignee_details[assignee_details.assignee_id != \"nan\"]\n",
    "\n",
    "    # Load Location details\n",
    "    location = pd.read_csv(location_file, sep=\"\\t\", encoding=\"latin-1\")\n",
    "    location.id = location.id.astype(str)\n",
    "    location = location[location.id != \"nan\"]\n",
    "    location = location.assign(country=location.country.str.lower())\n",
    "    location.country = location.country.astype(str)\n",
    "    location = location[location.country != \"nan\"]\n",
    "\n",
    "    # Filter US location\n",
    "    us_locations = location[location.country == \"us\"]\n",
    "\n",
    "    # Find assignees location in US\n",
    "    us_assignees = pd.merge(\n",
    "        left=assignee_details,\n",
    "        right=us_locations[[\"id\"]],\n",
    "        how=\"inner\",\n",
    "        left_on=\"location_id\",\n",
    "        right_on=\"id\")\n",
    "    return us_assignees\n",
    "\n",
    "\n",
    "us_assignees=get_us_assignees(location_assignee_file=location_assignee_file,location_file=location_file)\n",
    "\n",
    "patent_assignee_file=\"./patent_assignee/patent_assignee.tsv\"\n",
    "def load_patent_assignee_mapping(patent_assignee_file):\n",
    "    # Load Assignee to patent mapping\n",
    "    patent_assignee_mapping = pd.read_csv(\n",
    "        patent_assignee_file, sep=\"\\t\", low_memory=False)\n",
    "    patent_assignee_mapping.assignee_id = patent_assignee_mapping.assignee_id.astype(\n",
    "        str)\n",
    "    patent_assignee_mapping.patent_id = patent_assignee_mapping.patent_id.astype(\n",
    "        str)\n",
    "    patent_assignee_mapping = patent_assignee_mapping[\n",
    "        patent_assignee_mapping.assignee_id != \"nan\"]\n",
    "    patent_assignee_mapping = patent_assignee_mapping[\n",
    "        patent_assignee_mapping.patent_id != \"nan\"]\n",
    "    return patent_assignee_mapping\n",
    "\n",
    "patent_assignee_mapping=load_patent_assignee_mapping(patent_assignee_file=patent_assignee_file)\n"
   ]
  },
  {
   "cell_type": "code",
   "execution_count": 63,
   "metadata": {
    "ExecuteTime": {
     "end_time": "2018-09-19T20:37:51.433543Z",
     "start_time": "2018-09-19T20:37:51.420312Z"
    },
    "run_control": {
     "marked": true
    }
   },
   "outputs": [],
   "source": [
    "'''\n",
    "Method uses assignee file, patent file and the search results to map selected patents' assignee information\n",
    "'''\n",
    "\n",
    "\n",
    "def get_search_results_assignee_details(patent_assignee_mapping,\n",
    "                                        search_results_file,\n",
    "                                        column_type_info,\n",
    "                                        assignee_file,\n",
    "                                        assignee_filter,\n",
    "                                        selection_field_name=None,\n",
    "                                        selection_start_boundary=0,\n",
    "                                        selection_end_boundary=None):\n",
    "\n",
    "    # Load search results for current sector\n",
    "    patent_results = pd.read_csv(search_results_file, dtype=column_type_info)\n",
    "    patent_results.id = patent_results.id.astype(str)\n",
    "    patent_results = patent_results[patent_results.id != \"nan\"]\n",
    "\n",
    "    # Filter search results based on selection criteria\n",
    "    # Different sectors have different means of selection\n",
    "    print(patent_results.iloc[:, selection_start_boundary:selection_end_boundary].head())\n",
    "    # Selection criteria is available as single field (True/False)\n",
    "    if selection_field_name is not None:\n",
    "        selected_patents = patent_results[patent_results[selection_field_name]]\n",
    "\n",
    "    # Selection criteria is available as OR condition of many field\n",
    "    else:\n",
    "        selected_patents = patent_results[\n",
    "            patent_results.iloc[:, selection_start_boundary:selection_end_boundary].any(axis=1)]\n",
    "\n",
    "    # Map Assignee id for each selected patent\n",
    "    selected_patent_details = pd.merge(\n",
    "        selected_patents,\n",
    "        patent_assignee_mapping,\n",
    "        how=\"left\",\n",
    "        left_on=\"id\",\n",
    "        right_on=\"patent_id\")\n",
    "\n",
    "    selected_patent_details.assignee_id.fillna(\"\", inplace=True)\n",
    "\n",
    "    # Identify Assignee id for US assignees\n",
    "    us_assignee_ids = [str(x) for x in us_assignees.assignee_id.tolist()]\n",
    "\n",
    "    # Filter selected patent based on assignee location\n",
    "    us_selected_patent_details = selected_patent_details[\n",
    "        selected_patent_details.assignee_id.isin(us_assignee_ids)]\n",
    "\n",
    "    # Load assignee details\n",
    "    assignee_details = pd.read_csv(\n",
    "        assignee_file, sep=\"\\t\", low_memory=False, encoding='latin-1')\n",
    "\n",
    "    # Map Assignee details to patents\n",
    "    selected_patent_assignee_details = pd.merge(\n",
    "        us_selected_patent_details,\n",
    "        assignee_details,\n",
    "        how=\"left\",\n",
    "        left_on=\"assignee_id\",\n",
    "        right_on=\"id\")\n",
    "\n",
    "    return selected_patent_assignee_details"
   ]
  },
  {
   "cell_type": "code",
   "execution_count": null,
   "metadata": {},
   "outputs": [],
   "source": []
  },
  {
   "cell_type": "code",
   "execution_count": 67,
   "metadata": {
    "ExecuteTime": {
     "end_time": "2018-09-19T21:00:24.919821Z",
     "start_time": "2018-09-19T21:00:20.569974Z"
    }
   },
   "outputs": [
    {
     "name": "stdout",
     "output_type": "stream",
     "text": [
      "   Biosensor 2 Term  Biosensor Term  Micro Term  Molecular Motor Term  \\\n",
      "0             False           False       False                 False   \n",
      "1             False           False       False                 False   \n",
      "2             False           False       False                 False   \n",
      "3             False           False       False                 False   \n",
      "4             False           False       False                 False   \n",
      "\n",
      "   Nano Term  Quantum Term  Quasi Term  Self Term  exclusion       id  \\\n",
      "0       True         False       False      False      False  9198873   \n",
      "1       True         False       False      False      False  9198874   \n",
      "2       True         False       False      False      False  9198928   \n",
      "3       True         False       False      False      False  9198973   \n",
      "4       True         False       False      False      False  9198974   \n",
      "\n",
      "   measure_exclusion  selection  \n",
      "0              False       True  \n",
      "1              False       True  \n",
      "2              False       True  \n",
      "3              False       True  \n",
      "4              False       True  \n"
     ]
    }
   ],
   "source": [
    "nano_results_file = \"../Phase-1-Search-Term/nano-technology/nano_utility_patents.csv\"\n",
    "nano_dtype = {\n",
    "    'Biosensor 2 Term': bool,\n",
    "    'Biosensor Term': bool,\n",
    "    'Micro Term': bool,\n",
    "    'Molecular Motor Term': bool,\n",
    "    'Nano Term': bool,\n",
    "    'Quantum Term': bool,\n",
    "    'Quasi Term': bool,\n",
    "    'Self Term': bool,\n",
    "    'exclusion': bool,\n",
    "    'id': str,\n",
    "    'measure_exclusion': bool,\n",
    "    'selection': bool\n",
    "}\n",
    "nano_us_selected_patent_assignee_details = get_search_results_assignee_details(\n",
    "    patent_assignee_mapping,\n",
    "    nano_results_file,\n",
    "    nano_dtype,\n",
    "    assignee_file,\n",
    "    us_assignees,\n",
    "    selection_field_name=\"selection\")\n",
    "pd.DataFrame(\n",
    "    nano_us_selected_patent_assignee_details.organization.unique()).to_csv(\n",
    "        \"nano_unique_organizations.csv\", index=False, header=None)"
   ]
  },
  {
   "cell_type": "code",
   "execution_count": 48,
   "metadata": {
    "ExecuteTime": {
     "end_time": "2018-09-19T20:21:44.339054Z",
     "start_time": "2018-09-19T20:21:28.738087Z"
    }
   },
   "outputs": [],
   "source": [
    "green_results_file = \"../Phase-1-Search-Term/green-technology/green_utility_patents.csv\"\n",
    "green_dtype = dtype={                                  'Renewable energy-All-purpose':bool,'Renewable energy-Biomass':bool,\n",
    "                                  'Renewable energy-Geothermal':bool,'Renewable energy-Photovoltaic & solar':bool,\n",
    "                                  'Renewable energy-Wave & Tidal':bool,'Renewable energy-Wind':bool,'patent_id': str}\n",
    "green_us_selected_patent_assignee_details = get_search_results_assignee_details(\n",
    "    patent_assignee_mapping,\n",
    "    green_results_file,\n",
    "    green_dtype,\n",
    "    assignee_file,\n",
    "    us_assignees,\n",
    "    selection_field_boundary=6)\n",
    "pd.DataFrame(\n",
    "    green_us_selected_patent_assignee_details.organization.unique()).to_csv(\n",
    "        \"green_unique_organizations.csv\", index=False, header=None)"
   ]
  },
  {
   "cell_type": "code",
   "execution_count": 66,
   "metadata": {
    "ExecuteTime": {
     "end_time": "2018-09-19T20:38:52.703215Z",
     "start_time": "2018-09-19T20:38:48.404789Z"
    }
   },
   "outputs": [
    {
     "name": "stdout",
     "output_type": "stream",
     "text": [
      "   synbio-Bio Tech/Engg  synbio-Cell biology  synbio-Chemical  synbio-General  \\\n",
      "0                  True                False            False           False   \n",
      "1                 False                False            False           False   \n",
      "2                 False                False            False           False   \n",
      "3                 False                False            False           False   \n",
      "4                  True                False            False           False   \n",
      "\n",
      "   synbio-Genetics  synbio-Nano technology  \n",
      "0            False                   False  \n",
      "1             True                   False  \n",
      "2             True                   False  \n",
      "3             True                   False  \n",
      "4            False                   False  \n"
     ]
    }
   ],
   "source": [
    "synbio_results_file = \"../Phase-1-Search-Term/synthetic-biology/synbio_utility_patents.csv\"\n",
    "synvio_dtype =   dtype={\n",
    "        'Bio Tech/Engg': bool,\n",
    "        'Cell biology': bool,\n",
    "        'Chemical': bool,\n",
    "        'General': bool,\n",
    "        'Genetics': bool,\n",
    "        'Nano technology': bool,\n",
    "        'id': str\n",
    "    }\n",
    "synbio_us_selected_patent_assignee_details = get_search_results_assignee_details(\n",
    "    patent_assignee_mapping,\n",
    "    synbio_results_file,\n",
    "    synvio_dtype,\n",
    "    assignee_file,\n",
    "    us_assignees,\n",
    "    selection_start_boundary=27,\n",
    "    selection_end_boundary=34)\n",
    "pd.DataFrame(\n",
    "    synbio_us_selected_patent_assignee_details.organization.unique()).to_csv(\n",
    "        \"synbio_unique_organizations.csv\", index=False, header=None)"
   ]
  }
 ],
 "metadata": {
  "kernelspec": {
   "display_name": "Python 3",
   "language": "python",
   "name": "python3"
  },
  "language_info": {
   "codemirror_mode": {
    "name": "ipython",
    "version": 3
   },
   "file_extension": ".py",
   "mimetype": "text/x-python",
   "name": "python",
   "nbconvert_exporter": "python",
   "pygments_lexer": "ipython3",
   "version": "3.6.5"
  },
  "toc": {
   "base_numbering": 1,
   "nav_menu": {},
   "number_sections": true,
   "sideBar": true,
   "skip_h1_title": false,
   "title_cell": "Table of Contents",
   "title_sidebar": "Contents",
   "toc_cell": false,
   "toc_position": {},
   "toc_section_display": true,
   "toc_window_display": false
  },
  "varInspector": {
   "cols": {
    "lenName": 16,
    "lenType": 16,
    "lenVar": 40
   },
   "kernels_config": {
    "python": {
     "delete_cmd_postfix": "",
     "delete_cmd_prefix": "del ",
     "library": "var_list.py",
     "varRefreshCmd": "print(var_dic_list())"
    },
    "r": {
     "delete_cmd_postfix": ") ",
     "delete_cmd_prefix": "rm(",
     "library": "var_list.r",
     "varRefreshCmd": "cat(var_dic_list()) "
    }
   },
   "types_to_exclude": [
    "module",
    "function",
    "builtin_function_or_method",
    "instance",
    "_Feature"
   ],
   "window_display": false
  }
 },
 "nbformat": 4,
 "nbformat_minor": 2
}
