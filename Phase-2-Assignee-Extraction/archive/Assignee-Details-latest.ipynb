{
 "cells": [
  {
   "cell_type": "code",
   "execution_count": 1,
   "metadata": {
    "ExecuteTime": {
     "end_time": "2017-10-05T20:35:31.920035Z",
     "start_time": "2017-10-05T20:35:28.190035Z"
    }
   },
   "outputs": [],
   "source": [
    "import pandas as pd\n",
    "import numpy as np\n",
    "import csv\n",
    "import difflib\n",
    "from tqdm import tqdm\n",
    "import nltk\n",
    "\n",
    "tqdm.pandas(desc=\"Fuzzy Match Progress\")"
   ]
  },
  {
   "cell_type": "code",
   "execution_count": 2,
   "metadata": {
    "ExecuteTime": {
     "end_time": "2017-10-05T20:35:50.914035Z",
     "start_time": "2017-10-05T20:35:49.340035Z"
    }
   },
   "outputs": [],
   "source": [
    "assignee_details = pd.read_csv(\n",
    "    \"./location_assignee/location_assignee.tsv\", sep=\"\\t\", encoding=\"latin-1\")\n",
    "#assignee_details.location_id=assignee_details.location_id.astype(str)\n",
    "\n",
    "location = pd.read_csv(\"./location/location.tsv\", sep=\"\\t\", encoding=\"latin-1\")\n",
    "location.id = location.id.astype(str)\n",
    "location = location[location.id != \"nan\"]\n",
    "location = location.assign(country=location.country.str.lower())\n",
    "location.country = location.country.astype(str)\n",
    "location = location[location.country != \"nan\"]\n",
    "\n",
    "us_locations = location[location.country == \"us\"]\n",
    "\n",
    "us_assignees = pd.merge(\n",
    "    left=assignee_details,\n",
    "    right=us_locations,\n",
    "    how=\"inner\",\n",
    "    left_on=\"location_id\",\n",
    "    right_on=\"id\")"
   ]
  },
  {
   "cell_type": "code",
   "execution_count": 3,
   "metadata": {
    "ExecuteTime": {
     "end_time": "2017-10-05T20:35:53.167035Z",
     "start_time": "2017-10-05T20:35:53.036035Z"
    }
   },
   "outputs": [],
   "source": [
    "us_assignees_ids = us_assignees.assignee_id.unique()"
   ]
  },
  {
   "cell_type": "code",
   "execution_count": 10,
   "metadata": {
    "ExecuteTime": {
     "end_time": "2017-10-05T20:40:49.558035Z",
     "start_time": "2017-10-05T20:40:48.813035Z"
    }
   },
   "outputs": [],
   "source": [
    "assignee_details = pd.read_csv(\n",
    "    \"./assignee/assignee.tsv\", sep=\"\\t\", low_memory=False, encoding='latin-1')"
   ]
  },
  {
   "cell_type": "code",
   "execution_count": 4,
   "metadata": {
    "ExecuteTime": {
     "end_time": "2017-10-05T20:36:16.767035Z",
     "start_time": "2017-10-05T20:36:04.383035Z"
    }
   },
   "outputs": [],
   "source": [
    "patent_assignee_mapping = pd.read_csv(\n",
    "    \"./patent_assignee/patent_assignee.tsv\", sep=\"\\t\", low_memory=False)\n",
    "\n",
    "patent_results = pd.read_csv(\n",
    "    \"../Phase-1-Search-Term/green-technology/green_utility_patents.csv\",\n",
    "    dtype={\n",
    "        'Emerging low carbon-Additional energy sources':\n",
    "        bool,\n",
    "        'Emerging low carbon-All-purpose':\n",
    "        bool,\n",
    "        'Emerging low carbon-Alternative fuel':\n",
    "        bool,\n",
    "        'Emerging low carbon-Alternative fuel vehicle':\n",
    "        bool,\n",
    "        'Emerging low carbon-Battery':\n",
    "        bool,\n",
    "        'Emerging low carbon-Building technologies':\n",
    "        bool,\n",
    "        'Emerging low carbon-Carbon capture & storage':\n",
    "        bool,\n",
    "        'Emerging low carbon-Electrochemical processes':\n",
    "        bool,\n",
    "        'Emerging low carbon-Energy management':\n",
    "        bool,\n",
    "        'Environmental-Air pollution':\n",
    "        bool,\n",
    "        'Environmental-All-purpose':\n",
    "        bool,\n",
    "        'Environmental-Biological treatment':\n",
    "        bool,\n",
    "        'Environmental-Contaminated land reclamation & remediation':\n",
    "        bool,\n",
    "        'Environmental-Environmental monitoring, instrumentation and analysis':\n",
    "        bool,\n",
    "        'Environmental-Marine pollution control':\n",
    "        bool,\n",
    "        'Environmental-Noise & vibration control':\n",
    "        bool,\n",
    "        'Environmental-Recovery and recycling':\n",
    "        bool,\n",
    "        'Environmental-Waste management':\n",
    "        bool,\n",
    "        'Environmental-Water supply & waste water treatment':\n",
    "        bool,\n",
    "        'General-':\n",
    "        bool,\n",
    "        'Renewable energy-All-purpose':\n",
    "        bool,\n",
    "        'Renewable energy-Biomass':\n",
    "        bool,\n",
    "        'Renewable energy-Geothermal':\n",
    "        bool,\n",
    "        'Renewable energy-Photovoltaic & solar':\n",
    "        bool,\n",
    "        'Renewable energy-Wave & Tidal':\n",
    "        bool,\n",
    "        'Renewable energy-Wind':\n",
    "        bool,\n",
    "        'id':\n",
    "        str,\n",
    "        'synbio-Bio Tech/Engg':\n",
    "        bool,\n",
    "        'synbio-Cell biology':\n",
    "        bool,\n",
    "        'synbio-Chemical':\n",
    "        bool,\n",
    "        'synbio-General':\n",
    "        bool,\n",
    "        'synbio-Genetics':\n",
    "        bool,\n",
    "        'synbio-Nano technology':\n",
    "        bool\n",
    "    })\n",
    "\n",
    "patent_results.id = patent_results.id.astype(str)\n",
    "patent_results = patent_results[patent_results.id != \"nan\"]\n",
    "\n",
    "patent_assignee_mapping.assignee_id = patent_assignee_mapping.assignee_id.astype(\n",
    "    str)\n",
    "patent_assignee_mapping.patent_id = patent_assignee_mapping.patent_id.astype(\n",
    "    str)\n",
    "\n",
    "patent_assignee_mapping = patent_assignee_mapping[\n",
    "    patent_assignee_mapping.assignee_id != \"nan\"]\n",
    "patent_assignee_mapping = patent_assignee_mapping[\n",
    "    patent_assignee_mapping.patent_id != \"nan\"]"
   ]
  },
  {
   "cell_type": "code",
   "execution_count": 9,
   "metadata": {
    "ExecuteTime": {
     "end_time": "2017-10-05T20:40:33.753035Z",
     "start_time": "2017-10-05T20:40:33.682035Z"
    }
   },
   "outputs": [
    {
     "data": {
      "text/plain": [
       "(1576, 9)"
      ]
     },
     "execution_count": 9,
     "metadata": {},
     "output_type": "execute_result"
    }
   ],
   "source": [
    "green_selected_patents = patent_results[patent_results.iloc[:, :26].any(\n",
    "    axis=1)]\n",
    "green_selected_patent_details = pd.merge(\n",
    "    green_selected_patents,\n",
    "    patent_assignee_mapping,\n",
    "    how=\"inner\",\n",
    "    left_on=\"id\",\n",
    "    right_on=\"patent_id\")\n",
    "\n",
    "green_selected_patent_details.reset_index(drop=True, inplace=True)\n",
    "green_selected_patent_details.assignee_id.fillna(\"\", inplace=True)\n",
    "\n",
    "us_green_selected_patent_details = green_selected_patent_details[\n",
    "    green_selected_patent_details.assignee_id.isin(us_assignees_ids)]\n",
    "us_green_selected_patent_details.shape"
   ]
  },
  {
   "cell_type": "code",
   "execution_count": 11,
   "metadata": {
    "ExecuteTime": {
     "end_time": "2017-10-05T21:00:22.963035Z",
     "start_time": "2017-10-05T21:00:22.783035Z"
    }
   },
   "outputs": [],
   "source": [
    "us_green_selected_patent_details.iloc[:, :6].apply(\n",
    "    pd.value_counts).to_csv(\"latest-green-patent-selection-by-category.csv\")\n",
    "\n",
    "green_selected_patent_assignee_details = pd.merge(\n",
    "    us_green_selected_patent_details,\n",
    "    assignee_details,\n",
    "    how=\"inner\",\n",
    "    left_on=\"assignee_id\",\n",
    "    right_on=\"id\")\n",
    "\n",
    "green_organizations = green_selected_patent_assignee_details\n",
    "green_organizations = green_organizations.assign(\n",
    "    compare_organization=green_organizations.organization.str.lower())\n",
    "green_organizations.compare_organization = green_organizations.compare_organization.astype(\n",
    "    str)\n",
    "green_organizations = green_organizations[\n",
    "    green_organizations.compare_organization != \"nan\"]"
   ]
  },
  {
   "cell_type": "code",
   "execution_count": 14,
   "metadata": {
    "ExecuteTime": {
     "end_time": "2017-10-05T21:00:38.010035Z",
     "start_time": "2017-10-05T21:00:28.858035Z"
    }
   },
   "outputs": [
    {
     "name": "stderr",
     "output_type": "stream",
     "text": [
      "C:\\Users\\smadhavan\\AppData\\Local\\Continuum\\Anaconda3\\lib\\site-packages\\IPython\\core\\interactiveshell.py:2717: DtypeWarning: Columns (0,1,3,7,10) have mixed types. Specify dtype option on import or set low_memory=False.\n",
      "  interactivity=interactivity, compiler=compiler, result=result)\n"
     ]
    }
   ],
   "source": [
    "sam_entities = pd.read_csv(\"./sam-entities.csv\", encoding=\"latin-1\")\n",
    "\n",
    "sam_entities = sam_entities.assign(\n",
    "    compare_lbn=sam_entities.LEGAL_BUSINESS_NAME.str.lower())\n",
    "sam_entities = sam_entities.assign(\n",
    "    compare_dban=sam_entities.DBA_NAME.str.lower())\n",
    "sam_entities = sam_entities.assign(\n",
    "    COUNTRY_OF_INC=sam_entities.COUNTRY_OF_INC.str.lower())\n",
    "#sam_entities.COUNTRY_OF_INC=sam_entities.COUNTRY_OF_INC.astype(str)\n",
    "sam_entities.compare_dban = sam_entities.compare_dban.astype(str)\n",
    "sam_entities.compare_lbn = sam_entities.compare_lbn.astype(str)\n",
    "sam_entities = sam_entities[(sam_entities.compare_dban != \"nan\")\n",
    "                            | (sam_entities.compare_lbn != \"nan\")]\n",
    "sam_small_businesses = sam_entities[(\n",
    "    ~pd.isnull(sam_entities.NAICS_CODE_COUNTER > 0) &\n",
    "    sam_entities.NAICS_CODES.str.contains(\"Y\") &\n",
    "    (sam_entities.COUNTRY_OF_INC == \"usa\"))]"
   ]
  },
  {
   "cell_type": "code",
   "execution_count": 17,
   "metadata": {
    "ExecuteTime": {
     "end_time": "2017-10-05T21:02:22.277035Z",
     "start_time": "2017-10-05T21:02:21.268035Z"
    }
   },
   "outputs": [
    {
     "data": {
      "text/plain": [
       "154"
      ]
     },
     "execution_count": 17,
     "metadata": {},
     "output_type": "execute_result"
    }
   ],
   "source": [
    "green_sam = pd.merge(\n",
    "    left=green_organizations,\n",
    "    right=sam_entities,\n",
    "    how=\"inner\",\n",
    "    left_on=\"compare_organization\",\n",
    "    right_on=\"compare_lbn\")\n",
    "dba_sam_entities = sam_entities[~sam_entities.compare_dban.isnull()]\n",
    "green_sam_by_dba = pd.merge(\n",
    "    left=green_organizations,\n",
    "    right=dba_sam_entities,\n",
    "    how=\"inner\",\n",
    "    left_on=\"compare_organization\",\n",
    "    right_on=\"compare_dban\")\n",
    "complete_green_sam = pd.concat([green_sam, green_sam_by_dba], axis=0)\n",
    "complete_green_sam.drop_duplicates(inplace=True)\n",
    "len(complete_green_sam.compare_organization.unique())"
   ]
  },
  {
   "cell_type": "code",
   "execution_count": 41,
   "metadata": {
    "ExecuteTime": {
     "end_time": "2017-10-06T00:01:25.885035Z",
     "start_time": "2017-10-06T00:01:25.865035Z"
    }
   },
   "outputs": [],
   "source": [
    "complete_green_sam[[\"patent_id\", \"NAICS_CODES\"]].to_csv(\n",
    "    \"green-sam-patents.csv\", index=False)"
   ]
  },
  {
   "cell_type": "code",
   "execution_count": 35,
   "metadata": {
    "ExecuteTime": {
     "end_time": "2017-10-05T21:22:20.156311Z",
     "start_time": "2017-10-05T21:22:19.807241Z"
    }
   },
   "outputs": [],
   "source": [
    "non_sam_green_organizations = green_organizations[(\n",
    "    (~green_organizations.compare_organization.isin(\n",
    "        sam_entities.compare_lbn.tolist())) &\n",
    "    (~green_organizations.compare_organization.isin(\n",
    "        sam_entities.compare_dban.tolist())))]"
   ]
  },
  {
   "cell_type": "code",
   "execution_count": null,
   "metadata": {
    "ExecuteTime": {
     "end_time": "2017-10-06T00:12:09.774035Z",
     "start_time": "2017-10-06T00:12:09.745035Z"
    }
   },
   "outputs": [],
   "source": [
    "non_sam_green_organizations[[\"patent_id\"]].to_csv(\n",
    "    \"green-non-sam-patents.csv\", index=False)"
   ]
  },
  {
   "cell_type": "code",
   "execution_count": 37,
   "metadata": {
    "ExecuteTime": {
     "end_time": "2017-10-05T23:59:20.990035Z",
     "start_time": "2017-10-05T23:59:20.900035Z"
    }
   },
   "outputs": [
    {
     "data": {
      "text/plain": [
       "41"
      ]
     },
     "execution_count": 37,
     "metadata": {},
     "output_type": "execute_result"
    }
   ],
   "source": [
    "small_business_green_sam = complete_green_sam[\n",
    "    (complete_green_sam.NAICS_CODE_COUNTER > 0)\n",
    "    & (complete_green_sam.NAICS_CODES.str.contains(\"Y\"))]\n",
    "len(small_business_green_sam.compare_organization.unique())"
   ]
  },
  {
   "cell_type": "code",
   "execution_count": 38,
   "metadata": {
    "ExecuteTime": {
     "end_time": "2017-10-05T23:59:29.263035Z",
     "start_time": "2017-10-05T23:59:29.213035Z"
    }
   },
   "outputs": [
    {
     "data": {
      "text/html": [
       "<div>\n",
       "<style>\n",
       "    .dataframe thead tr:only-child th {\n",
       "        text-align: right;\n",
       "    }\n",
       "\n",
       "    .dataframe thead th {\n",
       "        text-align: left;\n",
       "    }\n",
       "\n",
       "    .dataframe tbody tr th {\n",
       "        vertical-align: top;\n",
       "    }\n",
       "</style>\n",
       "<table border=\"1\" class=\"dataframe\">\n",
       "  <thead>\n",
       "    <tr style=\"text-align: right;\">\n",
       "      <th></th>\n",
       "      <th>Renewable energy-All-purpose</th>\n",
       "      <th>Renewable energy-Biomass</th>\n",
       "      <th>Renewable energy-Geothermal</th>\n",
       "      <th>Renewable energy-Photovoltaic &amp; solar</th>\n",
       "      <th>Renewable energy-Wave &amp; Tidal</th>\n",
       "      <th>Renewable energy-Wind</th>\n",
       "      <th>id_x</th>\n",
       "      <th>patent_id</th>\n",
       "      <th>assignee_id</th>\n",
       "      <th>id_y</th>\n",
       "      <th>...</th>\n",
       "      <th>BUSINESS_TYPES</th>\n",
       "      <th>PRIMARY_NAICS</th>\n",
       "      <th>NAICS_CODE_COUNTER</th>\n",
       "      <th>NAICS_CODES</th>\n",
       "      <th>PSC_CODE_COUNTER</th>\n",
       "      <th>PSC_CODES</th>\n",
       "      <th>SBA_BUSINESS_TYPES_COUNTER</th>\n",
       "      <th>SBA_BUSINESS_TYPES</th>\n",
       "      <th>compare_lbn</th>\n",
       "      <th>compare_dban</th>\n",
       "    </tr>\n",
       "  </thead>\n",
       "  <tbody>\n",
       "    <tr>\n",
       "      <th>42</th>\n",
       "      <td>False</td>\n",
       "      <td>True</td>\n",
       "      <td>False</td>\n",
       "      <td>False</td>\n",
       "      <td>False</td>\n",
       "      <td>False</td>\n",
       "      <td>9200236</td>\n",
       "      <td>9200236</td>\n",
       "      <td>28fcb5a9ceedd00020295fa27575596b</td>\n",
       "      <td>28fcb5a9ceedd00020295fa27575596b</td>\n",
       "      <td>...</td>\n",
       "      <td>27~2X~LJ~VW</td>\n",
       "      <td>311119.0</td>\n",
       "      <td>3.0</td>\n",
       "      <td>311119Y~311225Y~325414Y</td>\n",
       "      <td>4.0</td>\n",
       "      <td>AA92~AD53~AE32~AG93</td>\n",
       "      <td>0.0</td>\n",
       "      <td>NaN</td>\n",
       "      <td>heliae development, llc</td>\n",
       "      <td>nan</td>\n",
       "    </tr>\n",
       "    <tr>\n",
       "      <th>43</th>\n",
       "      <td>False</td>\n",
       "      <td>True</td>\n",
       "      <td>False</td>\n",
       "      <td>False</td>\n",
       "      <td>False</td>\n",
       "      <td>False</td>\n",
       "      <td>9416336</td>\n",
       "      <td>9416336</td>\n",
       "      <td>28fcb5a9ceedd00020295fa27575596b</td>\n",
       "      <td>28fcb5a9ceedd00020295fa27575596b</td>\n",
       "      <td>...</td>\n",
       "      <td>27~2X~LJ~VW</td>\n",
       "      <td>311119.0</td>\n",
       "      <td>3.0</td>\n",
       "      <td>311119Y~311225Y~325414Y</td>\n",
       "      <td>4.0</td>\n",
       "      <td>AA92~AD53~AE32~AG93</td>\n",
       "      <td>0.0</td>\n",
       "      <td>NaN</td>\n",
       "      <td>heliae development, llc</td>\n",
       "      <td>nan</td>\n",
       "    </tr>\n",
       "    <tr>\n",
       "      <th>44</th>\n",
       "      <td>False</td>\n",
       "      <td>True</td>\n",
       "      <td>False</td>\n",
       "      <td>False</td>\n",
       "      <td>False</td>\n",
       "      <td>False</td>\n",
       "      <td>9200337</td>\n",
       "      <td>9200337</td>\n",
       "      <td>872772ef9abeaa7fb1448dbe6b6070f8</td>\n",
       "      <td>872772ef9abeaa7fb1448dbe6b6070f8</td>\n",
       "      <td>...</td>\n",
       "      <td>2X~MF</td>\n",
       "      <td>541711.0</td>\n",
       "      <td>1.0</td>\n",
       "      <td>541711Y</td>\n",
       "      <td>0.0</td>\n",
       "      <td>NaN</td>\n",
       "      <td>0.0</td>\n",
       "      <td>NaN</td>\n",
       "      <td>renmatix, inc.</td>\n",
       "      <td>nan</td>\n",
       "    </tr>\n",
       "    <tr>\n",
       "      <th>45</th>\n",
       "      <td>False</td>\n",
       "      <td>True</td>\n",
       "      <td>False</td>\n",
       "      <td>False</td>\n",
       "      <td>False</td>\n",
       "      <td>False</td>\n",
       "      <td>9359651</td>\n",
       "      <td>9359651</td>\n",
       "      <td>872772ef9abeaa7fb1448dbe6b6070f8</td>\n",
       "      <td>872772ef9abeaa7fb1448dbe6b6070f8</td>\n",
       "      <td>...</td>\n",
       "      <td>2X~MF</td>\n",
       "      <td>541711.0</td>\n",
       "      <td>1.0</td>\n",
       "      <td>541711Y</td>\n",
       "      <td>0.0</td>\n",
       "      <td>NaN</td>\n",
       "      <td>0.0</td>\n",
       "      <td>NaN</td>\n",
       "      <td>renmatix, inc.</td>\n",
       "      <td>nan</td>\n",
       "    </tr>\n",
       "    <tr>\n",
       "      <th>1151</th>\n",
       "      <td>True</td>\n",
       "      <td>False</td>\n",
       "      <td>False</td>\n",
       "      <td>True</td>\n",
       "      <td>False</td>\n",
       "      <td>False</td>\n",
       "      <td>9209648</td>\n",
       "      <td>9209648</td>\n",
       "      <td>696b1d873bbeaa9a773445ba4fabe56b</td>\n",
       "      <td>696b1d873bbeaa9a773445ba4fabe56b</td>\n",
       "      <td>...</td>\n",
       "      <td>2X</td>\n",
       "      <td>221114.0</td>\n",
       "      <td>23.0</td>\n",
       "      <td>221111Y~221114Y~237130Y~238120Y~238290Y~238910...</td>\n",
       "      <td>5.0</td>\n",
       "      <td>B543~C211~N054~N061~W061</td>\n",
       "      <td>0.0</td>\n",
       "      <td>NaN</td>\n",
       "      <td>envision solar international, inc.</td>\n",
       "      <td>nan</td>\n",
       "    </tr>\n",
       "  </tbody>\n",
       "</table>\n",
       "<p>5 rows × 44 columns</p>\n",
       "</div>"
      ],
      "text/plain": [
       "      Renewable energy-All-purpose  Renewable energy-Biomass  \\\n",
       "42                           False                      True   \n",
       "43                           False                      True   \n",
       "44                           False                      True   \n",
       "45                           False                      True   \n",
       "1151                          True                     False   \n",
       "\n",
       "      Renewable energy-Geothermal  Renewable energy-Photovoltaic & solar  \\\n",
       "42                          False                                  False   \n",
       "43                          False                                  False   \n",
       "44                          False                                  False   \n",
       "45                          False                                  False   \n",
       "1151                        False                                   True   \n",
       "\n",
       "      Renewable energy-Wave & Tidal  Renewable energy-Wind     id_x patent_id  \\\n",
       "42                            False                  False  9200236   9200236   \n",
       "43                            False                  False  9416336   9416336   \n",
       "44                            False                  False  9200337   9200337   \n",
       "45                            False                  False  9359651   9359651   \n",
       "1151                          False                  False  9209648   9209648   \n",
       "\n",
       "                           assignee_id                              id_y  \\\n",
       "42    28fcb5a9ceedd00020295fa27575596b  28fcb5a9ceedd00020295fa27575596b   \n",
       "43    28fcb5a9ceedd00020295fa27575596b  28fcb5a9ceedd00020295fa27575596b   \n",
       "44    872772ef9abeaa7fb1448dbe6b6070f8  872772ef9abeaa7fb1448dbe6b6070f8   \n",
       "45    872772ef9abeaa7fb1448dbe6b6070f8  872772ef9abeaa7fb1448dbe6b6070f8   \n",
       "1151  696b1d873bbeaa9a773445ba4fabe56b  696b1d873bbeaa9a773445ba4fabe56b   \n",
       "\n",
       "         ...       BUSINESS_TYPES PRIMARY_NAICS NAICS_CODE_COUNTER  \\\n",
       "42       ...          27~2X~LJ~VW      311119.0                3.0   \n",
       "43       ...          27~2X~LJ~VW      311119.0                3.0   \n",
       "44       ...                2X~MF      541711.0                1.0   \n",
       "45       ...                2X~MF      541711.0                1.0   \n",
       "1151     ...                   2X      221114.0               23.0   \n",
       "\n",
       "                                            NAICS_CODES PSC_CODE_COUNTER  \\\n",
       "42                              311119Y~311225Y~325414Y              4.0   \n",
       "43                              311119Y~311225Y~325414Y              4.0   \n",
       "44                                              541711Y              0.0   \n",
       "45                                              541711Y              0.0   \n",
       "1151  221111Y~221114Y~237130Y~238120Y~238290Y~238910...              5.0   \n",
       "\n",
       "                     PSC_CODES SBA_BUSINESS_TYPES_COUNTER SBA_BUSINESS_TYPES  \\\n",
       "42         AA92~AD53~AE32~AG93                        0.0                NaN   \n",
       "43         AA92~AD53~AE32~AG93                        0.0                NaN   \n",
       "44                         NaN                        0.0                NaN   \n",
       "45                         NaN                        0.0                NaN   \n",
       "1151  B543~C211~N054~N061~W061                        0.0                NaN   \n",
       "\n",
       "                             compare_lbn compare_dban  \n",
       "42               heliae development, llc          nan  \n",
       "43               heliae development, llc          nan  \n",
       "44                        renmatix, inc.          nan  \n",
       "45                        renmatix, inc.          nan  \n",
       "1151  envision solar international, inc.          nan  \n",
       "\n",
       "[5 rows x 44 columns]"
      ]
     },
     "execution_count": 38,
     "metadata": {},
     "output_type": "execute_result"
    }
   ],
   "source": [
    "small_business_green_sam.head()"
   ]
  },
  {
   "cell_type": "code",
   "execution_count": 20,
   "metadata": {
    "ExecuteTime": {
     "end_time": "2017-09-13T20:34:36.305486Z",
     "start_time": "2017-09-13T20:34:36.258685Z"
    }
   },
   "outputs": [],
   "source": [
    "small_business_missing_url = small_business_green_sam[pd.isnull(\n",
    "    small_business_green_sam.CORPORATE_URL)]\n",
    "\n",
    "small_business_missing_url.to_csv(\n",
    "    \"small_green_orgs_missing_url_latest.csv\", index=False)"
   ]
  },
  {
   "cell_type": "code",
   "execution_count": 21,
   "metadata": {
    "ExecuteTime": {
     "end_time": "2017-09-13T20:34:44.339692Z",
     "start_time": "2017-09-13T20:34:44.292891Z"
    }
   },
   "outputs": [],
   "source": [
    "small_business_green_sam = small_business_green_sam.assign(\n",
    "    lower_url=small_business_green_sam.CORPORATE_URL.str.lower())"
   ]
  },
  {
   "cell_type": "code",
   "execution_count": 22,
   "metadata": {
    "ExecuteTime": {
     "end_time": "2017-09-13T20:34:50.090245Z",
     "start_time": "2017-09-13T20:34:50.043444Z"
    }
   },
   "outputs": [],
   "source": [
    "gp = small_business_green_sam.groupby([\"compare_organization\", \"lower_url\"])"
   ]
  },
  {
   "cell_type": "code",
   "execution_count": null,
   "metadata": {
    "ExecuteTime": {
     "end_time": "2017-08-21T13:40:17.744156Z",
     "start_time": "2017-08-21T13:38:04.633Z"
    }
   },
   "outputs": [],
   "source": []
  },
  {
   "cell_type": "code",
   "execution_count": null,
   "metadata": {},
   "outputs": [],
   "source": [
    "us_green_orgs_missing_url"
   ]
  },
  {
   "cell_type": "code",
   "execution_count": 23,
   "metadata": {
    "ExecuteTime": {
     "end_time": "2017-09-13T20:35:22.241879Z",
     "start_time": "2017-09-13T20:35:22.163877Z"
    }
   },
   "outputs": [
    {
     "data": {
      "text/plain": [
       "(27, 1)"
      ]
     },
     "execution_count": 23,
     "metadata": {},
     "output_type": "execute_result"
    }
   ],
   "source": [
    "corp_urls = pd.DataFrame(gp.size())\n",
    "corp_urls.shape"
   ]
  },
  {
   "cell_type": "code",
   "execution_count": 26,
   "metadata": {
    "ExecuteTime": {
     "end_time": "2017-09-13T20:48:10.987581Z",
     "start_time": "2017-09-13T20:48:10.940781Z"
    }
   },
   "outputs": [],
   "source": [
    "corp_urls.to_csv(\"./green_business_urls.csv\")"
   ]
  },
  {
   "cell_type": "code",
   "execution_count": 45,
   "metadata": {
    "ExecuteTime": {
     "end_time": "2017-10-06T15:15:12.285636Z",
     "start_time": "2017-10-06T15:14:54.082816Z"
    }
   },
   "outputs": [],
   "source": [
    "patent_assignee_mapping = pd.read_csv(\n",
    "    \"./patent_assignee/patent_assignee.tsv\", sep=\"\\t\", low_memory=False)\n",
    "\n",
    "patent_results = pd.read_csv(\n",
    "    \"../Phase-1-Search-Term/synthetic-biology/synbio_utility_patents.csv\",\n",
    "    dtype={\n",
    "        'Emerging low carbon-Additional energy sources':\n",
    "        bool,\n",
    "        'Emerging low carbon-All-purpose':\n",
    "        bool,\n",
    "        'Emerging low carbon-Alternative fuel':\n",
    "        bool,\n",
    "        'Emerging low carbon-Alternative fuel vehicle':\n",
    "        bool,\n",
    "        'Emerging low carbon-Battery':\n",
    "        bool,\n",
    "        'Emerging low carbon-Building technologies':\n",
    "        bool,\n",
    "        'Emerging low carbon-Carbon capture & storage':\n",
    "        bool,\n",
    "        'Emerging low carbon-Electrochemical processes':\n",
    "        bool,\n",
    "        'Emerging low carbon-Energy management':\n",
    "        bool,\n",
    "        'Environmental-Air pollution':\n",
    "        bool,\n",
    "        'Environmental-All-purpose':\n",
    "        bool,\n",
    "        'Environmental-Biological treatment':\n",
    "        bool,\n",
    "        'Environmental-Contaminated land reclamation & remediation':\n",
    "        bool,\n",
    "        'Environmental-Environmental monitoring, instrumentation and analysis':\n",
    "        bool,\n",
    "        'Environmental-Marine pollution control':\n",
    "        bool,\n",
    "        'Environmental-Noise & vibration control':\n",
    "        bool,\n",
    "        'Environmental-Recovery and recycling':\n",
    "        bool,\n",
    "        'Environmental-Waste management':\n",
    "        bool,\n",
    "        'Environmental-Water supply & waste water treatment':\n",
    "        bool,\n",
    "        'General-':\n",
    "        bool,\n",
    "        'Renewable energy-All-purpose':\n",
    "        bool,\n",
    "        'Renewable energy-Biomass':\n",
    "        bool,\n",
    "        'Renewable energy-Geothermal':\n",
    "        bool,\n",
    "        'Renewable energy-Photovoltaic & solar':\n",
    "        bool,\n",
    "        'Renewable energy-Wave & Tidal':\n",
    "        bool,\n",
    "        'Renewable energy-Wind':\n",
    "        bool,\n",
    "        'id':\n",
    "        str,\n",
    "        'synbio-Bio Tech/Engg':\n",
    "        bool,\n",
    "        'synbio-Cell biology':\n",
    "        bool,\n",
    "        'synbio-Chemical':\n",
    "        bool,\n",
    "        'synbio-General':\n",
    "        bool,\n",
    "        'synbio-Genetics':\n",
    "        bool,\n",
    "        'synbio-Nano technology':\n",
    "        bool\n",
    "    })\n",
    "\n",
    "patent_results.id = patent_results.id.astype(str)\n",
    "patent_results = patent_results[patent_results.id != \"nan\"]\n",
    "\n",
    "patent_assignee_mapping.assignee_id = patent_assignee_mapping.assignee_id.astype(\n",
    "    str)\n",
    "patent_assignee_mapping.patent_id = patent_assignee_mapping.patent_id.astype(\n",
    "    str)\n",
    "\n",
    "patent_assignee_mapping = patent_assignee_mapping[\n",
    "    patent_assignee_mapping.assignee_id != \"nan\"]\n",
    "patent_assignee_mapping = patent_assignee_mapping[\n",
    "    patent_assignee_mapping.patent_id != \"nan\"]"
   ]
  },
  {
   "cell_type": "code",
   "execution_count": 46,
   "metadata": {
    "ExecuteTime": {
     "end_time": "2017-10-06T15:15:53.480755Z",
     "start_time": "2017-10-06T15:15:53.469754Z"
    }
   },
   "outputs": [
    {
     "data": {
      "text/plain": [
       "(1694, 33)"
      ]
     },
     "execution_count": 46,
     "metadata": {},
     "output_type": "execute_result"
    }
   ],
   "source": [
    "patent_results.shape"
   ]
  },
  {
   "cell_type": "code",
   "execution_count": 47,
   "metadata": {
    "ExecuteTime": {
     "end_time": "2017-10-06T15:16:01.035510Z",
     "start_time": "2017-10-06T15:15:56.259033Z"
    }
   },
   "outputs": [
    {
     "name": "stdout",
     "output_type": "stream",
     "text": [
      "(1806, 35)\n",
      "(1277, 35)\n"
     ]
    },
    {
     "data": {
      "text/plain": [
       "(1277, 40)"
      ]
     },
     "execution_count": 47,
     "metadata": {},
     "output_type": "execute_result"
    }
   ],
   "source": [
    "synbio_selected_patents = patent_results[patent_results.iloc[:, 27:33].any(\n",
    "    axis=1)]\n",
    "synbio_selected_patent_details = pd.merge(\n",
    "    synbio_selected_patents,\n",
    "    patent_assignee_mapping,\n",
    "    how=\"inner\",\n",
    "    left_on=\"id\",\n",
    "    right_on=\"patent_id\")\n",
    "synbio_selected_patent_details.reset_index(drop=True, inplace=True)\n",
    "synbio_selected_patent_details.assignee_id.fillna(\"\", inplace=True)\n",
    "\n",
    "print(synbio_selected_patent_details.shape)\n",
    "\n",
    "us_synbio_selected_patent_details = synbio_selected_patent_details[\n",
    "    synbio_selected_patent_details.assignee_id.isin(us_assignees_ids)]\n",
    "print(us_synbio_selected_patent_details.shape)\n",
    "\n",
    "us_synbio_selected_patent_details.iloc[:, 27:33].apply(\n",
    "    pd.value_counts).to_csv(\"latest-synbio-patent-selection-by-category.csv\")\n",
    "synbio_selected_patent_assignee_details = pd.merge(\n",
    "    us_synbio_selected_patent_details,\n",
    "    assignee_details,\n",
    "    how=\"inner\",\n",
    "    left_on=\"assignee_id\",\n",
    "    right_on=\"id\")\n",
    "\n",
    "synbio_selected_patent_assignee_details.shape"
   ]
  },
  {
   "cell_type": "code",
   "execution_count": 48,
   "metadata": {
    "ExecuteTime": {
     "end_time": "2017-10-06T15:16:04.054812Z",
     "start_time": "2017-10-06T15:16:04.041811Z"
    }
   },
   "outputs": [
    {
     "data": {
      "text/plain": [
       "573"
      ]
     },
     "execution_count": 48,
     "metadata": {},
     "output_type": "execute_result"
    }
   ],
   "source": [
    "len(synbio_selected_patent_assignee_details.organization.unique())"
   ]
  },
  {
   "cell_type": "code",
   "execution_count": 50,
   "metadata": {
    "ExecuteTime": {
     "end_time": "2017-10-06T15:16:10.266433Z",
     "start_time": "2017-10-06T15:16:10.234430Z"
    }
   },
   "outputs": [
    {
     "data": {
      "text/plain": [
       "(1277, 41)"
      ]
     },
     "execution_count": 50,
     "metadata": {},
     "output_type": "execute_result"
    }
   ],
   "source": [
    "synbio_organizations = synbio_selected_patent_assignee_details\n",
    "synbio_organizations = synbio_organizations.assign(\n",
    "    compare_organization=synbio_organizations.organization.str.lower())\n",
    "synbio_organizations.compare_organization = synbio_organizations.compare_organization.astype(\n",
    "    str)\n",
    "synbio_organizations = synbio_organizations[\n",
    "    synbio_organizations.compare_organization != \"nan\"]\n",
    "synbio_organizations.shape"
   ]
  },
  {
   "cell_type": "code",
   "execution_count": 51,
   "metadata": {
    "ExecuteTime": {
     "end_time": "2017-10-06T15:16:36.971104Z",
     "start_time": "2017-10-06T15:16:30.197426Z"
    }
   },
   "outputs": [
    {
     "data": {
      "text/plain": [
       "196"
      ]
     },
     "execution_count": 51,
     "metadata": {},
     "output_type": "execute_result"
    }
   ],
   "source": [
    "synbio_sam = pd.merge(\n",
    "    left=synbio_organizations,\n",
    "    right=sam_entities,\n",
    "    how=\"inner\",\n",
    "    left_on=\"compare_organization\",\n",
    "    right_on=\"compare_lbn\")\n",
    "dba_sam_entities = sam_entities[~sam_entities.compare_dban.isnull()]\n",
    "synbio_sam_by_dba = pd.merge(\n",
    "    left=synbio_organizations,\n",
    "    right=dba_sam_entities,\n",
    "    how=\"inner\",\n",
    "    left_on=\"compare_organization\",\n",
    "    right_on=\"compare_dban\")\n",
    "complete_synbio_sam = pd.concat([synbio_sam, synbio_sam_by_dba], axis=0)\n",
    "complete_synbio_sam.drop_duplicates(inplace=True)\n",
    "len(complete_synbio_sam.compare_organization.unique())"
   ]
  },
  {
   "cell_type": "code",
   "execution_count": 35,
   "metadata": {
    "ExecuteTime": {
     "end_time": "2017-09-13T20:56:16.300176Z",
     "start_time": "2017-09-13T20:56:16.253375Z"
    }
   },
   "outputs": [
    {
     "data": {
      "text/plain": [
       "39"
      ]
     },
     "execution_count": 35,
     "metadata": {},
     "output_type": "execute_result"
    }
   ],
   "source": [
    "small_business_synbio_sam = complete_synbio_sam[\n",
    "    (complete_synbio_sam.NAICS_CODE_COUNTER > 0)\n",
    "    & (complete_synbio_sam.NAICS_CODES.str.contains(\"Y\"))]\n",
    "len(small_business_synbio_sam.compare_organization.unique())"
   ]
  },
  {
   "cell_type": "code",
   "execution_count": 52,
   "metadata": {
    "ExecuteTime": {
     "end_time": "2017-10-06T15:18:00.332439Z",
     "start_time": "2017-10-06T15:18:00.319438Z"
    }
   },
   "outputs": [],
   "source": [
    "complete_synbio_sam[[\"patent_id\", \"NAICS_CODES\"]].to_csv(\n",
    "    \"synbio-sam-patents.csv\", index=False)"
   ]
  },
  {
   "cell_type": "code",
   "execution_count": 53,
   "metadata": {
    "ExecuteTime": {
     "end_time": "2017-10-06T15:18:24.958387Z",
     "start_time": "2017-10-06T15:18:24.578387Z"
    }
   },
   "outputs": [],
   "source": [
    "non_sam_synbio_organizations = synbio_organizations[(\n",
    "    (~synbio_organizations.compare_organization.isin(\n",
    "        sam_entities.compare_lbn.tolist())) &\n",
    "    (~synbio_organizations.compare_organization.isin(\n",
    "        sam_entities.compare_dban.tolist())))]"
   ]
  },
  {
   "cell_type": "code",
   "execution_count": 56,
   "metadata": {
    "ExecuteTime": {
     "end_time": "2017-10-06T15:18:42.017387Z",
     "start_time": "2017-10-06T15:18:42.000387Z"
    }
   },
   "outputs": [],
   "source": [
    "non_sam_synbio_organizations[[\"patent_id\"]].to_csv(\n",
    "    \"synbio-non-sam-patents.csv\", index=False)"
   ]
  },
  {
   "cell_type": "code",
   "execution_count": 36,
   "metadata": {
    "ExecuteTime": {
     "end_time": "2017-09-13T20:56:36.373768Z",
     "start_time": "2017-09-13T20:56:36.326967Z"
    }
   },
   "outputs": [],
   "source": [
    "small_business_missing_url = small_business_synbio_sam[pd.isnull(\n",
    "    small_business_synbio_sam.CORPORATE_URL)]\n",
    "\n",
    "small_business_missing_url.to_csv(\n",
    "    \"small_synbio_orgs_missing_url_latest.csv\", index=False)"
   ]
  },
  {
   "cell_type": "code",
   "execution_count": 37,
   "metadata": {
    "ExecuteTime": {
     "end_time": "2017-09-13T20:56:38.308205Z",
     "start_time": "2017-09-13T20:56:38.277004Z"
    }
   },
   "outputs": [],
   "source": [
    "small_business_synbio_sam = small_business_synbio_sam.assign(\n",
    "    lower_url=small_business_synbio_sam.CORPORATE_URL.str.lower())"
   ]
  },
  {
   "cell_type": "code",
   "execution_count": 38,
   "metadata": {
    "ExecuteTime": {
     "end_time": "2017-09-13T20:56:39.790233Z",
     "start_time": "2017-09-13T20:56:39.743432Z"
    }
   },
   "outputs": [],
   "source": [
    "gp = small_business_synbio_sam.groupby([\"compare_organization\", \"lower_url\"])\n",
    "corp_urls = pd.DataFrame(gp.size())\n",
    "corp_urls.to_csv(\"./synbio_business_urls.csv\")"
   ]
  },
  {
   "cell_type": "code",
   "execution_count": null,
   "metadata": {
    "ExecuteTime": {
     "end_time": "2017-08-21T13:40:17.744156Z",
     "start_time": "2017-08-21T13:38:04.633Z"
    }
   },
   "outputs": [],
   "source": [
    "us_green_orgs_missing_url = small_business_green_sam[pd.isnull(\n",
    "    small_business_green_sam.lower_url)]"
   ]
  },
  {
   "cell_type": "code",
   "execution_count": null,
   "metadata": {
    "ExecuteTime": {
     "end_time": "2017-08-16T19:37:42.044000Z",
     "start_time": "2017-08-16T19:37:41.983000Z"
    }
   },
   "outputs": [],
   "source": [
    "green_url_missing_orgs = pd.read_csv(\n",
    "    \"./small_green_patents_orgs_missing_url.csv\")"
   ]
  },
  {
   "cell_type": "code",
   "execution_count": 76,
   "metadata": {
    "ExecuteTime": {
     "end_time": "2017-08-17T21:40:15.950172Z",
     "start_time": "2017-08-17T21:40:15.918968Z"
    }
   },
   "outputs": [],
   "source": [
    "org_list = us_green_orgs_missing_url[[\n",
    "    \"LEGAL_BUSINESS_NAME\", \"DBA_NAME\", \"PHYSICAL_ADDRESS_LINE_1\",\n",
    "    \"PHYSICAL_ADDRESS_LINE_2\", \"PHYSICAL_ADDRESS_CITY\",\n",
    "    \"PHYSICAL_ADDRESS_PROVINCE_OR_STATE\", \"PHYSICAL_ADDRESS_ZIP\",\n",
    "    \"PHYSICAL_ADDRESS_ZIP4\", \"PHYSICAL_ADDRESS_COUNTRY_CODE\",\n",
    "    \"ENTITY_CONGRESSIONAL_DISTRICT\", \"CORPORATE_URL\", \"ENTITY_STRUCTURE\",\n",
    "    \"STATE_OF INC\", \"COUNTRY_OF_INC\"\n",
    "]]"
   ]
  },
  {
   "cell_type": "code",
   "execution_count": 77,
   "metadata": {
    "ExecuteTime": {
     "end_time": "2017-08-17T21:40:18.399670Z",
     "start_time": "2017-08-17T21:40:18.306059Z"
    }
   },
   "outputs": [
    {
     "name": "stderr",
     "output_type": "stream",
     "text": [
      "C:\\Users\\smadhavan\\AppData\\Local\\Continuum\\Anaconda3\\lib\\site-packages\\ipykernel_launcher.py:1: SettingWithCopyWarning: \n",
      "A value is trying to be set on a copy of a slice from a DataFrame\n",
      "\n",
      "See the caveats in the documentation: http://pandas.pydata.org/pandas-docs/stable/indexing.html#indexing-view-versus-copy\n",
      "  \"\"\"Entry point for launching an IPython kernel.\n"
     ]
    }
   ],
   "source": [
    "org_list.drop_duplicates(inplace=True)"
   ]
  },
  {
   "cell_type": "code",
   "execution_count": 79,
   "metadata": {
    "ExecuteTime": {
     "end_time": "2017-08-17T21:40:34.533035Z",
     "start_time": "2017-08-17T21:40:34.486229Z"
    }
   },
   "outputs": [
    {
     "data": {
      "text/html": [
       "<div>\n",
       "<style>\n",
       "    .dataframe thead tr:only-child th {\n",
       "        text-align: right;\n",
       "    }\n",
       "\n",
       "    .dataframe thead th {\n",
       "        text-align: left;\n",
       "    }\n",
       "\n",
       "    .dataframe tbody tr th {\n",
       "        vertical-align: top;\n",
       "    }\n",
       "</style>\n",
       "<table border=\"1\" class=\"dataframe\">\n",
       "  <thead>\n",
       "    <tr style=\"text-align: right;\">\n",
       "      <th></th>\n",
       "      <th>LEGAL_BUSINESS_NAME</th>\n",
       "      <th>DBA_NAME</th>\n",
       "      <th>PHYSICAL_ADDRESS_LINE_1</th>\n",
       "      <th>PHYSICAL_ADDRESS_LINE_2</th>\n",
       "      <th>PHYSICAL_ADDRESS_CITY</th>\n",
       "      <th>PHYSICAL_ADDRESS_PROVINCE_OR_STATE</th>\n",
       "      <th>PHYSICAL_ADDRESS_ZIP</th>\n",
       "      <th>PHYSICAL_ADDRESS_ZIP4</th>\n",
       "      <th>PHYSICAL_ADDRESS_COUNTRY_CODE</th>\n",
       "      <th>ENTITY_CONGRESSIONAL_DISTRICT</th>\n",
       "      <th>CORPORATE_URL</th>\n",
       "      <th>ENTITY_STRUCTURE</th>\n",
       "      <th>STATE_OF INC</th>\n",
       "      <th>COUNTRY_OF_INC</th>\n",
       "    </tr>\n",
       "  </thead>\n",
       "  <tbody>\n",
       "    <tr>\n",
       "      <th>137986</th>\n",
       "      <td>SMITH FILTER CORPORATION</td>\n",
       "      <td>NaN</td>\n",
       "      <td>5000 41ST ST CT</td>\n",
       "      <td>NaN</td>\n",
       "      <td>MOLINE</td>\n",
       "      <td>IL</td>\n",
       "      <td>61265</td>\n",
       "      <td>7583.0</td>\n",
       "      <td>USA</td>\n",
       "      <td>17.0</td>\n",
       "      <td>NaN</td>\n",
       "      <td>2L</td>\n",
       "      <td>IL</td>\n",
       "      <td>usa</td>\n",
       "    </tr>\n",
       "    <tr>\n",
       "      <th>137987</th>\n",
       "      <td>URBAN RESEARCH &amp; DEVELOPMENT CORPORATION</td>\n",
       "      <td>NaN</td>\n",
       "      <td>28 W BROAD ST</td>\n",
       "      <td>NaN</td>\n",
       "      <td>BETHLEHEM</td>\n",
       "      <td>PA</td>\n",
       "      <td>18018</td>\n",
       "      <td>5705.0</td>\n",
       "      <td>USA</td>\n",
       "      <td>15.0</td>\n",
       "      <td>NaN</td>\n",
       "      <td>2L</td>\n",
       "      <td>PA</td>\n",
       "      <td>usa</td>\n",
       "    </tr>\n",
       "    <tr>\n",
       "      <th>139002</th>\n",
       "      <td>BOSTON MEDICAL PRODUCTS, INC.</td>\n",
       "      <td>NaN</td>\n",
       "      <td>70 CHESTNUT ST</td>\n",
       "      <td>NaN</td>\n",
       "      <td>SHREWSBURY</td>\n",
       "      <td>MA</td>\n",
       "      <td>1545</td>\n",
       "      <td>4101.0</td>\n",
       "      <td>USA</td>\n",
       "      <td>2.0</td>\n",
       "      <td>NaN</td>\n",
       "      <td>2L</td>\n",
       "      <td>MA</td>\n",
       "      <td>usa</td>\n",
       "    </tr>\n",
       "    <tr>\n",
       "      <th>140481</th>\n",
       "      <td>THE EASTERN COMPANY</td>\n",
       "      <td>EBERHARD MFG DIV</td>\n",
       "      <td>21944 DRAKE RD</td>\n",
       "      <td>NaN</td>\n",
       "      <td>STRONGSVILLE</td>\n",
       "      <td>OH</td>\n",
       "      <td>44149</td>\n",
       "      <td>6609.0</td>\n",
       "      <td>USA</td>\n",
       "      <td>16.0</td>\n",
       "      <td>NaN</td>\n",
       "      <td>2L</td>\n",
       "      <td>CT</td>\n",
       "      <td>usa</td>\n",
       "    </tr>\n",
       "    <tr>\n",
       "      <th>140812</th>\n",
       "      <td>MICRON CORPORATION</td>\n",
       "      <td>MICRON</td>\n",
       "      <td>1940 ELK RIVER DAM RD</td>\n",
       "      <td>NaN</td>\n",
       "      <td>TULLAHOMA</td>\n",
       "      <td>TN</td>\n",
       "      <td>37388</td>\n",
       "      <td>9716.0</td>\n",
       "      <td>USA</td>\n",
       "      <td>4.0</td>\n",
       "      <td>NaN</td>\n",
       "      <td>2L</td>\n",
       "      <td>TN</td>\n",
       "      <td>usa</td>\n",
       "    </tr>\n",
       "  </tbody>\n",
       "</table>\n",
       "</div>"
      ],
      "text/plain": [
       "                             LEGAL_BUSINESS_NAME          DBA_NAME  \\\n",
       "137986                  SMITH FILTER CORPORATION               NaN   \n",
       "137987  URBAN RESEARCH & DEVELOPMENT CORPORATION               NaN   \n",
       "139002             BOSTON MEDICAL PRODUCTS, INC.               NaN   \n",
       "140481                       THE EASTERN COMPANY  EBERHARD MFG DIV   \n",
       "140812                        MICRON CORPORATION            MICRON   \n",
       "\n",
       "       PHYSICAL_ADDRESS_LINE_1 PHYSICAL_ADDRESS_LINE_2 PHYSICAL_ADDRESS_CITY  \\\n",
       "137986         5000 41ST ST CT                     NaN                MOLINE   \n",
       "137987           28 W BROAD ST                     NaN             BETHLEHEM   \n",
       "139002          70 CHESTNUT ST                     NaN            SHREWSBURY   \n",
       "140481          21944 DRAKE RD                     NaN          STRONGSVILLE   \n",
       "140812   1940 ELK RIVER DAM RD                     NaN             TULLAHOMA   \n",
       "\n",
       "       PHYSICAL_ADDRESS_PROVINCE_OR_STATE PHYSICAL_ADDRESS_ZIP  \\\n",
       "137986                                 IL                61265   \n",
       "137987                                 PA                18018   \n",
       "139002                                 MA                 1545   \n",
       "140481                                 OH                44149   \n",
       "140812                                 TN                37388   \n",
       "\n",
       "        PHYSICAL_ADDRESS_ZIP4 PHYSICAL_ADDRESS_COUNTRY_CODE  \\\n",
       "137986                 7583.0                           USA   \n",
       "137987                 5705.0                           USA   \n",
       "139002                 4101.0                           USA   \n",
       "140481                 6609.0                           USA   \n",
       "140812                 9716.0                           USA   \n",
       "\n",
       "        ENTITY_CONGRESSIONAL_DISTRICT CORPORATE_URL ENTITY_STRUCTURE  \\\n",
       "137986                           17.0           NaN               2L   \n",
       "137987                           15.0           NaN               2L   \n",
       "139002                            2.0           NaN               2L   \n",
       "140481                           16.0           NaN               2L   \n",
       "140812                            4.0           NaN               2L   \n",
       "\n",
       "       STATE_OF INC COUNTRY_OF_INC  \n",
       "137986           IL            usa  \n",
       "137987           PA            usa  \n",
       "139002           MA            usa  \n",
       "140481           CT            usa  \n",
       "140812           TN            usa  "
      ]
     },
     "execution_count": 79,
     "metadata": {},
     "output_type": "execute_result"
    }
   ],
   "source": [
    "org_list.head()"
   ]
  }
 ],
 "metadata": {
  "kernelspec": {
   "display_name": "Python 3",
   "language": "python",
   "name": "python3"
  },
  "language_info": {
   "codemirror_mode": {
    "name": "ipython",
    "version": 3
   },
   "file_extension": ".py",
   "mimetype": "text/x-python",
   "name": "python",
   "nbconvert_exporter": "python",
   "pygments_lexer": "ipython3",
   "version": "3.6.5"
  },
  "toc": {
   "base_numbering": 1,
   "nav_menu": {},
   "number_sections": true,
   "sideBar": true,
   "skip_h1_title": false,
   "title_cell": "Table of Contents",
   "title_sidebar": "Contents",
   "toc_cell": false,
   "toc_position": {},
   "toc_section_display": true,
   "toc_window_display": false
  },
  "varInspector": {
   "cols": {
    "lenName": 16,
    "lenType": 16,
    "lenVar": 40
   },
   "kernels_config": {
    "python": {
     "delete_cmd_postfix": "",
     "delete_cmd_prefix": "del ",
     "library": "var_list.py",
     "varRefreshCmd": "print(var_dic_list())"
    },
    "r": {
     "delete_cmd_postfix": ") ",
     "delete_cmd_prefix": "rm(",
     "library": "var_list.r",
     "varRefreshCmd": "cat(var_dic_list()) "
    }
   },
   "types_to_exclude": [
    "module",
    "function",
    "builtin_function_or_method",
    "instance",
    "_Feature"
   ],
   "window_display": false
  }
 },
 "nbformat": 4,
 "nbformat_minor": 2
}
