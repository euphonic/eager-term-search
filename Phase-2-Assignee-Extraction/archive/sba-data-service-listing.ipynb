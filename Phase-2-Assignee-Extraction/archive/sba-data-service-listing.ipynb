{
 "cells": [
  {
   "cell_type": "code",
   "execution_count": 59,
   "metadata": {
    "ExecuteTime": {
     "end_time": "2017-08-09T17:56:26.864201Z",
     "start_time": "2017-08-09T17:56:25.328201Z"
    },
    "collapsed": true
   },
   "outputs": [],
   "source": [
    "import json\n",
    "import pprint\n",
    "import pandas as pd"
   ]
  },
  {
   "cell_type": "code",
   "execution_count": 46,
   "metadata": {
    "ExecuteTime": {
     "end_time": "2017-08-09T16:22:02.774227Z",
     "start_time": "2017-08-09T16:22:02.730227Z"
    }
   },
   "outputs": [],
   "source": [
    "with open(\"./sba-enterprise.json\",\"r\", encoding=\"UTF-8\") as fp:\n",
    "    service_data=json.load(fp)"
   ]
  },
  {
   "cell_type": "code",
   "execution_count": 50,
   "metadata": {
    "ExecuteTime": {
     "end_time": "2017-08-09T16:22:28.782227Z",
     "start_time": "2017-08-09T16:22:28.775227Z"
    }
   },
   "outputs": [],
   "source": [
    "service_data=service_data[0]"
   ]
  },
  {
   "cell_type": "code",
   "execution_count": 57,
   "metadata": {
    "ExecuteTime": {
     "end_time": "2017-08-09T17:20:27.704227Z",
     "start_time": "2017-08-09T17:20:27.562227Z"
    }
   },
   "outputs": [
    {
     "name": "stdout",
     "output_type": "stream",
     "text": [
      "'SBA IT Policy Archive'\n",
      "'Bureau IT Leadership Directory'\n",
      "'CIO Governance Board Membership List'\n",
      "'Dynamic Small Business Search (DSBS)'\n",
      "('Small Business Administration (SBA) Loan Program Performance- Total Recovery '\n",
      " 'Amount for Guarantied Programs by Program')\n",
      "'U.S. Small Business HUBZone Qualitfied Census Tracts'\n",
      "'U.S. Small Business HUBZone Base Closure Areas'\n",
      "'U.S. Small Business HUBZone Qualified Indian Lands'\n",
      "'U.S. Small Business HUBZone Nonmetropolitan Counties'\n",
      "\"Office of Advocacy's News Update File\"\n",
      "('RASCO (Recruitment, Assessment, Selection, Credentialing and Onboarding) '\n",
      " 'Tracker')\n",
      "'SBA 7a and 504 Loan Data Reports'\n",
      "'SBA Disaster Loan Data FY2011'\n",
      "'SBA Disaster Loan Data FY2008'\n",
      "'SBA Disaster Loan Data FY2007'\n",
      "'SBA Disaster Loan Data FY2006'\n",
      "'SBA Disaster Loan Data FY2005'\n",
      "'SBA Disaster Loan Data FY2004'\n",
      "'SBA Network Components & Software Inventory'\n",
      "'SBA Disaster Loan Data FY2012'\n",
      "'SBA Disaster Loan Data FY2013'\n",
      "'SBA Disaster Loan Data FY2014'\n",
      "'SBA Disaster Loan Data FY2009'\n",
      "'SBA Disaster Loan Data FY2010'\n",
      "'SBA Disaster Loan Data FY2015'\n",
      "'SBA Disaster Loan Data FY2016'\n",
      "'SBA Disaster Loan Data - Superstorm Sandy'\n",
      "'SBA Emails RSS'\n",
      "'SBA Enterprise Datasets'\n",
      "'SBA FITARA Implementation Plan'\n",
      "'SBA IT Reform Cost Savings/Avoidance'\n",
      "('Small Business Administration (SBA) Loan Program Performance- Charge Off '\n",
      " 'Rates as a Percent of Unpaid Principal Balance (UPB) Amount by Program')\n",
      "('Small Business Administration (SBA) Loan Program Performance- Post-Charge '\n",
      " 'Off Recovery Amount by Program')\n",
      "('Small Business Administration (SBA) Loan Program Performance- Post-Charge '\n",
      " 'Off Recovery Rates by Program')\n",
      "('Small Business Administration (SBA) Loan Program Performance- Purchase Rates '\n",
      " 'as a Percent of Unpaid Principal Balance (UPB)')\n",
      "('Small Business Administration (SBA) Loan Program Performance- Total Recovery '\n",
      " 'Rates for Guarantied Programs by Program')\n",
      "'SBA Public Datasets'\n",
      "('Small Business Administration (SBA) Loan Program Performance- Charge Off '\n",
      " 'Amount by Program')\n",
      "('Small Business Administration (SBA) Loan Program Performance- Gross Approval '\n",
      " 'Amount by Program')\n",
      "('Small Business Administration (SBA) Loan Program Performance- Number of '\n",
      " 'Approved Loans by Program')\n",
      "('Small Business Administration (SBA) Loan Program Performance- Purchase '\n",
      " 'Amount by Program')\n",
      "('Small Business Administration (SBA) Loan Program Performance- Unpaid '\n",
      " 'Principal Balance by Program')\n",
      "'Small Business Data Resources: U.S. Federal Government - 2014'\n",
      "'Small Business Lending Institutions_2013'\n",
      "'Small Business Lending Institutions in Alabama_2013'\n",
      "'Small Business Lending Institutions in Alaska_2013'\n",
      "'Small Business Lending Institutions in Arizona_2013'\n",
      "'Small Business Lending Institutions in California_2013'\n",
      "'Small Business Lending Institutions in Arkansas_2013'\n",
      "'Small Business Lending Institutions in Colorado_2013'\n",
      "'Small Business Lending Institutions in Connecticut_2013'\n",
      "'Small Business Lending Institutions in Delaware_2013'\n",
      "'Small Business Lending Institutions in Florida_2013'\n",
      "'Small Business Lending Institutions in Georgia_2013'\n",
      "'Small Business Lending Institutions in Guam_2013'\n",
      "'Small Business Lending Institutions in Hawaii_2013'\n",
      "'Small Business Lending Institutions in Idaho_2013'\n",
      "'Small Business Lending Institutions in Illinois_2013'\n",
      "'Small Business Lending Institutions in Indiana_2013'\n",
      "'Small Business Lending Institutions in Iowa_2013'\n",
      "'Small Business Lending Institutions in Kansas_2013'\n",
      "'Small Business Lending Institutions in Kentucky_2013'\n",
      "'Small Business Lending Institutions in Louisiana_2013'\n",
      "'Small Business Lending Institutions in Maine_2013'\n",
      "'Small Business Lending Institutions in Maryland_2013'\n",
      "'Small Business Lending Institutions in Massachusetts_2013'\n",
      "'Small Business Lending Institutions in Michigan_2013'\n",
      "'Small Business Lending Institutions in Minnesota_2013'\n",
      "'Small Business Lending Institutions in Mississippi_2013'\n",
      "'Small Business Lending Institutions in Missouri_2013'\n",
      "'Small Business Lending Institutions in Montana_2013'\n",
      "'Small Business Lending Institutions in Nebraska_2013'\n",
      "'Small Business Lending Institutions in Nevada_2013'\n",
      "'Small Business Lending Institutions in New Hampshire_2013'\n",
      "'Small Business Lending Institutions in New Jersey_2013'\n",
      "'Small Business Lending Institutions in New Mexico_2013'\n",
      "'Small Business Lending Institutions in New York_2013'\n",
      "'Small Business Lending Institutions in North Carolina_2013'\n",
      "'Small Business Lending Institutions in North Dakota_2013'\n",
      "'Small Business Lending Institutions in Ohio_2013'\n",
      "'Small Business Lending Institutions in Oklahoma_2013'\n",
      "'Small Business Lending Institutions in Oregon_2013'\n",
      "'Small Business Lending Institutions in Pennsylvania_2013'\n",
      "'Small Business Lending Institutions in Puerto Rico_2013'\n",
      "'Small Business Lending Institutions in Rhode Island_2013'\n",
      "'Small Business Lending Institutions in South Carolina_2013'\n",
      "'Small Business Lending Institutions in South Dakota_2013'\n",
      "'Small Business Lending Institutions in Tennessee_2013'\n",
      "'Small Business Lending Institutions in Texas_2013'\n",
      "'Small Business Lending Institutions in Utah_2013'\n",
      "'Small Business Lending Institutions in U.S. Virgin Islands_2013'\n",
      "'Small Business Lending Institutions in Vermont_2013'\n",
      "'Small Business Lending Institutions in Virginia_2013'\n",
      "'Small Business Lending Institutions in Washington_2013'\n",
      "'Small Business Lending Institutions in District of Columbia_2013'\n",
      "'Small Business Lending Institutions in West Virginia_2013'\n",
      "'Small Business Lending Institutions in Wisconsin_2013'\n",
      "'Small Business Lending Institutions in Wymoing_2013'\n",
      "'Small Business Lending Institutions in Federated St. Micronesia_2013'\n",
      "'Small Business Lending Institutions in Delaware - 2010-2011'\n",
      "'Small Business Lending Institutions in Florida - 2010-2011'\n",
      "'Small Business Lending Institutions in Georgia - 2010-2011'\n",
      "'Small Business Lending Institutions in Guam - 2010-2011'\n",
      "'Small Business Lending Institutions in Hawaii - 2010-2011'\n",
      "'Small Business Lending Institutions in Idaho - 2010-2011'\n",
      "'Small Business Lending Institutions in Illinois - 2010-2011'\n",
      "'Small Business Lending Institutions in Indiana - 2010-2011'\n",
      "'Small Business Lending Institutions in Iowa - 2010-2011'\n",
      "'Small Business Lending Institutions in Kansas - 2010-2011'\n",
      "'Small Business Lending Institutions in Kentucky - 2010-2011'\n",
      "'Small Business Lending Institutions in Louisiana - 2010-2011'\n",
      "'Small Business Lending Institutions in Maine - 2010-2011'\n",
      "'Small Business Lending Institutions in Maryland - 2010-2011'\n",
      "'Small Business Lending Institutions in Massachusetts - 2010-2011'\n",
      "'Small Business Lending Institutions in Michigan - 2010-2011'\n",
      "'Small Business Lending Institutions in Minnesota - 2010-2011'\n",
      "'Small Business Lending Institutions in Mississippi - 2010-2011'\n",
      "'Small Business Lending Institutions in Missouri - 2010-2011'\n",
      "'Small Business Lending Institutions in Montana - 2010-2011'\n",
      "'Small Business Lending Institutions in Nebraska - 2010-2011'\n",
      "'Small Business Lending Institutions in Nevada - 2010-2011'\n",
      "'Small Business Lending Institutions in New Hampshire - 2010-2011'\n",
      "'Small Business Lending Institutions in New Jersey - 2010-2011'\n",
      "'Small Business Lending Institutions in New Mexico - 2010-2011'\n",
      "'Small Business Lending Institutions in North Dakota - 2010-2011'\n",
      "'Small Business Lending Institutions in Ohio - 2010-2011'\n",
      "'Small Business Lending Institutions in Oklahoma - 2010-2011'\n",
      "'Small Business Lending Institutions in Oregon - 2010-2011'\n",
      "'Small Business Lending Institutions in Pennsylvania - 2010-2011'\n",
      "'Small Business Lending Institutions in Puerto Rico - 2010-2011'\n",
      "'Small Business Lending Institutions in Rhode Island - 2010-2011'\n",
      "'Small Business Lending Institutions in South Carolina - 2010-2011'\n",
      "'Small Business Lending Institutions in South Dakota - 2010-2011'\n",
      "'Small Business Lending Institutions in Tennessee - 2010-2011'\n",
      "'Small Business Lending Institutions in Texas - 2010-2011'\n",
      "'Small Business Lending Institutions in Utah - 2010-2011'\n",
      "'Small Business Lending Institutions in U.S. Virgin Islands - 2010-2011'\n",
      "'Small Business Lending Institutions in Vermont - 2010-2011'\n",
      "'Small Business Lending Institutions in Virginia - 2010-2011'\n",
      "'Small Business Lending Institutions in Washington - 2010-2011'\n",
      "'Small Business Lending Institutions in District of Columbia - 2010-2011'\n",
      "'Small Business Lending Institutions in West Virginia - 2010-2011'\n",
      "'Small Business Lending Institutions in Wisconsin - 2010-2011'\n",
      "'Small Business Lending Institutions in Wyoming - 2010-2011'\n",
      "'Small Business Lending Institutions in Federated St. Micronesia - 2010-2011'\n",
      "'Small Business Lending Institutions in New York - 2010-2011'\n",
      "'Small Business Lending Institutions in North Carolina - 2010-2011'\n",
      "'Small Business Lending in the United States - 2010-2011'\n",
      "'Small Business Lending in the United States - 2012'\n",
      "'Small Business Lending Institutions in Alabama - 2012'\n",
      "'Small Business Lending Institutions in Alaska - 2012'\n",
      "'Small Business Lending Institutions in Arizona - 2012'\n",
      "'Small Business Lending Institutions in Arkansas - 2012'\n",
      "'Small Business Lending Institutions in California - 2012'\n",
      "'Small Business Lending Institutions in Colorado - 2012'\n",
      "'Small Business Lending Institutions in Connecticut - 2012'\n",
      "'Small Business Lending Institutions in Delaware - 2012'\n",
      "'Small Business Lending Institutions in Florida - 2012'\n",
      "'Small Business Lending Institutions in Georgia - 2012'\n",
      "'Small Business Lending Institutions in Guam - 2012'\n",
      "'Small Business Lending Institutions in Hawaii - 2012'\n",
      "'Small Business Lending Institutions in Idaho - 2012'\n",
      "'Small Business Lending Institutions in Illinois - 2012'\n",
      "'Small Business Lending Institutions in Indiana - 2012'\n",
      "'Small Business Lending Institutions in Iowa - 2012'\n",
      "'Small Business Lending Institutions in Kansas - 2012'\n",
      "'Small Business Lending Institutions in Kentucky - 2012'\n",
      "'Small Business Lending Institutions in Louisiana - 2012'\n",
      "'Small Business Lending Institutions in Maine - 2012'\n",
      "'Small Business Lending Institutions in Maryland - 2012'\n",
      "'Small Business Lending Institutions in Massachusetts - 2012'\n",
      "'Small Business Lending Institutions in Michigan - 2012'\n",
      "'Small Business Lending Institutions in Minnesota - 2012'\n",
      "'Small Business Lending Institutions in Mississippi - 2012'\n",
      "'Small Business Lending Institutions in Missouri - 2012'\n",
      "'Small Business Lending Institutions in Montana - 2012'\n",
      "'Small Business Lending Institutions in Nebraska - 2012'\n",
      "'Small Business Lending Institutions in Nevada - 2012'\n",
      "'Small Business Lending Institutions in New Hampshire - 2012'\n",
      "'Small Business Lending Institutions in New Jersey - 2012'\n",
      "'Small Business Lending Institutions in New Mexico - 2012'\n",
      "'Small Business Lending Institutions in New York - 2012'\n",
      "'Small Business Lending Institutions in North Carolina - 2012'\n",
      "'Small Business Lending Institutions in North Dakota - 2012'\n",
      "'Small Business Lending Institutions in Ohio - 2012'\n",
      "'Small Business Lending Institutions in Oklahoma - 2012'\n",
      "'Small Business Lending Institutions in Oregon - 2012'\n",
      "'Small Business Lending Institutions in Pennsylvania - 2012'\n",
      "'Small Business Lending Institutions in Puerto Rico - 2012'\n",
      "'Small Business Lending Institutions in Rhode Island - 2012'\n",
      "'Small Business Lending Institutions in South Carolina - 2012'\n",
      "'Small Business Lending Institutions in South Dakota - 2012'\n",
      "'Small Business Lending Institutions in Tennessee - 2012'\n",
      "'Small Business Lending Institutions in Texas - 2012'\n",
      "'Small Business Lending Institutions in Utah - 2012'\n",
      "'Small Business Lending Institutions in U.S. Virgin Islands - 2012'\n",
      "'Small Business Lending Institutions in Vermont - 2012'\n",
      "'Small Business Lending Institutions in Virginia - 2012'\n",
      "'Small Business Lending Institutions in Washington - 2012'\n",
      "'Small Business Lending Institutions in District of Columbia - 2012'\n",
      "'Small Business Lending Institutions in West Virginia - 2012'\n",
      "'Small Business Lending Institutions in Wisconsin - 2012'\n",
      "'Small Business Lending Institutions in Wyoming - 2012'\n",
      "'Small Business Lending Institutions in Federated St. Micronesia - 2012'\n",
      "'Small Business Profiles for the States and Territories - 2014'\n",
      "'Small Business Profiles for the States and Territories - 2013'\n",
      "'Small Business Profiles for the States and Territories - 2012'\n",
      "'Small Business Profiles for the States and Territories - 2011'\n",
      "'Small Business Profiles for the States and Territories - 2016'\n",
      "'Small Business Profiles for the States and Territories – Alabama - 2014'\n",
      "'Small Business Profiles for the States and Territories – Alabama - 2012'\n",
      "'Small Business Profiles for the States and Territories – Alabama - 2016'\n",
      "'Small Business Profiles for the States and Territories – Alabama - 2011'\n",
      "'Small Business Profiles for the States and Territories – Alabama - 2013'\n",
      "'Small Business Profiles for the States and Territories – Alaska - 2014'\n",
      "'Small Business Profiles for the States and Territories – Alaska - 2013'\n",
      "'Small Business Profiles for the States and Territories – Alaska - 2012'\n",
      "'Small Business Profiles for the States and Territories – Alaska - 2016'\n",
      "'Small Business Profiles for the States and Territories – Alaska - 2011'\n",
      "'Small Business Profiles for the States and Territories - All Profiles - 2014'\n",
      "'Small Business Profiles for the States and Territories - All Profiles - 2013'\n",
      "'Small Business Profiles for the States and Territories - All Profiles - 2012'\n",
      "'Small Business Profiles for the States and Territories - All Profiles - 2016'\n",
      "'Small Business Procurement Scorecard Overview for 2007'\n",
      "'Small Business Procurement Scorecard Overview for 2008'\n",
      "'Small Business Procurement Scorecard Overview for 2009'\n",
      "'Small Business Procurement Scorecard Overview for 2010'\n",
      "'Small Business Procurement Scorecard Overview for 2011'\n",
      "'Small Business Procurement Scorecard Overview for 2012'\n",
      "'Small Business Procurement Scorecard Overview for 2013'\n",
      "'Small Business Procurement Scorecard Overview for 2014'\n",
      "'Small Business Procurement Scorecard Overview for 2015'\n",
      "'Small Business Procurement Scorecard Overview for 2016'\n",
      "'Small Business Profiles for the States and Territories – Arizona - 2014'\n",
      "'Small Business Profiles for the States and Territories – Arizona - 2012'\n",
      "'Small Business Profiles for the States and Territories – Arizona - 2016'\n",
      "'Small Business Profiles for the States and Territories – Arizona - 2011'\n",
      "'Small Business Profiles for the States and Territories – Arizona - 2013'\n",
      "'Small Business Profiles for the States and Territories – Arkansas - 2014'\n",
      "'Small Business Profiles for the States and Territories – Arkansas - 2013'\n",
      "'Small Business Profiles for the States and Territories – Arkansas - 2012'\n",
      "'Small Business Profiles for the States and Territories – Arkansas - 2016'\n",
      "'Small Business Profiles for the States and Territories – Arkansas - 2011'\n",
      "'Small Business Profiles for the States and Territories – California - 2014'\n",
      "'Small Business Profiles for the States and Territories – California - 2012'\n",
      "'Small Business Profiles for the States and Territories – California - 2016'\n",
      "'Small Business Profiles for the States and Territories – California - 2011'\n",
      "'Small Business Profiles for the States and Territories – California - 2013'\n",
      "'Small Business Profiles for the States and Territories – Colorado - 2014'\n",
      "'Small Business Profiles for the States and Territories – Colorado - 2012'\n",
      "'Small Business Profiles for the States and Territories – Colorado - 2016'\n",
      "'Small Business Profiles for the States and Territories – Colorado - 2011'\n",
      "'Small Business Profiles for the States and Territories – Colorado - 2013'\n",
      "'Small Business Profiles for the States and Territories – Connecticut - 2014'\n",
      "'Small Business Profiles for the States and Territories – Connecticut - 2012'\n",
      "'Small Business Profiles for the States and Territories – Connecticut - 2016'\n",
      "'Small Business Profiles for the States and Territories – Connecticut - 2011'\n",
      "'Small Business Profiles for the States and Territories – Connecticut - 2013'\n",
      "'Small Business Profiles for the States and Territories – Delaware - 2014'\n",
      "'Small Business Profiles for the States and Territories – Delaware - 2012'\n",
      "'Small Business Profiles for the States and Territories – Delaware - 2016'\n",
      "'Small Business Profiles for the States and Territories – Delaware - 2011'\n",
      "'Small Business Profiles for the States and Territories – Delaware - 2013'\n",
      "('Small Business Profiles for the States and Territories - District of '\n",
      " 'Columbia - 2014')\n",
      "('Small Business Profiles for the States and Territories - District of '\n",
      " 'Columbia - 2013')\n",
      "('Small Business Profiles for the States and Territories - District of '\n",
      " 'Columbia - 2012')\n",
      "('Small Business Profiles for the States and Territories - District of '\n",
      " 'Columbia - 2016')\n",
      "('Small Business Profiles for the States and Territories - District of '\n",
      " 'Columbia - 2011')\n",
      "'Small Business Profiles for the States and Territories - Florida - 2014'\n",
      "'Small Business Profiles for the States and Territories - Florida - 2012'\n",
      "'Small Business Profiles for the States and Territories - Florida - 2016'\n",
      "'Small Business Profiles for the States and Territories - Florida - 2011'\n",
      "'Small Business Profiles for the States and Territories - Florida - 2013'\n",
      "'Small Business Profiles for the States and Territories - Georgia - 2014'\n",
      "'Small Business Profiles for the States and Territories - Georgia - 2012'\n",
      "'Small Business Profiles for the States and Territories - Georgia - 2016'\n",
      "'Small Business Profiles for the States and Territories - Georgia - 2011'\n",
      "'Small Business Profiles for the States and Territories - Georgia - 2013'\n",
      "'Small Business Profiles for the States and Territories - Hawaii - 2014'\n",
      "'Small Business Profiles for the States and Territories - Hawaii - 2013'\n",
      "'Small Business Profiles for the States and Territories - Hawaii - 2012'\n",
      "'Small Business Profiles for the States and Territories - Hawaii - 2016'\n",
      "'Small Business Profiles for the States and Territories - Hawaii - 2011'\n",
      "'Small Business Profiles for the States and Territories - Idaho - 2014'\n",
      "'Small Business Profiles for the States and Territories - Idaho - 2013'\n",
      "'Small Business Profiles for the States and Territories - Idaho - 2012'\n",
      "'Small Business Profiles for the States and Territories - Idaho - 2016'\n",
      "'Small Business Profiles for the States and Territories - Idaho - 2011'\n",
      "'Small Business Profiles for the States and Territories - Illinois - 2014'\n",
      "'Small Business Profiles for the States and Territories - Illinois - 2012'\n",
      "'Small Business Profiles for the States and Territories - Illinois - 2016'\n",
      "'Small Business Profiles for the States and Territories - Illinois - 2011'\n",
      "'Small Business Profiles for the States and Territories - Illinois - 2013'\n",
      "'Small Business Profiles for the States and Territories - Indiana - 2014'\n",
      "'Small Business Profiles for the States and Territories - Indiana - 2012'\n",
      "'Small Business Profiles for the States and Territories - Indiana - 2016'\n",
      "'Small Business Profiles for the States and Territories - Indiana - 2011'\n",
      "'Small Business Profiles for the States and Territories - Indiana - 2013'\n",
      "'Small Business Profiles for the States and Territories - Iowa - 2014'\n",
      "'Small Business Profiles for the States and Territories - Iowa - 2013'\n",
      "'Small Business Profiles for the States and Territories - Iowa - 2012'\n",
      "'Small Business Profiles for the States and Territories - Iowa - 2016'\n",
      "'Small Business Profiles for the States and Territories - Iowa - 2011'\n",
      "'Small Business Profiles for the States and Territories - Kansas - 2014'\n",
      "'Small Business Profiles for the States and Territories - Kansas - 2013'\n",
      "'Small Business Profiles for the States and Territories - Kansas - 2012'\n",
      "'Small Business Profiles for the States and Territories - Kansas - 2016'\n",
      "'Small Business Profiles for the States and Territories - Kansas - 2011'\n",
      "'Small Business Profiles for the States and Territories - Kentucky - 2014'\n",
      "'Small Business Profiles for the States and Territories - Kentucky - 2012'\n",
      "'Small Business Profiles for the States and Territories - Kentucky - 2016'\n",
      "'Small Business Profiles for the States and Territories - Kentucky - 2011'\n",
      "'Small Business Profiles for the States and Territories - Kentucky - 2013'\n",
      "'Small Business Profiles for the States and Territories - Louisiana - 2014'\n",
      "'Small Business Profiles for the States and Territories - Louisiana - 2012'\n",
      "'Small Business Profiles for the States and Territories - Louisiana - 2016'\n",
      "'Small Business Profiles for the States and Territories - Louisiana - 2011'\n",
      "'Small Business Profiles for the States and Territories - Louisiana - 2013'\n",
      "'Small Business Profiles for the States and Territories - Maine - 2014'\n",
      "'Small Business Profiles for the States and Territories - Maine - 2013'\n",
      "'Small Business Profiles for the States and Territories - Maine - 2012'\n",
      "'Small Business Profiles for the States and Territories - Maine - 2016'\n",
      "'Small Business Profiles for the States and Territories - Maine - 2011'\n",
      "'Small Business Profiles for the States and Territories - Maryland - 2014'\n",
      "'Small Business Profiles for the States and Territories - Maryland - 2012'\n",
      "'Small Business Profiles for the States and Territories - Maryland - 2016'\n",
      "'Small Business Profiles for the States and Territories - Maryland - 2011'\n",
      "'Small Business Profiles for the States and Territories - Maryland - 2013'\n",
      "'Small Business Profiles for the States and Territories - Massachusetts - 2014'\n",
      "'Small Business Profiles for the States and Territories - Massachusetts - 2013'\n",
      "'Small Business Profiles for the States and Territories - Massachusetts - 2012'\n",
      "'Small Business Profiles for the States and Territories - Massachusetts - 2016'\n",
      "'Small Business Profiles for the States and Territories - Massachusetts - 2011'\n",
      "'Small Business Profiles for the States and Territories - Michigan - 2014'\n",
      "'Small Business Profiles for the States and Territories - Michigan - 2012'\n",
      "'Small Business Profiles for the States and Territories - Michigan - 2016'\n",
      "'Small Business Profiles for the States and Territories - Michigan - 2011'\n",
      "'Small Business Profiles for the States and Territories - Michigan - 2013'\n",
      "'Small Business Profiles for the States and Territories - Minnesota - 2014'\n",
      "'Small Business Profiles for the States and Territories - Minnesota - 2012'\n",
      "'Small Business Profiles for the States and Territories - Minnesota - 2016'\n",
      "'Small Business Profiles for the States and Territories - Minnesota - 2011'\n",
      "'Small Business Profiles for the States and Territories - Minnesota - 2013'\n",
      "'Small Business Profiles for the States and Territories - Mississippi - 2014'\n",
      "'Small Business Profiles for the States and Territories - Mississippi - 2012'\n",
      "'Small Business Profiles for the States and Territories - Mississippi - 2016'\n",
      "'Small Business Profiles for the States and Territories - Mississippi - 2011'\n",
      "'Small Business Profiles for the States and Territories - Mississippi - 2013'\n",
      "'Small Business Profiles for the States and Territories - Missouri - 2014'\n",
      "'Small Business Profiles for the States and Territories - Missouri - 2012'\n",
      "'Small Business Profiles for the States and Territories - Missouri - 2016'\n",
      "'Small Business Profiles for the States and Territories - Missouri - 2011'\n",
      "'Small Business Profiles for the States and Territories - Missouri - 2013'\n",
      "'Small Business Profiles for the States and Territories - Montana - 2014'\n",
      "'Small Business Profiles for the States and Territories - Montana - 2013'\n",
      "'Small Business Profiles for the States and Territories - Montana - 2012'\n",
      "'Small Business Profiles for the States and Territories - Montana - 2016'\n",
      "'Small Business Profiles for the States and Territories - Montana - 2011'\n",
      "'Small Business Profiles for the States and Territories - Nebraska - 2014'\n",
      "'Small Business Profiles for the States and Territories - Nebraska - 2012'\n",
      "'Small Business Profiles for the States and Territories - Nebraska - 2016'\n",
      "'Small Business Profiles for the States and Territories - Nebraska - 2011'\n",
      "'Small Business Profiles for the States and Territories - Nebraska - 2013'\n",
      "'Small Business Profiles for the States and Territories - Nevada - 2014'\n",
      "'Small Business Profiles for the States and Territories - Nevada - 2013'\n",
      "'Small Business Profiles for the States and Territories - Nevada - 2012'\n",
      "'Small Business Profiles for the States and Territories - Nevada - 2016'\n",
      "'Small Business Profiles for the States and Territories - Nevada - 2011'\n",
      "'Small Business Profiles for the States and Territories - New Hampshire - 2014'\n",
      "'Small Business Profiles for the States and Territories - New Hampshire - 2013'\n",
      "'Small Business Profiles for the States and Territories - New Hampshire - 2012'\n",
      "'Small Business Profiles for the States and Territories - New Hampshire - 2016'\n",
      "'Small Business Profiles for the States and Territories - New Hampshire - 2011'\n",
      "'Small Business Profiles for the States and Territories - New Jersey - 2014'\n",
      "'Small Business Profiles for the States and Territories - New Jersey - 2013'\n",
      "'Small Business Profiles for the States and Territories - New Jersey - 2012'\n",
      "'Small Business Profiles for the States and Territories - New Jersey - 2016'\n",
      "'Small Business Profiles for the States and Territories - New Jersey - 2011'\n",
      "'Small Business Profiles for the States and Territories - New Mexico - 2014'\n",
      "'Small Business Profiles for the States and Territories - New Mexico - 2013'\n",
      "'Small Business Profiles for the States and Territories - New Mexico - 2012'\n",
      "'Small Business Profiles for the States and Territories - New Mexico - 2016'\n",
      "'Small Business Profiles for the States and Territories - New Mexico - 2011'\n",
      "'Small Business Profiles for the States and Territories - New York - 2014'\n",
      "'Small Business Profiles for the States and Territories - New York - 2012'\n",
      "'Small Business Profiles for the States and Territories - New York - 2016'\n",
      "'Small Business Profiles for the States and Territories - New York - 2011'\n",
      "'Small Business Profiles for the States and Territories - New York - 2013'\n",
      "'Small Business Profiles for the States and Territories - North Carolina - 2014'\n",
      "'Small Business Profiles for the States and Territories - North Carolina - 2013'\n",
      "'Small Business Profiles for the States and Territories - North Carolina - 2012'\n",
      "'Small Business Profiles for the States and Territories - North Carolina - 2016'\n",
      "'Small Business Profiles for the States and Territories - North Carolina - 2011'\n",
      "'Small Business Profiles for the States and Territories - North Dakota - 2014'\n",
      "'Small Business Profiles for the States and Territories - North Dakota - 2013'\n",
      "'Small Business Profiles for the States and Territories - North Dakota - 2012'\n",
      "'Small Business Profiles for the States and Territories - North Dakota - 2016'\n",
      "'Small Business Profiles for the States and Territories - North Dakota - 2011'\n",
      "'Small Business Profiles for the States and Territories – Ohio - 2014'\n",
      "'Small Business Profiles for the States and Territories – Ohio - 2013'\n",
      "'Small Business Profiles for the States and Territories – Ohio - 2012'\n",
      "'Small Business Profiles for the States and Territories – Ohio - 2016'\n",
      "'Small Business Profiles for the States and Territories – Ohio - 2011'\n",
      "'Small Business Profiles for the States and Territories – Oklahoma - 2014'\n",
      "'Small Business Profiles for the States and Territories – Oklahoma - 2013'\n",
      "'Small Business Profiles for the States and Territories – Oklahoma - 2012'\n",
      "'Small Business Profiles for the States and Territories – Oklahoma - 2016'\n",
      "'Small Business Profiles for the States and Territories – Oklahoma - 2011'\n",
      "'Small Business Profiles for the States and Territories – Oregon - 2014'\n",
      "'Small Business Profiles for the States and Territories – Oregon - 2013'\n",
      "'Small Business Profiles for the States and Territories – Oregon - 2012'\n",
      "'Small Business Profiles for the States and Territories – Oregon - 2016'\n",
      "'Small Business Profiles for the States and Territories – Oregon - 2011'\n",
      "'Small Business Profiles for the States and Territories – Pennsylvania - 2014'\n",
      "'Small Business Profiles for the States and Territories – Pennsylvania - 2013'\n",
      "'Small Business Profiles for the States and Territories – Pennsylvania - 2012'\n",
      "'Small Business Profiles for the States and Territories – Pennsylvania - 2016'\n",
      "'Small Business Profiles for the States and Territories – Pennsylvania - 2011'\n",
      "'Small Business Profiles for the States and Territories - Rhode Island - 2014'\n",
      "'Small Business Profiles for the States and Territories - Rhode Island - 2013'\n",
      "'Small Business Profiles for the States and Territories - Rhode Island - 2012'\n",
      "'Small Business Profiles for the States and Territories - Rhode Island - 2016'\n",
      "'Small Business Profiles for the States and Territories - Rhode Island - 2011'\n",
      "'Small Business Profiles for the States and Territories - South Carolina - 2014'\n",
      "'Small Business Profiles for the States and Territories - South Carolina - 2013'\n",
      "'Small Business Profiles for the States and Territories - South Carolina - 2012'\n",
      "'Small Business Profiles for the States and Territories - South Carolina - 2016'\n",
      "'Small Business Profiles for the States and Territories - South Carolina - 2011'\n",
      "'Small Business Profiles for the States and Territories - South Dakota - 2014'\n",
      "'Small Business Profiles for the States and Territories - South Dakota - 2013'\n",
      "'Small Business Profiles for the States and Territories - South Dakota - 2012'\n",
      "'Small Business Profiles for the States and Territories - South Dakota - 2016'\n",
      "'Small Business Profiles for the States and Territories - South Dakota - 2011'\n",
      "'Small Business Profiles for the States and Territories - Tennessee - 2014'\n",
      "'Small Business Profiles for the States and Territories - Tennessee - 2012'\n",
      "'Small Business Profiles for the States and Territories - Tennessee - 2016'\n",
      "'Small Business Profiles for the States and Territories - Tennessee - 2011'\n",
      "'Small Business Profiles for the States and Territories - Tennessee - 2013'\n",
      "'Small Business Profiles for the States and Territories - Texas - 2014'\n",
      "'Small Business Profiles for the States and Territories - Texas - 2013'\n",
      "'Small Business Profiles for the States and Territories - Texas - 2012'\n",
      "'Small Business Profiles for the States and Territories - Texas - 2016'\n",
      "'Small Business Profiles for the States and Territories - Texas - 2011'\n",
      "'Small Business Profiles for the States and Territories - United States - 2014'\n",
      "'Small Business Profiles for the States and Territories - United States - 2013'\n",
      "'Small Business Profiles for the States and Territories - United States - 2012'\n",
      "'Small Business Profiles for the States and Territories - United States - 2016'\n",
      "'Small Business Profiles for the States and Territories - United States - 2011'\n",
      "('Small Business Profiles for the States and Territories - U.S. Territories - '\n",
      " '2014')\n",
      "('Small Business Profiles for the States and Territories - U.S. Territories - '\n",
      " '2012')\n",
      "('Small Business Profiles for the States and Territories - U.S. Territories - '\n",
      " '2011')\n",
      "('Small Business Profiles for the States and Territories - U.S. Territories - '\n",
      " '2013')\n",
      "'Small Business Profiles for the States and Territories - Utah - 2014'\n",
      "'Small Business Profiles for the States and Territories - Utah - 2013'\n",
      "'Small Business Profiles for the States and Territories - Utah - 2012'\n",
      "'Small Business Profiles for the States and Territories - Utah - 2016'\n",
      "'Small Business Profiles for the States and Territories - Utah - 2011'\n",
      "'Small Business Profiles for the States and Territories - Vermont - 2014'\n",
      "'Small Business Profiles for the States and Territories - Vermont - 2013'\n",
      "'Small Business Profiles for the States and Territories - Vermont - 2012'\n",
      "'Small Business Profiles for the States and Territories - Vermont - 2016'\n",
      "'Small Business Profiles for the States and Territories - Vermont - 2011'\n",
      "'Small Business Profiles for the States and Territories - Virginia - 2014'\n",
      "'Small Business Profiles for the States and Territories - Virginia - 2013'\n",
      "'Small Business Profiles for the States and Territories - Virginia - 2012'\n",
      "'Small Business Profiles for the States and Territories - Virginia - 2016'\n",
      "'Small Business Profiles for the States and Territories - Virginia - 2011'\n",
      "'Small Business Profiles for the States and Territories - Washington - 2014'\n",
      "'Small Business Profiles for the States and Territories - Washington - 2012'\n",
      "'Small Business Profiles for the States and Territories - Washington - 2016'\n",
      "'Small Business Profiles for the States and Territories - Washington - 2011'\n",
      "'Small Business Profiles for the States and Territories - Washington - 2013'\n",
      "'Small Business Profiles for the States and Territories - West Virginia - 2014'\n",
      "'Small Business Profiles for the States and Territories - West Virginia - 2012'\n",
      "'Small Business Profiles for the States and Territories - West Virginia - 2016'\n",
      "'Small Business Profiles for the States and Territories - West Virginia - 2011'\n",
      "'Small Business Profiles for the States and Territories - West Virginia - 2013'\n",
      "'Small Business Profiles for the States and Territories - Wisconsin - 2014'\n",
      "'Small Business Profiles for the States and Territories - Wisconsin - 2013'\n",
      "'Small Business Profiles for the States and Territories - Wisconsin - 2012'\n",
      "'Small Business Profiles for the States and Territories - Wisconsin - 2016'\n",
      "'Small Business Profiles for the States and Territories - Wisconsin - 2011'\n",
      "'Small Business Profiles for the States and Territories - Wyoming - 2014'\n",
      "'Small Business Profiles for the States and Territories - Wyoming - 2012'\n",
      "'Small Business Profiles for the States and Territories - Wyoming - 2016'\n",
      "'SBA District Offices'\n",
      "'SBA Regional Office'\n",
      "'Disaster Field Office'\n",
      "'SCORE Chapter'\n",
      "'Small Business Development Center'\n",
      "'Womens Business Center'\n",
      "'U.S. Export Assistance Center'\n",
      "\"Veteran's Business Outreach Center\"\n",
      "'Certified Development Company'\n",
      "'Procurement Technical Assistance Centers'\n",
      "'Regional Innovation Clusters'\n",
      "'ScaleUp America Communities'\n",
      "'Small Business Profiles for the States and Territories - Wyoming - 2011'\n",
      "'Small Business Profiles for the States and Territories - Wyoming - 2013'\n",
      "'Small Business Size Standards'\n",
      "'Small Business Lending Institutions in Alabama - 2010-2011'\n",
      "'Small Business Lending Institutions in Alaska - 2010-2011'\n",
      "'Small Business Lending Institutions in Arizona - 2010-2011'\n",
      "'Small Business Lending Institutions in Arkansas - 2010-2011'\n",
      "'Small Business Lending Institutions in California - 2010-2011'\n",
      "'Small Business Lending Institutions in Colorado - 2010-2011'\n",
      "'Small Business Lending Institutions in Connecticut - 2010-2011'\n",
      "'State Licenses & Permits'\n",
      "'The Developer Software Whitelist Approved by ARB'\n",
      "{'@type': 'dcat:Dataset',\n",
      " 'accessLevel': 'restricted public',\n",
      " 'bureauCode': ['028:00'],\n",
      " 'contactPoint': {'@type': 'vcard:Contact',\n",
      "                  'fn': 'Asghar Noor',\n",
      "                  'hasEmail': 'mailto:Asghar.noor@sba.gov'},\n",
      " 'description': 'This dataset is the developer software whitelist approved by '\n",
      "                'the Agency’s Architecture Review Board(ARB)',\n",
      " 'identifier': 'SBA-ARB-2017-05-002',\n",
      " 'keyword': ['ARB', 'Developer', 'SBA', 'Software Whitelist'],\n",
      " 'license': 'https://www.usa.gov/publicdomain/label/1.0/',\n",
      " 'modified': '2015-12-17',\n",
      " 'programCode': ['028:000'],\n",
      " 'publisher': {'@type': 'org:Organization',\n",
      "               'name': 'U.S. Small Business Administration'},\n",
      " 'title': 'The Developer Software Whitelist Approved by ARB'}\n"
     ]
    }
   ],
   "source": [
    "for dataset in service_data[\"dataset\"]:\n",
    "    pprint.pprint(dataset[\"title\"])\n",
    "    if \"The Developer Software Whitelist Approved by ARB\" in dataset[\"title\"]:\n",
    "        pprint.pprint(dataset)"
   ]
  },
  {
   "cell_type": "code",
   "execution_count": 24,
   "metadata": {
    "ExecuteTime": {
     "end_time": "2017-08-09T16:08:49.233227Z",
     "start_time": "2017-08-09T16:08:49.207227Z"
    }
   },
   "outputs": [
    {
     "data": {
      "text/plain": [
       "set()"
      ]
     },
     "execution_count": 24,
     "metadata": {},
     "output_type": "execute_result"
    }
   ],
   "source": [
    "set(dataset_types)"
   ]
  },
  {
   "cell_type": "code",
   "execution_count": 88,
   "metadata": {
    "ExecuteTime": {
     "end_time": "2017-08-09T18:27:18.026801Z",
     "start_time": "2017-08-09T18:26:30.305801Z"
    }
   },
   "outputs": [
    {
     "name": "stderr",
     "output_type": "stream",
     "text": [
      "C:\\Users\\smadhavan\\AppData\\Local\\Continuum\\Anaconda3\\lib\\site-packages\\IPython\\core\\interactiveshell.py:2717: DtypeWarning: Columns (0,1,3,15,18,40,51,61,67,73,83,93,99,105,115,125,131,137,143,145) have mixed types. Specify dtype option on import or set low_memory=False.\n",
      "  interactivity=interactivity, compiler=compiler, result=result)\n"
     ]
    }
   ],
   "source": [
    "sam_data=pd.read_csv(\"./SAM_PUBLIC_UTF-8_MONTHLY_20170806/SAM_PUBLIC_UTF-8_MONTHLY_20170806.dat\", sep=\"|\", skiprows=1, header=None)"
   ]
  },
  {
   "cell_type": "code",
   "execution_count": 76,
   "metadata": {
    "ExecuteTime": {
     "end_time": "2017-08-09T18:19:09.712601Z",
     "start_time": "2017-08-09T18:19:09.641601Z"
    }
   },
   "outputs": [
    {
     "data": {
      "text/plain": [
       "Index(['928338656', 'Unnamed: 1', '81341', 'Unnamed: 3', 'A', 'Z4', '20061102',\n",
       "       '20180414', '20170414', '20170414.1',\n",
       "       ...\n",
       "       '0000.1', 'Unnamed: 141', 'N.1', 'Unnamed: 143', '0000.2',\n",
       "       'Unnamed: 145', 'Unnamed: 146', '0000.3', 'Unnamed: 148', '!end'],\n",
       "      dtype='object', length=150)"
      ]
     },
     "execution_count": 76,
     "metadata": {},
     "output_type": "execute_result"
    }
   ],
   "source": [
    "sam_data.columns"
   ]
  },
  {
   "cell_type": "code",
   "execution_count": 128,
   "metadata": {
    "ExecuteTime": {
     "end_time": "2017-08-09T19:55:33.615626Z",
     "start_time": "2017-08-09T19:55:33.607626Z"
    }
   },
   "outputs": [],
   "source": [
    "indices=[i for i in range(0,4)]\n",
    "indices+=[i for i in range(10,12)]\n",
    "indices+=[i for i in range(14,22)]\n",
    "indices+=[i for i in range(24,35)]\n",
    "indices+=[i for i in range(144,146)]\n",
    "\n"
   ]
  },
  {
   "cell_type": "code",
   "execution_count": 129,
   "metadata": {
    "ExecuteTime": {
     "end_time": "2017-08-09T19:55:34.729626Z",
     "start_time": "2017-08-09T19:55:34.529626Z"
    }
   },
   "outputs": [],
   "source": [
    "sam_required_fields=sam_data.iloc[:,indices]"
   ]
  },
  {
   "cell_type": "code",
   "execution_count": 130,
   "metadata": {
    "ExecuteTime": {
     "end_time": "2017-08-09T19:55:35.321626Z",
     "start_time": "2017-08-09T19:55:35.306626Z"
    }
   },
   "outputs": [
    {
     "data": {
      "text/plain": [
       "(668193, 27)"
      ]
     },
     "execution_count": 130,
     "metadata": {},
     "output_type": "execute_result"
    }
   ],
   "source": [
    "sam_required_fields.shape"
   ]
  },
  {
   "cell_type": "code",
   "execution_count": 131,
   "metadata": {
    "ExecuteTime": {
     "end_time": "2017-08-09T19:55:36.207626Z",
     "start_time": "2017-08-09T19:55:36.188626Z"
    }
   },
   "outputs": [
    {
     "data": {
      "text/plain": [
       "Int64Index([  0,   1,   2,   3,  10,  11,  14,  15,  16,  17,  18,  19,  20,\n",
       "             21,  24,  25,  26,  27,  28,  29,  30,  31,  32,  33,  34, 144,\n",
       "            145],\n",
       "           dtype='int64')"
      ]
     },
     "execution_count": 131,
     "metadata": {},
     "output_type": "execute_result"
    }
   ],
   "source": [
    "sam_required_fields.columns"
   ]
  },
  {
   "cell_type": "code",
   "execution_count": null,
   "metadata": {
    "collapsed": true
   },
   "outputs": [],
   "source": []
  },
  {
   "cell_type": "code",
   "execution_count": 117,
   "metadata": {
    "ExecuteTime": {
     "end_time": "2017-08-09T19:34:22.181626Z",
     "start_time": "2017-08-09T19:34:22.149626Z"
    }
   },
   "outputs": [],
   "source": [
    "small_businesses=sam_required_fields[sam_required_fields.iloc[:,26]>0]"
   ]
  },
  {
   "cell_type": "code",
   "execution_count": 132,
   "metadata": {
    "ExecuteTime": {
     "end_time": "2017-08-09T19:55:44.975626Z",
     "start_time": "2017-08-09T19:55:44.962626Z"
    }
   },
   "outputs": [
    {
     "data": {
      "text/plain": [
       "Int64Index([  0,   1,   2,   3,  10,  11,  14,  15,  16,  17,  18,  19,  20,\n",
       "             21,  24,  25,  26,  27,  28,  29,  30,  31,  32,  33,  34, 144,\n",
       "            145],\n",
       "           dtype='int64')"
      ]
     },
     "execution_count": 132,
     "metadata": {},
     "output_type": "execute_result"
    }
   ],
   "source": [
    "sam_required_fields.columns\n"
   ]
  },
  {
   "cell_type": "code",
   "execution_count": 133,
   "metadata": {
    "ExecuteTime": {
     "end_time": "2017-08-09T19:55:50.131626Z",
     "start_time": "2017-08-09T19:55:50.114626Z"
    }
   },
   "outputs": [],
   "source": [
    "sam_required_fields.columns = [\"DUNS\", \"DUNS4\", \"CAGE_CODE\", \"DODAAC\", \"LEGAL_BUSINESS_NAME\", \"DBA_NAME\",\n",
    "                            \"PHYSICAL_ADDRESS_LINE_1\", \"PHYSICAL_ADDRESS_LINE_2\",\n",
    "                            \"PHYSICAL_ADDRESS_CITY\",\"PHYSICAL_ADDRESS_PROVINCE_OR_STATE\",\n",
    "                            \"PHYSICAL_ADDRESS_ZIP\", \"PHYSICAL_ADDRESS_ZIP4\",\n",
    "                            \"PHYSICAL_ADDRESS_COUNTRY_CODE\", \"ENTITY_CONGRESSIONAL_DISTRICT\",\n",
    "                            \"CORPORATE_URL\",\"ENTITY_STRUCTURE\", \"STATE_OF INC\", \"COUNTRY_OF_INC\",\n",
    "                            \"BUSINESS_TYPE_COUNTER\",\"BUSINESS_TYPES\",\"PRIMARY_NAICS\",\n",
    "                            \"NAICS_CODE_COUNTER\", \"NAICS_CODES\",\"PSC_CODE_COUNTER\",\n",
    "                            \"PSC_CODES\", \"SBA_BUSINESS_TYPES_COUNTER\", \"SBA_BUSINESS_TYPES\"]"
   ]
  },
  {
   "cell_type": "code",
   "execution_count": 135,
   "metadata": {
    "ExecuteTime": {
     "end_time": "2017-08-09T20:38:22.896626Z",
     "start_time": "2017-08-09T20:38:10.852626Z"
    }
   },
   "outputs": [],
   "source": [
    "sam_required_fields.to_csv(\"sam-entities.csv\", index=False)"
   ]
  },
  {
   "cell_type": "code",
   "execution_count": 136,
   "metadata": {
    "ExecuteTime": {
     "end_time": "2017-08-09T20:51:58.222626Z",
     "start_time": "2017-08-09T20:51:58.202626Z"
    }
   },
   "outputs": [
    {
     "data": {
      "text/plain": [
       "(668193, 27)"
      ]
     },
     "execution_count": 136,
     "metadata": {},
     "output_type": "execute_result"
    }
   ],
   "source": [
    "sam_required_fields.shape"
   ]
  }
 ],
 "metadata": {
  "kernelspec": {
   "display_name": "Python 3",
   "language": "python",
   "name": "python3"
  },
  "language_info": {
   "codemirror_mode": {
    "name": "ipython",
    "version": 3
   },
   "file_extension": ".py",
   "mimetype": "text/x-python",
   "name": "python",
   "nbconvert_exporter": "python",
   "pygments_lexer": "ipython3",
   "version": "3.6.1"
  }
 },
 "nbformat": 4,
 "nbformat_minor": 2
}
