{
 "cells": [
  {
   "cell_type": "code",
   "execution_count": 2,
   "metadata": {
    "ExecuteTime": {
     "end_time": "2017-08-18T18:13:03.736059Z",
     "start_time": "2017-08-18T18:13:02.472435Z"
    }
   },
   "outputs": [],
   "source": [
    "import pandas as pd\n"
   ]
  },
  {
   "cell_type": "code",
   "execution_count": 17,
   "metadata": {
    "ExecuteTime": {
     "end_time": "2017-08-18T20:43:48.420961Z",
     "start_time": "2017-08-18T20:42:33.560476Z"
    }
   },
   "outputs": [
    {
     "name": "stderr",
     "output_type": "stream",
     "text": [
      "C:\\Users\\smadhavan\\AppData\\Local\\Continuum\\Anaconda3\\lib\\site-packages\\IPython\\core\\interactiveshell.py:2717: DtypeWarning: Columns (26) have mixed types. Specify dtype option on import or set low_memory=False.\n",
      "  interactivity=interactivity, compiler=compiler, result=result)\n"
     ]
    }
   ],
   "source": [
    "patent_assignee_mapping=pd.read_csv(\"./patent_assignee/patent_assignee.tsv\", sep=\"\\t\", low_memory=False)\n",
    "\n",
    "patent_results=pd.read_csv(\"./green_patent_results_redo.csv\", \n",
    "                           dtype={'Emerging low carbon-Additional energy sources':bool,\n",
    "                                  'Emerging low carbon-All-purpose':bool, 'Emerging low carbon-Alternative fuel':bool,\n",
    "                                  'Emerging low carbon-Alternative fuel vehicle':bool, 'Emerging low carbon-Battery':bool,\n",
    "                                  'Emerging low carbon-Building technologies':bool,'Emerging low carbon-Carbon capture & storage':bool,\n",
    "                                  'Emerging low carbon-Electrochemical processes':bool,'Emerging low carbon-Energy management':bool,\n",
    "                                  'Environmental-Air pollution':bool,'Environmental-All-purpose':bool,\n",
    "                                  'Environmental-Biological treatment':bool,'Environmental-Contaminated land reclamation & remediation':bool,\n",
    "                                  '\"Environmental-Environmental monitoring':bool,' instrumentation and analysis\"':bool,\n",
    "                                  'Environmental-Marine pollution control':bool,'Environmental-Noise & vibration control':bool,\n",
    "                                  'Environmental-Recovery and recycling':bool,'Environmental-Waste management':bool,\n",
    "                                  'Environmental-Water supply & waste water treatment':bool,'General-':bool,\n",
    "                                  'Renewable energy-All-purpose':bool,'Renewable energy-Biomass':bool,\n",
    "                                  'Renewable energy-Geothermal':bool,'Renewable energy-Photovoltaic & solar':bool,\n",
    "                                  'Renewable energy-Wave & Tidal':bool,'Renewable energy-Wind':bool,'user_id': str})\n",
    "\n",
    "patent_results.id=patent_results.id.astype(str)\n",
    "patent_results=patent_results[patent_results.id!=\"nan\"]\n",
    "\n",
    "patent_assignee_mapping.assignee_id=patent_assignee_mapping.assignee_id.astype(str)\n",
    "patent_assignee_mapping.patent_id=patent_assignee_mapping.patent_id.astype(str)\n",
    "\n",
    "patent_assignee_mapping=patent_assignee_mapping[patent_assignee_mapping.assignee_id!=\"nan\"]\n",
    "patent_assignee_mapping=patent_assignee_mapping[patent_assignee_mapping.patent_id!=\"nan\"]\n",
    "\n",
    "selected_patents=patent_results[patent_results.iloc[:,:26].any(axis=1)]\n",
    "selected_patent_details=pd.merge(selected_patents, patent_assignee_mapping, how=\"inner\", left_on=\"id\", right_on=\"patent_id\")\n",
    "selected_patent_details.reset_index(drop=True, inplace=True)"
   ]
  },
  {
   "cell_type": "code",
   "execution_count": 8,
   "metadata": {
    "ExecuteTime": {
     "end_time": "2017-08-18T18:15:06.355417Z",
     "start_time": "2017-08-18T18:15:04.935790Z"
    }
   },
   "outputs": [],
   "source": [
    "assignee_details=pd.read_csv(\"./location_assignee/location_assignee.tsv\", sep=\"\\t\", encoding=\"latin-1\")\n",
    "#assignee_details.location_id=assignee_details.location_id.astype(str)\n",
    "\n",
    "location=pd.read_csv(\"./location/location.tsv\",sep=\"\\t\", encoding=\"latin-1\")\n",
    "location.id=location.id.astype(str)\n",
    "location=location[location.id!=\"nan\"]\n",
    "location=location.assign(country=location.country.str.lower())\n",
    "location.country =location.country.astype(str)\n",
    "location=location[location.country!=\"nan\"]\n",
    "\n",
    "us_locations=location[location.country==\"us\"]\n",
    "\n"
   ]
  },
  {
   "cell_type": "code",
   "execution_count": 18,
   "metadata": {
    "ExecuteTime": {
     "end_time": "2017-08-18T20:48:47.540870Z",
     "start_time": "2017-08-18T20:48:00.362153Z"
    }
   },
   "outputs": [],
   "source": [
    "raw_assignee=pd.read_csv(\"./rawassignee/rawassignee.tsv\", sep=\"\\t\", encoding=\"latin-1\")"
   ]
  },
  {
   "cell_type": "code",
   "execution_count": 14,
   "metadata": {
    "ExecuteTime": {
     "end_time": "2017-08-18T18:20:15.307759Z",
     "start_time": "2017-08-18T18:20:14.964552Z"
    }
   },
   "outputs": [],
   "source": [
    "us_assignees=pd.merge(left=assignee_details, right=us_locations, how=\"inner\", left_on=\"location_id\", right_on=\"id\")"
   ]
  },
  {
   "cell_type": "code",
   "execution_count": 15,
   "metadata": {
    "ExecuteTime": {
     "end_time": "2017-08-18T18:20:23.435515Z",
     "start_time": "2017-08-18T18:20:23.373114Z"
    }
   },
   "outputs": [
    {
     "data": {
      "text/html": [
       "<div>\n",
       "<style>\n",
       "    .dataframe thead tr:only-child th {\n",
       "        text-align: right;\n",
       "    }\n",
       "\n",
       "    .dataframe thead th {\n",
       "        text-align: left;\n",
       "    }\n",
       "\n",
       "    .dataframe tbody tr th {\n",
       "        vertical-align: top;\n",
       "    }\n",
       "</style>\n",
       "<table border=\"1\" class=\"dataframe\">\n",
       "  <thead>\n",
       "    <tr style=\"text-align: right;\">\n",
       "      <th></th>\n",
       "      <th>location_id</th>\n",
       "      <th>assignee_id</th>\n",
       "      <th>id</th>\n",
       "      <th>city</th>\n",
       "      <th>state</th>\n",
       "      <th>country</th>\n",
       "      <th>latitude</th>\n",
       "      <th>longitude</th>\n",
       "      <th>county</th>\n",
       "      <th>state_fips</th>\n",
       "      <th>county_fips</th>\n",
       "    </tr>\n",
       "  </thead>\n",
       "  <tbody>\n",
       "    <tr>\n",
       "      <th>0</th>\n",
       "      <td>1lsd4phk95cz</td>\n",
       "      <td>eaa92f175be7bfb71011f17eafb1e71f</td>\n",
       "      <td>1lsd4phk95cz</td>\n",
       "      <td>New York</td>\n",
       "      <td>NY</td>\n",
       "      <td>us</td>\n",
       "      <td>40.7128</td>\n",
       "      <td>-74.0059</td>\n",
       "      <td>New York</td>\n",
       "      <td>36.0</td>\n",
       "      <td>61.0</td>\n",
       "    </tr>\n",
       "    <tr>\n",
       "      <th>1</th>\n",
       "      <td>1lsd4phk95cz</td>\n",
       "      <td>081507e638fca84980f88a3c3f5cd1fa</td>\n",
       "      <td>1lsd4phk95cz</td>\n",
       "      <td>New York</td>\n",
       "      <td>NY</td>\n",
       "      <td>us</td>\n",
       "      <td>40.7128</td>\n",
       "      <td>-74.0059</td>\n",
       "      <td>New York</td>\n",
       "      <td>36.0</td>\n",
       "      <td>61.0</td>\n",
       "    </tr>\n",
       "    <tr>\n",
       "      <th>2</th>\n",
       "      <td>1lsd4phk95cz</td>\n",
       "      <td>03810188291c60318b5b0da566c266fb</td>\n",
       "      <td>1lsd4phk95cz</td>\n",
       "      <td>New York</td>\n",
       "      <td>NY</td>\n",
       "      <td>us</td>\n",
       "      <td>40.7128</td>\n",
       "      <td>-74.0059</td>\n",
       "      <td>New York</td>\n",
       "      <td>36.0</td>\n",
       "      <td>61.0</td>\n",
       "    </tr>\n",
       "    <tr>\n",
       "      <th>3</th>\n",
       "      <td>1lsd4phk95cz</td>\n",
       "      <td>8ade0461583db966b44d2919bd92d573</td>\n",
       "      <td>1lsd4phk95cz</td>\n",
       "      <td>New York</td>\n",
       "      <td>NY</td>\n",
       "      <td>us</td>\n",
       "      <td>40.7128</td>\n",
       "      <td>-74.0059</td>\n",
       "      <td>New York</td>\n",
       "      <td>36.0</td>\n",
       "      <td>61.0</td>\n",
       "    </tr>\n",
       "    <tr>\n",
       "      <th>4</th>\n",
       "      <td>1lsd4phk95cz</td>\n",
       "      <td>16a3c06ac5a35d37d0a38581f1d019c8</td>\n",
       "      <td>1lsd4phk95cz</td>\n",
       "      <td>New York</td>\n",
       "      <td>NY</td>\n",
       "      <td>us</td>\n",
       "      <td>40.7128</td>\n",
       "      <td>-74.0059</td>\n",
       "      <td>New York</td>\n",
       "      <td>36.0</td>\n",
       "      <td>61.0</td>\n",
       "    </tr>\n",
       "  </tbody>\n",
       "</table>\n",
       "</div>"
      ],
      "text/plain": [
       "    location_id                       assignee_id            id      city  \\\n",
       "0  1lsd4phk95cz  eaa92f175be7bfb71011f17eafb1e71f  1lsd4phk95cz  New York   \n",
       "1  1lsd4phk95cz  081507e638fca84980f88a3c3f5cd1fa  1lsd4phk95cz  New York   \n",
       "2  1lsd4phk95cz  03810188291c60318b5b0da566c266fb  1lsd4phk95cz  New York   \n",
       "3  1lsd4phk95cz  8ade0461583db966b44d2919bd92d573  1lsd4phk95cz  New York   \n",
       "4  1lsd4phk95cz  16a3c06ac5a35d37d0a38581f1d019c8  1lsd4phk95cz  New York   \n",
       "\n",
       "  state country  latitude  longitude    county  state_fips  county_fips  \n",
       "0    NY      us   40.7128   -74.0059  New York        36.0         61.0  \n",
       "1    NY      us   40.7128   -74.0059  New York        36.0         61.0  \n",
       "2    NY      us   40.7128   -74.0059  New York        36.0         61.0  \n",
       "3    NY      us   40.7128   -74.0059  New York        36.0         61.0  \n",
       "4    NY      us   40.7128   -74.0059  New York        36.0         61.0  "
      ]
     },
     "execution_count": 15,
     "metadata": {},
     "output_type": "execute_result"
    }
   ],
   "source": [
    "us_assignees.head()"
   ]
  }
 ],
 "metadata": {
  "kernelspec": {
   "display_name": "Python 3",
   "language": "python",
   "name": "python3"
  },
  "language_info": {
   "codemirror_mode": {
    "name": "ipython",
    "version": 3
   },
   "file_extension": ".py",
   "mimetype": "text/x-python",
   "name": "python",
   "nbconvert_exporter": "python",
   "pygments_lexer": "ipython3",
   "version": "3.6.5"
  },
  "toc": {
   "base_numbering": 1,
   "nav_menu": {},
   "number_sections": true,
   "sideBar": true,
   "skip_h1_title": false,
   "title_cell": "Table of Contents",
   "title_sidebar": "Contents",
   "toc_cell": false,
   "toc_position": {},
   "toc_section_display": true,
   "toc_window_display": false
  },
  "varInspector": {
   "cols": {
    "lenName": 16,
    "lenType": 16,
    "lenVar": 40
   },
   "kernels_config": {
    "python": {
     "delete_cmd_postfix": "",
     "delete_cmd_prefix": "del ",
     "library": "var_list.py",
     "varRefreshCmd": "print(var_dic_list())"
    },
    "r": {
     "delete_cmd_postfix": ") ",
     "delete_cmd_prefix": "rm(",
     "library": "var_list.r",
     "varRefreshCmd": "cat(var_dic_list()) "
    }
   },
   "types_to_exclude": [
    "module",
    "function",
    "builtin_function_or_method",
    "instance",
    "_Feature"
   ],
   "window_display": false
  }
 },
 "nbformat": 4,
 "nbformat_minor": 2
}
